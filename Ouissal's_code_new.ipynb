{
 "cells": [
  {
   "cell_type": "markdown",
   "metadata": {},
   "source": [
    "# <font color=blue><div align=\"center\">Seats Allocation within an Aircraft</div></font>\n",
    "\n",
    "### <font color=blue><div align=\"center\">29-02-2024</div></font>"
   ]
  },
  {
   "cell_type": "markdown",
   "metadata": {},
   "source": [
    "## Modules"
   ]
  },
  {
   "cell_type": "code",
   "execution_count": null,
   "metadata": {},
   "outputs": [],
   "source": [
    "# Basic modules\n",
    "import numpy as np\n",
    "import matplotlib.pyplot as plt\n",
    "import pandas as pd\n",
    "import matplotlib.pyplot as plt\n",
    "from matplotlib.table import Table\n",
    "import random\n",
    "\n",
    "# Gurobi module\n",
    "from gurobipy import *"
   ]
  },
  {
   "cell_type": "markdown",
   "metadata": {},
   "source": [
    "## Data Extraction"
   ]
  },
  {
   "cell_type": "code",
   "execution_count": null,
   "metadata": {},
   "outputs": [],
   "source": [
    "# Load the Excel file into a pandas DataFrame\n",
    "\n",
    "\n",
    "df_21Oct = pd.read_excel('./ST7 - AirFrance/DataSeating 2024.xlsx', sheet_name=0 , skipfooter=2)\n",
    "df_22Oct = pd.read_excel('./ST7 - AirFrance/DataSeating 2024.xlsx', sheet_name=1 , skipfooter=2)\n",
    "df_23Oct = pd.read_excel('./ST7 - AirFrance/DataSeating 2024.xlsx', sheet_name=2 , skipfooter=2)\n",
    "df_24Oct = pd.read_excel('./ST7 - AirFrance/DataSeating 2024.xlsx', sheet_name=3 , skipfooter=2)\n",
    "df_30Oct = pd.read_excel('./ST7 - AirFrance/DataSeating 2024.xlsx', sheet_name=4 , skipfooter=2)\n",
    "df_05Nov = pd.read_excel('./ST7 - AirFrance/DataSeating 2024.xlsx', sheet_name=5 , skipfooter=2)\n",
    "df_07Nov = pd.read_excel('./ST7 - AirFrance/DataSeating 2024.xlsx', sheet_name=6 , skipfooter=2)\n"
   ]
  },
  {
   "cell_type": "code",
   "execution_count": null,
   "metadata": {},
   "outputs": [
    {
     "data": {
      "text/html": [
       "<div>\n",
       "<style scoped>\n",
       "    .dataframe tbody tr th:only-of-type {\n",
       "        vertical-align: middle;\n",
       "    }\n",
       "\n",
       "    .dataframe tbody tr th {\n",
       "        vertical-align: top;\n",
       "    }\n",
       "\n",
       "    .dataframe thead th {\n",
       "        text-align: right;\n",
       "    }\n",
       "</style>\n",
       "<table border=\"1\" class=\"dataframe\">\n",
       "  <thead>\n",
       "    <tr style=\"text-align: right;\">\n",
       "      <th></th>\n",
       "      <th>Numéro du groupe</th>\n",
       "      <th>Femmes</th>\n",
       "      <th>Hommes</th>\n",
       "      <th>WCHR</th>\n",
       "      <th>TransitTime</th>\n",
       "    </tr>\n",
       "  </thead>\n",
       "  <tbody>\n",
       "    <tr>\n",
       "      <th>0</th>\n",
       "      <td>1</td>\n",
       "      <td>NaN</td>\n",
       "      <td>1.0</td>\n",
       "      <td>NaN</td>\n",
       "      <td>00:00:00</td>\n",
       "    </tr>\n",
       "    <tr>\n",
       "      <th>1</th>\n",
       "      <td>2</td>\n",
       "      <td>1.0</td>\n",
       "      <td>NaN</td>\n",
       "      <td>NaN</td>\n",
       "      <td>02:20:00</td>\n",
       "    </tr>\n",
       "    <tr>\n",
       "      <th>2</th>\n",
       "      <td>3</td>\n",
       "      <td>1.0</td>\n",
       "      <td>1.0</td>\n",
       "      <td>NaN</td>\n",
       "      <td>00:55:00</td>\n",
       "    </tr>\n",
       "    <tr>\n",
       "      <th>3</th>\n",
       "      <td>4</td>\n",
       "      <td>NaN</td>\n",
       "      <td>1.0</td>\n",
       "      <td>NaN</td>\n",
       "      <td>00:00:00</td>\n",
       "    </tr>\n",
       "    <tr>\n",
       "      <th>4</th>\n",
       "      <td>5</td>\n",
       "      <td>1.0</td>\n",
       "      <td>NaN</td>\n",
       "      <td>NaN</td>\n",
       "      <td>00:00:00</td>\n",
       "    </tr>\n",
       "    <tr>\n",
       "      <th>...</th>\n",
       "      <td>...</td>\n",
       "      <td>...</td>\n",
       "      <td>...</td>\n",
       "      <td>...</td>\n",
       "      <td>...</td>\n",
       "    </tr>\n",
       "    <tr>\n",
       "      <th>116</th>\n",
       "      <td>117</td>\n",
       "      <td>2.0</td>\n",
       "      <td>NaN</td>\n",
       "      <td>NaN</td>\n",
       "      <td>01:05:00</td>\n",
       "    </tr>\n",
       "    <tr>\n",
       "      <th>117</th>\n",
       "      <td>118</td>\n",
       "      <td>1.0</td>\n",
       "      <td>NaN</td>\n",
       "      <td>NaN</td>\n",
       "      <td>01:35:00</td>\n",
       "    </tr>\n",
       "    <tr>\n",
       "      <th>118</th>\n",
       "      <td>119</td>\n",
       "      <td>NaN</td>\n",
       "      <td>1.0</td>\n",
       "      <td>NaN</td>\n",
       "      <td>01:35:00</td>\n",
       "    </tr>\n",
       "    <tr>\n",
       "      <th>119</th>\n",
       "      <td>120</td>\n",
       "      <td>NaN</td>\n",
       "      <td>1.0</td>\n",
       "      <td>NaN</td>\n",
       "      <td>00:00:00</td>\n",
       "    </tr>\n",
       "    <tr>\n",
       "      <th>120</th>\n",
       "      <td>121</td>\n",
       "      <td>1.0</td>\n",
       "      <td>1.0</td>\n",
       "      <td>NaN</td>\n",
       "      <td>01:25:00</td>\n",
       "    </tr>\n",
       "  </tbody>\n",
       "</table>\n",
       "<p>121 rows × 5 columns</p>\n",
       "</div>"
      ],
      "text/plain": [
       "     Numéro du groupe  Femmes  Hommes  WCHR TransitTime\n",
       "0                   1     NaN     1.0   NaN    00:00:00\n",
       "1                   2     1.0     NaN   NaN    02:20:00\n",
       "2                   3     1.0     1.0   NaN    00:55:00\n",
       "3                   4     NaN     1.0   NaN    00:00:00\n",
       "4                   5     1.0     NaN   NaN    00:00:00\n",
       "..                ...     ...     ...   ...         ...\n",
       "116               117     2.0     NaN   NaN    01:05:00\n",
       "117               118     1.0     NaN   NaN    01:35:00\n",
       "118               119     NaN     1.0   NaN    01:35:00\n",
       "119               120     NaN     1.0   NaN    00:00:00\n",
       "120               121     1.0     1.0   NaN    01:25:00\n",
       "\n",
       "[121 rows x 5 columns]"
      ]
     },
     "execution_count": 4,
     "metadata": {},
     "output_type": "execute_result"
    }
   ],
   "source": [
    "# Display the DataFrame\n",
    "df = df_21Oct\n",
    "df"
   ]
  },
  {
   "cell_type": "code",
   "execution_count": null,
   "metadata": {},
   "outputs": [
    {
     "data": {
      "text/plain": [
       "{1: {'gender': 1, 'group': 1, 'transit': inf},\n",
       " 2: {'gender': 0, 'group': 2, 'transit': 140},\n",
       " 3: {'gender': 0, 'group': 3, 'transit': 55},\n",
       " 4: {'gender': 1, 'group': 3, 'transit': 55},\n",
       " 5: {'gender': 1, 'group': 4, 'transit': inf},\n",
       " 6: {'gender': 0, 'group': 5, 'transit': inf},\n",
       " 7: {'gender': 0, 'group': 6, 'transit': 55},\n",
       " 8: {'gender': 1, 'group': 6, 'transit': 55},\n",
       " 9: {'gender': 1, 'group': 7, 'transit': inf},\n",
       " 10: {'gender': 1, 'group': 8, 'transit': 90},\n",
       " 11: {'gender': 1, 'group': 8, 'transit': 90},\n",
       " 12: {'gender': 1, 'group': 9, 'transit': inf},\n",
       " 13: {'gender': 1, 'group': 10, 'transit': inf},\n",
       " 14: {'gender': 0, 'group': 11, 'transit': 130},\n",
       " 15: {'gender': 1, 'group': 12, 'transit': 130},\n",
       " 16: {'gender': 0, 'group': 13, 'transit': 70},\n",
       " 17: {'gender': 0, 'group': 14, 'transit': 55},\n",
       " 18: {'gender': 1, 'group': 14, 'transit': 55},\n",
       " 19: {'gender': 1, 'group': 15, 'transit': inf},\n",
       " 20: {'gender': 0, 'group': 16, 'transit': 140},\n",
       " 21: {'gender': 0, 'group': 17, 'transit': inf},\n",
       " 22: {'gender': 0, 'group': 18, 'transit': inf},\n",
       " 23: {'gender': 0, 'group': 19, 'transit': 135},\n",
       " 24: {'gender': 0, 'group': 20, 'transit': inf},\n",
       " 25: {'gender': 1, 'group': 21, 'transit': 80},\n",
       " 26: {'gender': 1, 'group': 22, 'transit': inf},\n",
       " 27: {'gender': 0, 'group': 23, 'transit': inf},\n",
       " 28: {'gender': 1, 'group': 24, 'transit': 80},\n",
       " 29: {'gender': 1, 'group': 25, 'transit': inf},\n",
       " 30: {'gender': 1, 'group': 26, 'transit': 80},\n",
       " 31: {'gender': 1, 'group': 26, 'transit': 80},\n",
       " 32: {'gender': 0, 'group': 27, 'transit': inf},\n",
       " 33: {'gender': 1, 'group': 27, 'transit': inf},\n",
       " 34: {'gender': 0, 'group': 28, 'transit': 60},\n",
       " 35: {'gender': 0, 'group': 28, 'transit': 60},\n",
       " 36: {'gender': 0, 'group': 28, 'transit': 60},\n",
       " 37: {'gender': 0, 'group': 28, 'transit': 60},\n",
       " 38: {'gender': 0, 'group': 28, 'transit': 60},\n",
       " 39: {'gender': 0, 'group': 28, 'transit': 60},\n",
       " 40: {'gender': 0, 'group': 28, 'transit': 60},\n",
       " 41: {'gender': 0, 'group': 28, 'transit': 60},\n",
       " 42: {'gender': 0, 'group': 28, 'transit': 60},\n",
       " 43: {'gender': 0, 'group': 28, 'transit': 60},\n",
       " 44: {'gender': 0, 'group': 28, 'transit': 60},\n",
       " 45: {'gender': 0, 'group': 28, 'transit': 60},\n",
       " 46: {'gender': 0, 'group': 28, 'transit': 60},\n",
       " 47: {'gender': 0, 'group': 28, 'transit': 60},\n",
       " 48: {'gender': 0, 'group': 28, 'transit': 60},\n",
       " 49: {'gender': 0, 'group': 28, 'transit': 60},\n",
       " 50: {'gender': 0, 'group': 28, 'transit': 60},\n",
       " 51: {'gender': 0, 'group': 28, 'transit': 60},\n",
       " 52: {'gender': 0, 'group': 28, 'transit': 60},\n",
       " 53: {'gender': 0, 'group': 29, 'transit': inf},\n",
       " 54: {'gender': 0, 'group': 30, 'transit': 95},\n",
       " 55: {'gender': 1, 'group': 31, 'transit': 120},\n",
       " 56: {'gender': 1, 'group': 32, 'transit': inf},\n",
       " 57: {'gender': 0, 'group': 33, 'transit': 70},\n",
       " 58: {'gender': 0, 'group': 34, 'transit': 75},\n",
       " 59: {'gender': 0, 'group': 34, 'transit': 75},\n",
       " 60: {'gender': 0, 'group': 35, 'transit': inf},\n",
       " 61: {'gender': 0, 'group': 36, 'transit': 80},\n",
       " 62: {'gender': 1, 'group': 36, 'transit': 80},\n",
       " 63: {'gender': 0, 'group': 37, 'transit': 100},\n",
       " 64: {'gender': 1, 'group': 37, 'transit': 100},\n",
       " 65: {'gender': 0, 'group': 38, 'transit': 80},\n",
       " 66: {'gender': 1, 'group': 39, 'transit': inf},\n",
       " 67: {'gender': 1, 'group': 40, 'transit': inf},\n",
       " 68: {'gender': 1, 'group': 41, 'transit': 60},\n",
       " 69: {'gender': 0, 'group': 42, 'transit': 105},\n",
       " 70: {'gender': 0, 'group': 43, 'transit': 105},\n",
       " 71: {'gender': 1, 'group': 43, 'transit': 105},\n",
       " 72: {'gender': 0, 'group': 44, 'transit': 105},\n",
       " 73: {'gender': 1, 'group': 44, 'transit': 105},\n",
       " 74: {'gender': 0, 'group': 45, 'transit': inf},\n",
       " 75: {'gender': 1, 'group': 46, 'transit': inf},\n",
       " 76: {'gender': 0, 'group': 47, 'transit': 80},\n",
       " 77: {'gender': 0, 'group': 47, 'transit': 80},\n",
       " 78: {'gender': 0, 'group': 47, 'transit': 80},\n",
       " 79: {'gender': 0, 'group': 48, 'transit': inf},\n",
       " 80: {'gender': 1, 'group': 49, 'transit': 130},\n",
       " 81: {'gender': 1, 'group': 50, 'transit': inf},\n",
       " 82: {'gender': 0, 'group': 51, 'transit': inf},\n",
       " 83: {'gender': 1, 'group': 52, 'transit': inf},\n",
       " 84: {'gender': 1, 'group': 53, 'transit': inf},\n",
       " 85: {'gender': 1, 'group': 54, 'transit': 95},\n",
       " 86: {'gender': 0, 'group': 55, 'transit': 70},\n",
       " 87: {'gender': 1, 'group': 55, 'transit': 70},\n",
       " 88: {'gender': 0, 'group': 56, 'transit': inf},\n",
       " 89: {'gender': 0, 'group': 57, 'transit': inf},\n",
       " 90: {'gender': 1, 'group': 58, 'transit': inf},\n",
       " 91: {'gender': 1, 'group': 59, 'transit': 140},\n",
       " 92: {'gender': 0, 'group': 60, 'transit': inf},\n",
       " 93: {'gender': 1, 'group': 61, 'transit': inf},\n",
       " 94: {'gender': 0, 'group': 62, 'transit': 45},\n",
       " 95: {'gender': 0, 'group': 62, 'transit': 45},\n",
       " 96: {'gender': 0, 'group': 63, 'transit': 75},\n",
       " 97: {'gender': 1, 'group': 63, 'transit': 75},\n",
       " 98: {'gender': 0, 'group': 64, 'transit': 110},\n",
       " 99: {'gender': 1, 'group': 65, 'transit': 70},\n",
       " 100: {'gender': 1, 'group': 65, 'transit': 70},\n",
       " 101: {'gender': 0, 'group': 66, 'transit': 80},\n",
       " 102: {'gender': 1, 'group': 66, 'transit': 80},\n",
       " 103: {'gender': 0, 'group': 67, 'transit': 65},\n",
       " 104: {'gender': 1, 'group': 67, 'transit': 65},\n",
       " 105: {'gender': 0, 'group': 68, 'transit': inf},\n",
       " 106: {'gender': 1, 'group': 69, 'transit': 90},\n",
       " 107: {'gender': 1, 'group': 70, 'transit': inf},\n",
       " 108: {'gender': 0, 'group': 71, 'transit': inf},\n",
       " 109: {'gender': 0, 'group': 72, 'transit': 45},\n",
       " 110: {'gender': 1, 'group': 72, 'transit': 45},\n",
       " 111: {'gender': 0, 'group': 73, 'transit': inf},\n",
       " 112: {'gender': 0, 'group': 74, 'transit': inf},\n",
       " 113: {'gender': 0, 'group': 75, 'transit': inf},\n",
       " 114: {'gender': 0, 'group': 76, 'transit': 70},\n",
       " 115: {'gender': 1, 'group': 76, 'transit': 70},\n",
       " 116: {'gender': 0, 'group': 77, 'transit': 70},\n",
       " 117: {'gender': 1, 'group': 78, 'transit': inf},\n",
       " 118: {'gender': 0, 'group': 79, 'transit': 85},\n",
       " 119: {'gender': 0, 'group': 79, 'transit': 85},\n",
       " 120: {'gender': 1, 'group': 80, 'transit': 55},\n",
       " 121: {'gender': 1, 'group': 80, 'transit': 55},\n",
       " 122: {'gender': 1, 'group': 81, 'transit': 140},\n",
       " 123: {'gender': 1, 'group': 82, 'transit': 90},\n",
       " 124: {'gender': 0, 'group': 83, 'transit': inf},\n",
       " 125: {'gender': 1, 'group': 84, 'transit': inf},\n",
       " 126: {'gender': 0, 'group': 85, 'transit': 60},\n",
       " 127: {'gender': 1, 'group': 85, 'transit': 60},\n",
       " 128: {'gender': 0, 'group': 86, 'transit': 140},\n",
       " 129: {'gender': 1, 'group': 87, 'transit': inf},\n",
       " 130: {'gender': 0, 'group': 88, 'transit': inf},\n",
       " 131: {'gender': 1, 'group': 89, 'transit': 140},\n",
       " 132: {'gender': 0, 'group': 90, 'transit': inf},\n",
       " 133: {'gender': 1, 'group': 91, 'transit': 55},\n",
       " 134: {'gender': 1, 'group': 91, 'transit': 55},\n",
       " 135: {'gender': 1, 'group': 92, 'transit': inf},\n",
       " 136: {'gender': 0, 'group': 93, 'transit': inf},\n",
       " 137: {'gender': 1, 'group': 94, 'transit': 70},\n",
       " 138: {'gender': 0, 'group': 95, 'transit': 50},\n",
       " 139: {'gender': 1, 'group': 96, 'transit': inf},\n",
       " 140: {'gender': 1, 'group': 97, 'transit': 140},\n",
       " 141: {'gender': 0, 'group': 98, 'transit': 60},\n",
       " 142: {'gender': 1, 'group': 99, 'transit': 140},\n",
       " 143: {'gender': 1, 'group': 100, 'transit': 140},\n",
       " 144: {'gender': 1, 'group': 101, 'transit': 135},\n",
       " 145: {'gender': 0, 'group': 102, 'transit': 120},\n",
       " 146: {'gender': 0, 'group': 103, 'transit': inf},\n",
       " 147: {'gender': 1, 'group': 104, 'transit': inf},\n",
       " 148: {'gender': 1, 'group': 105, 'transit': 90},\n",
       " 149: {'gender': 0, 'group': 106, 'transit': 145},\n",
       " 150: {'gender': 0, 'group': 107, 'transit': 60},\n",
       " 151: {'gender': 0, 'group': 107, 'transit': 60},\n",
       " 152: {'gender': 0, 'group': 108, 'transit': 210},\n",
       " 153: {'gender': 0, 'group': 109, 'transit': 65},\n",
       " 154: {'gender': 0, 'group': 109, 'transit': 65},\n",
       " 155: {'gender': 0, 'group': 109, 'transit': 65},\n",
       " 156: {'gender': 1, 'group': 109, 'transit': 65},\n",
       " 157: {'gender': 0, 'group': 110, 'transit': 70},\n",
       " 158: {'gender': 1, 'group': 111, 'transit': 160},\n",
       " 159: {'gender': 1, 'group': 112, 'transit': 115},\n",
       " 160: {'gender': 1, 'group': 112, 'transit': 115},\n",
       " 161: {'gender': 1, 'group': 113, 'transit': inf},\n",
       " 162: {'gender': 1, 'group': 114, 'transit': 90},\n",
       " 163: {'gender': 0, 'group': 115, 'transit': 60},\n",
       " 164: {'gender': 0, 'group': 115, 'transit': 60},\n",
       " 165: {'gender': 0, 'group': 115, 'transit': 60},\n",
       " 166: {'gender': 0, 'group': 116, 'transit': 325},\n",
       " 167: {'gender': 0, 'group': 117, 'transit': 65},\n",
       " 168: {'gender': 0, 'group': 117, 'transit': 65},\n",
       " 169: {'gender': 0, 'group': 118, 'transit': 95},\n",
       " 170: {'gender': 1, 'group': 119, 'transit': 95},\n",
       " 171: {'gender': 1, 'group': 120, 'transit': inf},\n",
       " 172: {'gender': 0, 'group': 121, 'transit': 85},\n",
       " 173: {'gender': 1, 'group': 121, 'transit': 85}}"
      ]
     },
     "execution_count": 5,
     "metadata": {},
     "output_type": "execute_result"
    }
   ],
   "source": [
    "\n",
    "Passagers = dict()\n",
    "i = 1\n",
    "\n",
    "number_f = 0\n",
    "number_m = 0\n",
    "number_d = 0\n",
    "transit_times= set()\n",
    "for group in df.itertuples():\n",
    "    for j in range(2,5):\n",
    "        if not pd.isna(group[j]):\n",
    "            for k in range(int(group[j])):\n",
    "                Passagers[i] = {'gender': j-2, 'group':group[1], 'transit': float('inf') }\n",
    "                if group[5].hour*60 + group[5].minute != 0:\n",
    "                    Passagers[i]['transit'] = group[5].hour*60 + group[5].minute\n",
    "                    transit_times.add(group[5].hour*60 + group[5].minute)\n",
    "                if j == 2: number_f+=1\n",
    "                elif j==3: number_m+=1\n",
    "                else: number_d+=1\n",
    "\n",
    "                i+=1    \n",
    "Passagers"
   ]
  },
  {
   "cell_type": "code",
   "execution_count": null,
   "metadata": {},
   "outputs": [
    {
     "data": {
      "text/plain": [
       "{3: [3, 4],\n",
       " 6: [7, 8],\n",
       " 8: [10, 11],\n",
       " 14: [17, 18],\n",
       " 26: [30, 31],\n",
       " 27: [32, 33],\n",
       " 28: [34,\n",
       "  35,\n",
       "  36,\n",
       "  37,\n",
       "  38,\n",
       "  39,\n",
       "  40,\n",
       "  41,\n",
       "  42,\n",
       "  43,\n",
       "  44,\n",
       "  45,\n",
       "  46,\n",
       "  47,\n",
       "  48,\n",
       "  49,\n",
       "  50,\n",
       "  51,\n",
       "  52],\n",
       " 34: [58, 59],\n",
       " 36: [61, 62],\n",
       " 37: [63, 64],\n",
       " 43: [70, 71],\n",
       " 44: [72, 73],\n",
       " 47: [76, 77, 78],\n",
       " 55: [86, 87],\n",
       " 62: [94, 95],\n",
       " 63: [96, 97],\n",
       " 65: [99, 100],\n",
       " 66: [101, 102],\n",
       " 67: [103, 104],\n",
       " 72: [109, 110],\n",
       " 76: [114, 115],\n",
       " 79: [118, 119],\n",
       " 80: [120, 121],\n",
       " 85: [126, 127],\n",
       " 91: [133, 134],\n",
       " 107: [150, 151],\n",
       " 109: [153, 154, 155, 156],\n",
       " 112: [159, 160],\n",
       " 115: [163, 164, 165],\n",
       " 117: [167, 168],\n",
       " 121: [172, 173]}"
      ]
     },
     "execution_count": 6,
     "metadata": {},
     "output_type": "execute_result"
    }
   ],
   "source": [
    "Groups = dict()\n",
    "\n",
    "\n",
    "for i, passager in Passagers.items():\n",
    "\n",
    "    if passager['group'] in Groups:\n",
    "        Groups[passager['group']].append(i)\n",
    "    else :\n",
    "        Groups[passager['group']] = [i]\n",
    "\n",
    "Keys = list(Groups.keys()).copy()\n",
    "\n",
    "\n",
    "for i in Keys:\n",
    "        if len(Groups[i]) ==1: del(Groups[i])\n",
    "Groups"
   ]
  },
  {
   "cell_type": "markdown",
   "metadata": {},
   "source": [
    "**Définition des paramètres utiles pour la suite**"
   ]
  },
  {
   "cell_type": "code",
   "execution_count": null,
   "metadata": {},
   "outputs": [],
   "source": [
    "weight_f = 70\n",
    "weight_m = 85\n",
    "weight_d = 92.5\n",
    "if sum([4*number_d,number_f,number_m]) <= 174 :\n",
    "    number_of_rows = 29 #modèle d'avion A320\n",
    "else :\n",
    "    number_of_rows = 35 #modèle d'avion A321\n",
    "\n",
    "number_of_columns = 7 # ajout de la colonne qui correspond à l'allée\n"
   ]
  },
  {
   "cell_type": "markdown",
   "metadata": {},
   "source": [
    "## Model"
   ]
  },
  {
   "cell_type": "markdown",
   "metadata": {},
   "source": [
    "Defining the relevant variables of the problem"
   ]
  },
  {
   "cell_type": "code",
   "execution_count": null,
   "metadata": {},
   "outputs": [
    {
     "name": "stdout",
     "output_type": "stream",
     "text": [
      "Set parameter Username\n",
      "Academic license - for non-commercial use only - expires 2025-02-04\n"
     ]
    }
   ],
   "source": [
    "\n",
    "m = Model(\"Seats_Allocation\")\n",
    "\n",
    "AssignmenVarDict = {(i, j, k) : m.addVar(vtype = GRB.BINARY, name=f'passager_{i}_{j}_{k}')\n",
    "                    for i in range(1, number_of_rows + 1)\n",
    "                    for j in range(1, number_of_columns + 1)\n",
    "                    for k in range(1, len(Passagers)+1)}"
   ]
  },
  {
   "cell_type": "markdown",
   "metadata": {},
   "source": [
    "Les variables entières $i_{min}[g]$ et $i_{max}[g]$ (resp. $j_{min}[g]$ et $j_{max}[g]$) correspondent à la valeur de $i$ (resp. la valeur de $j$) la plus petite et la plus grande dans le groupe $g$."
   ]
  },
  {
   "cell_type": "code",
   "execution_count": null,
   "metadata": {},
   "outputs": [],
   "source": [
    "# Variables X_{min}, X_{max}, Y_{min} et Y_{max}\n",
    "i_min = {g : m.addVar(vtype = GRB.INTEGER, lb = 1 , ub = number_of_rows , name=f'i_min({g})') \n",
    "            for g in Groups.keys()}\n",
    "\n",
    "i_max = {g : m.addVar(vtype = GRB.INTEGER, lb = 1 , ub = number_of_rows , name=f'i_max({g})') \n",
    "            for g in Groups.keys()}\n",
    "\n",
    "j_min = {g : m.addVar(vtype = GRB.INTEGER, lb = 1 , ub = number_of_columns , name=f'j_min({g})') \n",
    "            for g in Groups.keys()}\n",
    "\n",
    "j_max = {g : m.addVar(vtype = GRB.INTEGER, lb = 1 , ub = number_of_columns  , name=f'j_max({g})') \n",
    "            for g in Groups.keys()}"
   ]
  },
  {
   "cell_type": "markdown",
   "metadata": {},
   "source": [
    "### Les contraintes "
   ]
  },
  {
   "cell_type": "markdown",
   "metadata": {},
   "source": [
    "- Contraintes liées à la définition des variables $i_min[g]$, $i_max[g]$, $j_min[g]$, $j_max[g]$"
   ]
  },
  {
   "cell_type": "code",
   "execution_count": null,
   "metadata": {},
   "outputs": [],
   "source": [
    "\n",
    "\n",
    "i_min_Passagers_Group = {(g,p) : m.addConstr(i_min[g] <= quicksum([i*AssignmenVarDict[(i,j,p)] \n",
    "                                                  for i in range(1, number_of_rows + 1) \n",
    "                                                  for j in range(1, number_of_columns + 1)]), \n",
    "                                                  name = f'i_min_Passager_{p}Group_{g}') \n",
    "                                                  for g in Groups.keys()\n",
    "                                                  for p in Groups[g]\n",
    "                                                  }\n",
    "\n",
    "i_max_Passagers_Group = {(g,p) : m.addConstr(i_max[g] >= quicksum([i*AssignmenVarDict[(i,j,p)] \n",
    "                                                  for i in range(1, number_of_rows + 1) \n",
    "                                                  for j in range(1, number_of_columns + 1)]), \n",
    "                                                  name = f'i_max_Passager_{p}Group_{g}') \n",
    "                                                  for g in Groups.keys()\n",
    "                                                  for p in Groups[g]\n",
    "                                                  }\n",
    "\n",
    "j_min_Passagers_Group = {(g,p) : m.addConstr(j_min[g] <= quicksum([j*AssignmenVarDict[(i,j,p)] \n",
    "                                                  for i in range(1, number_of_rows + 1) \n",
    "                                                  for j in range(1, number_of_columns + 1)]), \n",
    "                                                  name = f'j_min_Passager_{p}Group_{g}') \n",
    "                                                  for g in Groups.keys()\n",
    "                                                  for p in Groups[g]\n",
    "                                                  }\n",
    "\n",
    "j_max_Passagers_Group = {(g,p) : m.addConstr(j_max[g] >= quicksum([j*AssignmenVarDict[(i,j,p)] \n",
    "                                                  for i in range(1, number_of_rows + 1) \n",
    "                                                  for j in range(1, number_of_columns + 1)]), \n",
    "                                                  name = f'j_max_Passager_{p}Group_{g}') \n",
    "                                                  for g in Groups.keys()\n",
    "                                                  for p in Groups[g]\n",
    "                                                  }\n",
    "\n"
   ]
  },
  {
   "cell_type": "markdown",
   "metadata": {},
   "source": [
    "- Every person has one seat"
   ]
  },
  {
   "cell_type": "code",
   "execution_count": null,
   "metadata": {},
   "outputs": [],
   "source": [
    "PERSONSEATCONSTDIC = { k: m.addConstr(quicksum([AssignmenVarDict[(i, j, k)]\n",
    "                                                for i in range(1, number_of_rows + 1)\n",
    "                                                for j in range(1, number_of_columns + 1) ])\n",
    "                                                == 1)\n",
    "                                                for k in range(1,len(Passagers)+1) }"
   ]
  },
  {
   "cell_type": "markdown",
   "metadata": {},
   "source": [
    "- Every seat is allocated to a single person"
   ]
  },
  {
   "cell_type": "code",
   "execution_count": null,
   "metadata": {},
   "outputs": [],
   "source": [
    "ALLOCATIONCONSTDIC = { (i,j) : m.addConstr(quicksum([AssignmenVarDict[(i,j,k)]\n",
    "                                                     for k in range(1, len(Passagers)+1)])\n",
    "                                                     <=1)\n",
    "                                                     for i in range(1, number_of_rows + 1)\n",
    "                                                     for j in range(1, number_of_columns+1) }"
   ]
  },
  {
   "cell_type": "markdown",
   "metadata": {},
   "source": [
    "- Personne n'est assis au niveau de l'allée"
   ]
  },
  {
   "cell_type": "code",
   "execution_count": null,
   "metadata": {},
   "outputs": [],
   "source": [
    "AISLECONSTDIC = { i : m.addConstr(quicksum([AssignmenVarDict[(i,4,k)]\n",
    "                                                     for k in range(1, len(Passagers)+1)])\n",
    "                                                     == 0)\n",
    "                                                     for i in range(1, number_of_rows + 1)   \n",
    "}"
   ]
  },
  {
   "cell_type": "markdown",
   "metadata": {},
   "source": [
    "- Barycenter constraint"
   ]
  },
  {
   "cell_type": "code",
   "execution_count": null,
   "metadata": {},
   "outputs": [],
   "source": [
    "\n",
    "i_m = quicksum([weight_m * i* AssignmenVarDict[(i,j,k)]\n",
    "                for i in range(1, number_of_rows+1)\n",
    "                for j in range(1, number_of_columns+1 )\n",
    "                for k in range(1, len(Passagers)+1)\n",
    "                if Passagers[k]['gender']==1])\n",
    "\n",
    "i_f = quicksum([weight_m * i* AssignmenVarDict[(i,j,k)]\n",
    "                for i in range(1, number_of_rows+1)\n",
    "                for j in range(1, number_of_columns+1 )\n",
    "                for k in range(1, len(Passagers)+1)\n",
    "                if Passagers[k]['gender']==0])\n",
    "\n",
    "i_d = quicksum([weight_m * i* AssignmenVarDict[(i,j,k)]\n",
    "                for i in range(1, number_of_rows+1)\n",
    "                for j in range(1, number_of_columns+1 )\n",
    "                for k in range(1, len(Passagers)+1)\n",
    "                if Passagers[k]['gender']==2])\n",
    "\n",
    "i_bary = (i_m + i_f +i_d)/( weight_d* number_d + weight_f * number_f + weight_m * number_m)\n",
    "\n",
    "j_m = quicksum([weight_m * j* AssignmenVarDict[(i,j,k)]\n",
    "                for i in range(1, number_of_rows+1)\n",
    "                for j in range(1, number_of_columns+1 )\n",
    "                for k in range(1, len(Passagers)+1)\n",
    "                if Passagers[k]['gender']==1])\n",
    "\n",
    "j_f = quicksum([weight_m * j* AssignmenVarDict[(i,j,k)]\n",
    "                for i in range(1, number_of_rows+1)\n",
    "                for j in range(1, number_of_columns+1 )\n",
    "                for k in range(1, len(Passagers)+1)\n",
    "                if Passagers[k]['gender']==0])\n",
    "\n",
    "j_d = quicksum([weight_m * j* AssignmenVarDict[(i,j,k)]\n",
    "                for i in range(1, number_of_rows+1)\n",
    "                for j in range(1, number_of_columns+1 )\n",
    "                for k in range(1, len(Passagers)+1)\n",
    "                if Passagers[k]['gender']==2])\n",
    "\n",
    "j_bary = (j_m + j_f + j_d)/( weight_d* number_d + weight_f * number_f + weight_m * number_m)"
   ]
  },
  {
   "cell_type": "code",
   "execution_count": null,
   "metadata": {},
   "outputs": [],
   "source": [
    "IMAXBARYCONST = m.addConstr(i_bary <= 17)\n",
    "IMINBARYCONST = m.addConstr(13 <= i_bary)\n",
    "JMAXBARYCONST = m.addConstr(j_bary <= 5)\n",
    "JMINBARYCONST = m.addConstr(3 <= j_bary )"
   ]
  },
  {
   "cell_type": "markdown",
   "metadata": {},
   "source": [
    "- A disabeled person has 4 seats on the aisle side"
   ]
  },
  {
   "cell_type": "code",
   "execution_count": null,
   "metadata": {},
   "outputs": [],
   "source": [
    "\n",
    "SeatPer_WCHR_CONST = {k: m.addConstr(quicksum([AssignmenVarDict[(i, j, k)] \n",
    "                                               for i in range(1, number_of_rows ) \n",
    "                                               for j in [3, 6] \n",
    "                                               ]) == 1, name=f\"SeatPerWCHR{k}\")\n",
    "                                               for k in range(1, len(Passagers) + 1)\n",
    "                                               if Passagers[k]['gender'] == 2}\n",
    "\n",
    "for k in range(1, len(Passagers) + 1):\n",
    "    if Passagers[k]['gender'] == 2:\n",
    "        for i in range(1, number_of_rows):\n",
    "            for j in [3, 6]:\n",
    "                m.addConstr(AssignmenVarDict[(i, j, k)] + quicksum(\n",
    "                      [AssignmenVarDict[(i, j - 1, p)] for p in range(1, len(Passagers)+1)]\n",
    "                      ) <= 1, \n",
    "                            name=f'Neighbor_WCHR{k}_{i}_{j-1}')\n",
    "                \n",
    "                m.addConstr(AssignmenVarDict[(i, j, k)] +quicksum(\n",
    "                      [AssignmenVarDict[(i+1, j, p)] for p in range(1, len(Passagers)+1)]\n",
    "                      ) <= 1, \n",
    "                            name=f'Neighbor_WCHR{k}_{i+1}_{j}')\n",
    "                m.addConstr(AssignmenVarDict[(i, j, k)]+ quicksum(\n",
    "                      [AssignmenVarDict[(i+1, j - 1, p)] for p in range(1, len(Passagers)+1)]\n",
    "                      ) <= 1,  \n",
    "                            name=f'Neighbor_WCHR{k}_{i+1}_{j-1}')"
   ]
  },
  {
   "cell_type": "markdown",
   "metadata": {},
   "source": [
    "## Objectif Time"
   ]
  },
  {
   "cell_type": "markdown",
   "metadata": {},
   "source": [
    "- Transit time"
   ]
  },
  {
   "cell_type": "code",
   "execution_count": null,
   "metadata": {},
   "outputs": [],
   "source": [
    "transit_obj = quicksum( [ AssignmenVarDict[(i,j,k)]* i*(1/Passagers[k]['transit'])\n",
    "                      for i in range(1, number_of_rows+1)\n",
    "                      for j in range(1, number_of_columns+1 )\n",
    "                      for k in range(1, len(Passagers)+1)\n",
    "                      if Passagers[k]['transit'] != float('inf') ])\n",
    "\n",
    "m.setObjective(transit_obj, GRB.MINIMIZE)\n",
    "\n",
    "m.params.outputflag = 0 \n",
    "\n",
    "m.update()"
   ]
  },
  {
   "cell_type": "markdown",
   "metadata": {},
   "source": [
    "## Optimisation"
   ]
  },
  {
   "cell_type": "code",
   "execution_count": null,
   "metadata": {},
   "outputs": [
    {
     "name": "stdout",
     "output_type": "stream",
     "text": [
      "                                                   z* = 14.56                                                   \n",
      "\n"
     ]
    }
   ],
   "source": [
    "m.optimize()\n",
    "iteration = 1\n",
    "\n",
    "if m.status == GRB.INF_OR_UNBD:\n",
    "    m.setParam(GRB.Param.Presolve, 0)\n",
    "    m.optimize()\n",
    "\n",
    "if m.status == GRB.INFEASIBLE:\n",
    "    print(m.display(), \"\\n\\tTHERE IS NO SOLUTION!!!\")\n",
    "elif m.status == GRB.UNBOUNDED:\n",
    "    print(m.display(), \"\\n\\tNOT BOUNDED!!!\")\n",
    "else:\n",
    "    print(f'z* = {round(m.objVal, 2)}'.center(8*14))\n",
    "\n",
    "print()\n",
    "\n",
    "\n"
   ]
  },
  {
   "cell_type": "markdown",
   "metadata": {},
   "source": [
    "- Transit time visualization"
   ]
  },
  {
   "cell_type": "code",
   "execution_count": null,
   "metadata": {},
   "outputs": [],
   "source": [
    "def generate_blue_gradations(num_gradations):\n",
    "    gradations = []\n",
    "    for i in range(num_gradations):\n",
    "         # Linearly decrease the green component from full (255) to 0\n",
    "        green_intensity = int(255 * (1 - i / (num_gradations - 1)))\n",
    "        # Keep the red component at full intensity\n",
    "        red_intensity = 255\n",
    "        # Combine the components into a color value\n",
    "        color_value = f\"#{red_intensity:02X}{green_intensity:02X}00\"\n",
    "        gradations.append(color_value)\n",
    "    return gradations\n",
    "graduation = generate_blue_gradations(len(transit_times))\n",
    "transit_times = list(transit_times)\n",
    "transit_times.sort()\n",
    "color_transit = dict()\n",
    "for i in range(len(transit_times)):\n",
    "    color_transit[transit_times[i]] = graduation[-i-1]"
   ]
  },
  {
   "cell_type": "code",
   "execution_count": null,
   "metadata": {},
   "outputs": [],
   "source": [
    "data1 = [['Empty' for _ in range(number_of_columns//2)] for _ in range(number_of_rows)]\n",
    "data2 = [['Empty' for _ in range(number_of_columns//2)] for _ in range(number_of_rows)]\n",
    "\n",
    "colors1 = [[ '#FFFFFF' for _ in range(number_of_columns//2)] for _ in range(number_of_rows)]\n",
    "colors2 = [[ '#FFFFFF' for _ in range(number_of_columns//2)] for _ in range(number_of_rows)]\n",
    "\n",
    "for i in range(1, number_of_rows + 1):\n",
    "    for j in range(1, number_of_columns + 1):\n",
    "        for k in range(1, len(Passagers) + 1):\n",
    "            if AssignmenVarDict[(i,j,k)].x == 1:\n",
    "                if j<4:\n",
    "                    data1[i-1][j-1] = k\n",
    "                    if Passagers[k]['transit']!=float('inf'): colors1[i-1][j-1] = color_transit[Passagers[k]['transit']]\n",
    "                elif j > 4 :\n",
    "                    data2[i-1][j-5] = k\n",
    "                    if Passagers[k]['transit']!=float('inf'): colors2[i-1][j-5] = color_transit[Passagers[k]['transit']]"
   ]
  },
  {
   "cell_type": "code",
   "execution_count": null,
   "metadata": {},
   "outputs": [
    {
     "data": {
      "image/png": "[encoded data removed]",
      "text/plain": [
       "<Figure size 640x480 with 2 Axes>"
      ]
     },
     "metadata": {},
     "output_type": "display_data"
    }
   ],
   "source": [
    "\n",
    "def create_table(ax, data, colors):\n",
    "    ax.set_axis_off()\n",
    "    table = Table(ax, bbox=[0, 0, 1, 2])\n",
    "    rows, cols = len(data), len(data[0])\n",
    "    width, height = 100 , 100 \n",
    "\n",
    "\n",
    "    for i in range(rows):\n",
    "        for j in range(cols):\n",
    "            table.add_cell(i, j, width, height, text=data[i][j], loc='center', facecolor=colors[i][j])\n",
    "\n",
    "    ax.add_table(table)\n",
    "\n",
    "\n",
    "fig, (ax1, ax2) = plt.subplots(1, 2)\n",
    "\n",
    "create_table(ax1, data1, colors1)\n",
    "create_table(ax2, data2, colors2)\n",
    "\n",
    "\n",
    "ax1.annotate('Aisle', xy=(1, 1), xytext=(1.25, 1),\n",
    "             textcoords='axes fraction', ha='center', va='center', color='red', fontsize=14)\n",
    "\n",
    "\n",
    "\n",
    "plt.subplots_adjust(wspace=0.5)\n",
    "\n",
    "plt.show()"
   ]
  },
  {
   "cell_type": "markdown",
   "metadata": {},
   "source": [
    "- Disabled visualization"
   ]
  },
  {
   "cell_type": "code",
   "execution_count": null,
   "metadata": {},
   "outputs": [],
   "source": [
    "data1 = [['Empty' for _ in range(number_of_columns//2)] for _ in range(number_of_rows)]\n",
    "data2 = [['Empty' for _ in range(number_of_columns//2)] for _ in range(number_of_rows)]\n",
    "\n",
    "colors1 = [[ '#FFFFFF' for _ in range(number_of_columns//2)] for _ in range(number_of_rows)]\n",
    "colors2 = [[ '#FFFFFF' for _ in range(number_of_columns//2)] for _ in range(number_of_rows)]\n",
    "\n",
    "for i in range(1, number_of_rows + 1):\n",
    "    for j in range(1, number_of_columns + 1):\n",
    "        for k in range(1, len(Passagers) + 1):\n",
    "            if AssignmenVarDict[(i,j,k)].x == 1:\n",
    "                if j<4:\n",
    "                    data1[i-1][j-1] = k\n",
    "                    if Passagers[k]['gender']==2 :\n",
    "                        colors1[i-1][j-1] = '#800080'\n",
    "                        colors1[i-1][j-2] = '#800080'\n",
    "                        colors1[i][j-1] = '#800080'\n",
    "                        colors1[i][j-2] = '#800080'\n",
    "                elif j>4:\n",
    "                    data2[i-1][j-5] = k\n",
    "                    if Passagers[k]['gender']==2:\n",
    "                        colors2[i-1][j-5] = '#800080'\n",
    "                        colors2[i-1][j-6] = '#800080'\n",
    "                        colors2[i][j-5] = '#800080'\n",
    "                        colors2[i][j-6] = '#800080'\n",
    "\n",
    "\n"
   ]
  },
  {
   "cell_type": "code",
   "execution_count": null,
   "metadata": {},
   "outputs": [
    {
     "data": {
      "image/png": "[encoded data removed]",
      "text/plain": [
       "<Figure size 640x480 with 2 Axes>"
      ]
     },
     "metadata": {},
     "output_type": "display_data"
    }
   ],
   "source": [
    "def create_table(ax, data, colors):\n",
    "    ax.set_axis_off()\n",
    "    table = Table(ax, bbox=[0, 0, 1, 2])\n",
    "    rows, cols = len(data), len(data[0])\n",
    "    width, height = 100 , 100 \n",
    "\n",
    "\n",
    "    for i in range(rows):\n",
    "        for j in range(cols):\n",
    "            table.add_cell(i, j, width, height, text=data[i][j], loc='center', facecolor=colors[i][j])\n",
    "\n",
    "    ax.add_table(table)\n",
    "\n",
    "\n",
    "fig, (ax1, ax2) = plt.subplots(1, 2)\n",
    "\n",
    "create_table(ax1, data1, colors1)\n",
    "create_table(ax2, data2, colors2)\n",
    "\n",
    "\n",
    "ax1.annotate('Aisle', xy=(1, 1), xytext=(1.25, 1),\n",
    "             textcoords='axes fraction', ha='center', va='center', color='red', fontsize=14)\n",
    "\n",
    "\n",
    "\n",
    "plt.subplots_adjust(wspace=0.5)\n",
    "\n",
    "plt.show()"
   ]
  },
  {
   "cell_type": "markdown",
   "metadata": {},
   "source": [
    "## Objectif Grouping"
   ]
  },
  {
   "cell_type": "markdown",
   "metadata": {},
   "source": [
    "- 1st formulation"
   ]
  },
  {
   "cell_type": "code",
   "execution_count": null,
   "metadata": {},
   "outputs": [
    {
     "data": {
      "text/plain": [
       "'grouping = quicksum([AssignmenVarDict[(i_1, j_1, group[k_1])] * AssignmenVarDict[(i_2, j_2, group[k_2])] * (0.7 * abs(i_1 - i_2) + 0.3 * abs(j_1 - j_2))                      for group in Groups.values()                      for k_1 in range(len(group))                      for k_2 in range(k_1 + 1, len(group))                      for i_1 in range(1, number_of_rows + 1)                      for j_1 in range(1, number_of_columns + 1)                      for i_2 in range(1, number_of_rows + 1)                      for j_2 in range(1, number_of_columns + 1)])\\n\\nm.setObjective(grouping, GRB.MINIMIZE)\\n\\nm.params.outputflag = 0 \\n\\nm.update()'"
      ]
     },
     "execution_count": 24,
     "metadata": {},
     "output_type": "execute_result"
    }
   ],
   "source": [
    "'''grouping = quicksum([AssignmenVarDict[(i_1, j_1, group[k_1])] * AssignmenVarDict[(i_2, j_2, group[k_2])] * (0.7 * abs(i_1 - i_2) + 0.3 * abs(j_1 - j_2)) \\\n",
    "                     for group in Groups.values() \\\n",
    "                     for k_1 in range(len(group)) \\\n",
    "                     for k_2 in range(k_1 + 1, len(group)) \\\n",
    "                     for i_1 in range(1, number_of_rows + 1) \\\n",
    "                     for j_1 in range(1, number_of_columns + 1) \\\n",
    "                     for i_2 in range(1, number_of_rows + 1) \\\n",
    "                     for j_2 in range(1, number_of_columns + 1)])\n",
    "\n",
    "m.setObjective(grouping, GRB.MINIMIZE)\n",
    "\n",
    "m.params.outputflag = 0 \n",
    "\n",
    "m.update()'''"
   ]
  },
  {
   "cell_type": "markdown",
   "metadata": {},
   "source": [
    "- 2nd formulation"
   ]
  },
  {
   "cell_type": "code",
   "execution_count": null,
   "metadata": {},
   "outputs": [
    {
     "data": {
      "text/plain": [
       "\"grouping = quicksum([AssignmenVarDict[(i_1, j_1, k_1)] * AssignmenVarDict[(i_2, j_2, k_2)] * (0.7 * abs(i_1 - i_2) + 0.3 * abs(j_1 - j_2))                      for i_1 in range(1, number_of_rows + 1)                      for j_1 in range(1, number_of_columns + 1)                      for i_2 in range(1, number_of_rows + 1)                      for j_2 in range(1, number_of_columns + 1)                        for k_1 in Passagers.keys()\\n                        for k_2 in Passagers.keys()\\n                        if Passagers[k_1]['group'] == Passagers[k_2]['group'] and k_1 != k_2])\\n\\nm.setObjective(grouping, GRB.MINIMIZE)\\n\\nm.params.outputflag = 0 \\n\\nm.update()\""
      ]
     },
     "execution_count": 25,
     "metadata": {},
     "output_type": "execute_result"
    }
   ],
   "source": [
    "'''grouping = quicksum([AssignmenVarDict[(i_1, j_1, k_1)] * AssignmenVarDict[(i_2, j_2, k_2)] * (0.7 * abs(i_1 - i_2) + 0.3 * abs(j_1 - j_2)) \\\n",
    "                     for i_1 in range(1, number_of_rows + 1) \\\n",
    "                     for j_1 in range(1, number_of_columns + 1) \\\n",
    "                     for i_2 in range(1, number_of_rows + 1) \\\n",
    "                     for j_2 in range(1, number_of_columns + 1)\\\n",
    "                        for k_1 in Passagers.keys()\n",
    "                        for k_2 in Passagers.keys()\n",
    "                        if Passagers[k_1]['group'] == Passagers[k_2]['group'] and k_1 != k_2])\n",
    "\n",
    "m.setObjective(grouping, GRB.MINIMIZE)\n",
    "\n",
    "m.params.outputflag = 0 \n",
    "\n",
    "m.update()'''"
   ]
  },
  {
   "cell_type": "markdown",
   "metadata": {},
   "source": [
    "**Nouvelle Fonction Objective**"
   ]
  },
  {
   "cell_type": "code",
   "execution_count": null,
   "metadata": {},
   "outputs": [],
   "source": [
    "\n",
    "AssignmenVarGrpDict = { (g , i, j , Groups[g][k], Groups[g][l]) : m.addVar(vtype = GRB.BINARY, name=f'Y_{i}_{j}_{Groups[g][k]}_{Groups[g][l]}')\n",
    "                    for i in range(1, number_of_rows + 1)\n",
    "                    for j in range(1, number_of_columns)\n",
    "                    for g in Groups.keys()\n",
    "                    for k in range(len(Groups[g]))\n",
    "                    for l in range(k+1,len(Groups[g]))\n",
    "                    }\n"
   ]
  },
  {
   "cell_type": "code",
   "execution_count": null,
   "metadata": {},
   "outputs": [],
   "source": [
    "\n",
    "GroupingConstDict1 = { g : m.addConstr( AssignmenVarGrpDict[(g,i,j,Groups[g][k],Groups[g][l])] <= AssignmenVarDict[(i,j,Groups[g][k])])\n",
    "                                                     for i in range(1, number_of_rows + 1)\n",
    "                                                     for j in range(1, number_of_columns)\n",
    "                                                     for g in Groups.keys()\n",
    "                                                     for k in range(len(Groups[g]))\n",
    "                                                     for l in range(k+1,len(Groups[g]))\n",
    "                                                     }\n",
    "\n",
    "GroupingConstDict2 = { g : m.addConstr( AssignmenVarGrpDict[(g,i,j,Groups[g][k],Groups[g][l])] <= AssignmenVarDict[(i,j+1,Groups[g][l])])\n",
    "                                                     for i in range(1, number_of_rows + 1)\n",
    "                                                     for j in range(1, number_of_columns)\n",
    "                                                     for g in Groups.keys()\n",
    "                                                     for k in range(len(Groups[g]))\n",
    "                                                     for l in range(k+1,len(Groups[g]))\n",
    "                                                     }\n",
    "\n",
    "GroupingConstDict3 = { g : m.addConstr( AssignmenVarGrpDict[(g,i,j,Groups[g][k],Groups[g][l])] >= \n",
    "                                       AssignmenVarDict[(i,j+1,Groups[g][l])] + AssignmenVarDict[(i,j,Groups[g][k])] -1)\n",
    "                                                     for i in range(1, number_of_rows + 1)\n",
    "                                                     for j in range(1, number_of_columns)\n",
    "                                                     for g in Groups.keys()\n",
    "                                                     for k in range(len(Groups[g]))\n",
    "                                                     for l in range(k+1,len(Groups[g]))\n",
    "                                                     }\n",
    "\n",
    "obj_grouping = quicksum([AssignmenVarGrpDict[(g, i , j, Groups[g][k], Groups[g][l])]\n",
    "                                                     for i in range(1, number_of_rows + 1)\n",
    "                                                     for j in range(1, number_of_columns)\n",
    "                                                     for g in Groups.keys()\n",
    "                                                     for k in range(len(Groups[g]))\n",
    "                                                     for l in range(k+1,len(Groups[g]))\n",
    "                                                     \n",
    "                         ])\n",
    "\n",
    "m.setObjective(obj_grouping, GRB.MAXIMIZE)\n",
    "\n",
    "\n",
    "\n",
    "\n"
   ]
  },
  {
   "cell_type": "markdown",
   "metadata": {},
   "source": [
    "**Nouvelle fonction objective**"
   ]
  },
  {
   "cell_type": "code",
   "execution_count": null,
   "metadata": {},
   "outputs": [
    {
     "data": {
      "text/plain": [
       "'\\nobj_grouping = quicksum([10*(i_max[g] - i_min[g]) + (j_max[g] - j_min[g])\\n                        for g in Groups.keys()])\\nm.setObjective(obj_grouping, GRB.MINIMIZE)\\n'"
      ]
     },
     "execution_count": 28,
     "metadata": {},
     "output_type": "execute_result"
    }
   ],
   "source": [
    "'''\n",
    "obj_grouping = quicksum([10*(i_max[g] - i_min[g]) + (j_max[g] - j_min[g])\n",
    "                        for g in Groups.keys()])\n",
    "m.setObjective(obj_grouping, GRB.MINIMIZE)\n",
    "'''"
   ]
  },
  {
   "cell_type": "code",
   "execution_count": null,
   "metadata": {},
   "outputs": [],
   "source": [
    "\n",
    "\n",
    "m.params.outputflag = 0\n",
    "\n",
    "m.update()\n"
   ]
  },
  {
   "cell_type": "code",
   "execution_count": null,
   "metadata": {},
   "outputs": [
    {
     "data": {
      "text/plain": [
       "71783"
      ]
     },
     "execution_count": 30,
     "metadata": {},
     "output_type": "execute_result"
    }
   ],
   "source": [
    "num_vars = m.NumVars\n",
    "num_vars"
   ]
  },
  {
   "cell_type": "markdown",
   "metadata": {},
   "source": [
    "## Optimisation\n"
   ]
  },
  {
   "cell_type": "code",
   "execution_count": null,
   "metadata": {},
   "outputs": [
    {
     "name": "stdout",
     "output_type": "stream",
     "text": [
      "                                                   z* = 45.0                                                    \n",
      "\n"
     ]
    }
   ],
   "source": [
    "# Set iteration limit\n",
    "m.setParam(GRB.Param.TimeLimit, 900)  # Change 1000 to the desired iteration limit\n",
    "\n",
    "m.optimize()\n",
    "iteration = 1\n",
    "\n",
    "if m.status == GRB.INF_OR_UNBD:\n",
    "    m.setParam(GRB.Param.Presolve, 0)\n",
    "    m.optimize()\n",
    "\n",
    "if m.status == GRB.INFEASIBLE:\n",
    "    print(m.display(), \"\\n\\tTHERE IS NO SOLUTION!!!\")\n",
    "elif m.status == GRB.UNBOUNDED:\n",
    "    print(m.display(), \"\\n\\tNOT BOUNDED!!!\")\n",
    "else:\n",
    "    print(f'z* = {round(m.objVal, 2)}'.center(8*14))\n",
    "\n",
    "print()\n",
    "\n",
    "\n"
   ]
  },
  {
   "cell_type": "code",
   "execution_count": null,
   "metadata": {},
   "outputs": [],
   "source": [
    "\n",
    "def generate_random_colors(num_colors):\n",
    "    colors = []\n",
    "    for _ in range(num_colors):\n",
    "\n",
    "        red = random.randint(0, 255)\n",
    "        green = random.randint(0, 255)\n",
    "        blue = random.randint(0, 255)\n",
    "\n",
    "        color_value = \"#{:02X}{:02X}{:02X}\".format(red, green, blue)\n",
    "        colors.append(color_value)\n",
    "    return colors\n",
    "\n",
    "graduation = generate_random_colors(len(Groups))\n",
    "indices_groups = list(Groups.keys())\n",
    "color_group = {indices_groups[i-1] : graduation[i-1] for i in range(1, len(Groups)+1) }"
   ]
  },
  {
   "cell_type": "code",
   "execution_count": null,
   "metadata": {},
   "outputs": [],
   "source": [
    "data1 = [['Empty' for _ in range(number_of_columns//2)] for _ in range(number_of_rows)]\n",
    "data2 = [['Empty' for _ in range(number_of_columns//2)] for _ in range(number_of_rows)]\n",
    "\n",
    "colors1 = [[ '#FFFFFF' for _ in range(number_of_columns//2)] for _ in range(number_of_rows)]\n",
    "colors2 = [[ '#FFFFFF' for _ in range(number_of_columns//2)] for _ in range(number_of_rows)]\n",
    "\n",
    "for i in range(1, number_of_rows + 1):\n",
    "    for j in range(1, number_of_columns + 1):\n",
    "        for k in range(1, len(Passagers) + 1):\n",
    "            if AssignmenVarDict[(i,j,k)].x == 1:\n",
    "                if j<4:\n",
    "                    data1[i-1][j-1] = k\n",
    "                    if Passagers[k]['group']in color_group: colors1[i-1][j-1] = color_group[Passagers[k]['group']]\n",
    "                else:\n",
    "                    data2[i-1][j-5] = k\n",
    "                    if Passagers[k]['group'] in color_group: colors2[i-1][j-5] = color_group[Passagers[k]['group']]"
   ]
  },
  {
   "cell_type": "code",
   "execution_count": null,
   "metadata": {},
   "outputs": [
    {
     "data": {
      "image/png": "[encoded data removed]",
      "text/plain": [
       "<Figure size 640x480 with 2 Axes>"
      ]
     },
     "metadata": {},
     "output_type": "display_data"
    }
   ],
   "source": [
    "def create_table(ax, data, colors):\n",
    "    ax.set_axis_off()\n",
    "    table = Table(ax, bbox=[0, 0, 1, 2])\n",
    "    rows, cols = len(data), len(data[0])\n",
    "    width, height = 100 , 100 \n",
    "\n",
    "\n",
    "    for i in range(rows):\n",
    "        for j in range(cols):\n",
    "            table.add_cell(i, j, width, height, text=data[i][j], loc='center', facecolor=colors[i][j])\n",
    "\n",
    "    ax.add_table(table)\n",
    "\n",
    "\n",
    "fig, (ax1, ax2) = plt.subplots(1, 2)\n",
    "\n",
    "create_table(ax1, data1, colors1)\n",
    "create_table(ax2, data2, colors2)\n",
    "\n",
    "\n",
    "ax1.annotate('Aisle', xy=(1, 1), xytext=(1.25, 1),\n",
    "             textcoords='axes fraction', ha='center', va='center', color='red', fontsize=14)\n",
    "\n",
    "\n",
    "\n",
    "plt.subplots_adjust(wspace=0.5)\n",
    "\n",
    "plt.show()"
   ]
  },
  {
   "cell_type": "code",
   "execution_count": null,
   "metadata": {},
   "outputs": [
    {
     "name": "stdout",
     "output_type": "stream",
     "text": [
      "[3, 4]\n",
      "Le passager 3 est assis à la position (17, 6)\n",
      "1.0\n",
      "1.0\n",
      "Le passager 4 est assis à la position (17, 7)\n",
      "1.0\n",
      "[7, 8]\n",
      "Le passager 7 est assis à la position (20, 5)\n",
      "1.0\n",
      "1.0\n",
      "Le passager 8 est assis à la position (20, 6)\n",
      "1.0\n",
      "1.0\n",
      "[10, 11]\n",
      "Le passager 10 est assis à la position (11, 6)\n",
      "1.0\n",
      "1.0\n",
      "Le passager 11 est assis à la position (11, 7)\n",
      "1.0\n",
      "[17, 18]\n",
      "Le passager 17 est assis à la position (7, 2)\n",
      "1.0\n",
      "1.0\n",
      "Le passager 18 est assis à la position (7, 3)\n",
      "1.0\n",
      "1.0\n",
      "[30, 31]\n",
      "Le passager 30 est assis à la position (2, 1)\n",
      "1.0\n",
      "Le passager 31 est assis à la position (2, 2)\n",
      "1.0\n",
      "1.0\n",
      "[32, 33]\n",
      "Le passager 32 est assis à la position (13, 6)\n",
      "1.0\n",
      "1.0\n",
      "Le passager 33 est assis à la position (13, 7)\n",
      "1.0\n",
      "[34, 35, 36, 37, 38, 39, 40, 41, 42, 43, 44, 45, 46, 47, 48, 49, 50, 51, 52]\n",
      "Le passager 34 est assis à la position (20, 2)\n",
      "1.0\n",
      "1.0\n",
      "Le passager 35 est assis à la position (23, 5)\n",
      "1.0\n",
      "1.0\n",
      "Le passager 36 est assis à la position (18, 5)\n",
      "1.0\n",
      "1.0\n",
      "Le passager 37 est assis à la position (20, 3)\n",
      "1.0\n",
      "1.0\n",
      "Le passager 38 est assis à la position (2, 5)\n",
      "1.0\n",
      "1.0\n",
      "Le passager 39 est assis à la position (18, 6)\n",
      "1.0\n",
      "1.0\n",
      "Le passager 40 est assis à la position (2, 6)\n",
      "1.0\n",
      "1.0\n",
      "Le passager 41 est assis à la position (4, 5)\n",
      "1.0\n",
      "1.0\n",
      "Le passager 42 est assis à la position (18, 7)\n",
      "1.0\n",
      "Le passager 43 est assis à la position (6, 1)\n",
      "1.0\n",
      "Le passager 44 est assis à la position (6, 2)\n",
      "1.0\n",
      "1.0\n",
      "Le passager 45 est assis à la position (2, 7)\n",
      "1.0\n",
      "Le passager 46 est assis à la position (23, 6)\n",
      "1.0\n",
      "1.0\n",
      "Le passager 47 est assis à la position (23, 7)\n",
      "1.0\n",
      "Le passager 48 est assis à la position (6, 3)\n",
      "1.0\n",
      "1.0\n",
      "Le passager 49 est assis à la position (9, 6)\n",
      "1.0\n",
      "1.0\n",
      "Le passager 50 est assis à la position (4, 6)\n",
      "1.0\n",
      "1.0\n",
      "Le passager 51 est assis à la position (9, 7)\n",
      "1.0\n",
      "Le passager 52 est assis à la position (4, 7)\n",
      "1.0\n",
      "[58, 59]\n",
      "Le passager 58 est assis à la position (14, 5)\n",
      "1.0\n",
      "1.0\n",
      "Le passager 59 est assis à la position (14, 6)\n",
      "1.0\n",
      "1.0\n",
      "[61, 62]\n",
      "Aucun siège trouvé pour le passager 61. Vérifiez l'indexation et les données.\n",
      "1.0\n",
      "1.0\n",
      "Aucun siège trouvé pour le passager 62. Vérifiez l'indexation et les données.\n",
      "1.0\n",
      "1.0\n",
      "[63, 64]\n",
      "Le passager 63 est assis à la position (28, 6)\n",
      "1.0\n",
      "1.0\n",
      "Le passager 64 est assis à la position (28, 7)\n",
      "1.0\n",
      "[70, 71]\n",
      "Le passager 70 est assis à la position (25, 2)\n",
      "1.0\n",
      "1.0\n",
      "Le passager 71 est assis à la position (25, 3)\n",
      "1.0\n",
      "1.0\n",
      "[72, 73]\n",
      "Le passager 72 est assis à la position (15, 1)\n",
      "1.0\n",
      "Le passager 73 est assis à la position (15, 2)\n",
      "1.0\n",
      "1.0\n",
      "[76, 77, 78]\n",
      "Le passager 76 est assis à la position (1, 1)\n",
      "1.0\n",
      "Le passager 77 est assis à la position (1, 2)\n",
      "1.0\n",
      "1.0\n",
      "Le passager 78 est assis à la position (1, 3)\n",
      "1.0\n",
      "1.0\n",
      "[86, 87]\n",
      "Le passager 86 est assis à la position (12, 1)\n",
      "1.0\n",
      "Le passager 87 est assis à la position (12, 2)\n",
      "1.0\n",
      "1.0\n",
      "[94, 95]\n",
      "Le passager 94 est assis à la position (23, 2)\n",
      "1.0\n",
      "1.0\n",
      "Le passager 95 est assis à la position (23, 3)\n",
      "1.0\n",
      "1.0\n",
      "[96, 97]\n",
      "Le passager 96 est assis à la position (21, 1)\n",
      "1.0\n",
      "Le passager 97 est assis à la position (21, 2)\n",
      "1.0\n",
      "1.0\n",
      "[99, 100]\n",
      "Le passager 99 est assis à la position (16, 5)\n",
      "1.0\n",
      "1.0\n",
      "Le passager 100 est assis à la position (16, 6)\n",
      "1.0\n",
      "1.0\n",
      "[101, 102]\n",
      "Le passager 101 est assis à la position (10, 1)\n",
      "1.0\n",
      "Le passager 102 est assis à la position (10, 2)\n",
      "1.0\n",
      "1.0\n",
      "[103, 104]\n",
      "Le passager 103 est assis à la position (27, 1)\n",
      "1.0\n",
      "Le passager 104 est assis à la position (27, 2)\n",
      "1.0\n",
      "1.0\n",
      "[109, 110]\n",
      "Le passager 109 est assis à la position (29, 6)\n",
      "1.0\n",
      "1.0\n",
      "Le passager 110 est assis à la position (29, 7)\n",
      "1.0\n",
      "[114, 115]\n",
      "Le passager 114 est assis à la position (4, 2)\n",
      "1.0\n",
      "1.0\n",
      "Le passager 115 est assis à la position (4, 3)\n",
      "1.0\n",
      "1.0\n",
      "[118, 119]\n",
      "Le passager 118 est assis à la position (9, 2)\n",
      "1.0\n",
      "1.0\n",
      "Le passager 119 est assis à la position (9, 3)\n",
      "1.0\n",
      "1.0\n",
      "[120, 121]\n",
      "Le passager 120 est assis à la position (17, 2)\n",
      "1.0\n",
      "1.0\n",
      "Le passager 121 est assis à la position (17, 3)\n",
      "1.0\n",
      "1.0\n",
      "[126, 127]\n",
      "Le passager 126 est assis à la position (29, 2)\n",
      "1.0\n",
      "1.0\n",
      "Le passager 127 est assis à la position (29, 3)\n",
      "1.0\n",
      "1.0\n",
      "[133, 134]\n",
      "Le passager 133 est assis à la position (14, 1)\n",
      "1.0\n",
      "Le passager 134 est assis à la position (14, 2)\n",
      "1.0\n",
      "1.0\n",
      "[150, 151]\n",
      "Le passager 150 est assis à la position (11, 1)\n",
      "1.0\n",
      "Le passager 151 est assis à la position (11, 2)\n",
      "1.0\n",
      "1.0\n",
      "[153, 154, 155, 156]\n",
      "Le passager 153 est assis à la position (3, 1)\n",
      "1.0\n",
      "Le passager 154 est assis à la position (3, 2)\n",
      "1.0\n",
      "1.0\n",
      "Le passager 155 est assis à la position (3, 3)\n",
      "1.0\n",
      "1.0\n",
      "Le passager 156 est assis à la position (7, 6)\n",
      "1.0\n",
      "1.0\n",
      "[159, 160]\n",
      "Le passager 159 est assis à la position (15, 6)\n",
      "1.0\n",
      "1.0\n",
      "Le passager 160 est assis à la position (15, 7)\n",
      "1.0\n",
      "[163, 164, 165]\n",
      "Le passager 163 est assis à la position (5, 5)\n",
      "1.0\n",
      "1.0\n",
      "Le passager 164 est assis à la position (5, 6)\n",
      "1.0\n",
      "1.0\n",
      "Aucun siège trouvé pour le passager 165. Vérifiez l'indexation et les données.\n",
      "1.0\n",
      "1.0\n",
      "[167, 168]\n",
      "Le passager 167 est assis à la position (27, 5)\n",
      "1.0\n",
      "1.0\n",
      "Le passager 168 est assis à la position (27, 6)\n",
      "1.0\n",
      "1.0\n",
      "[172, 173]\n",
      "Le passager 172 est assis à la position (8, 5)\n",
      "1.0\n",
      "1.0\n",
      "Le passager 173 est assis à la position (8, 6)\n",
      "1.0\n",
      "1.0\n"
     ]
    },
    {
     "data": {
      "text/plain": [
       "100.0"
      ]
     },
     "execution_count": 71,
     "metadata": {},
     "output_type": "execute_result"
    },
    {
     "ename": "",
     "evalue": "",
     "output_type": "error",
     "traceback": [
      "\u001b[1;31mThe Kernel crashed while executing code in the current cell or a previous cell. \n",
      "\u001b[1;31mPlease review the code in the cell(s) to identify a possible cause of the failure. \n",
      "\u001b[1;31mClick <a href='https://aka.ms/vscodeJupyterKernelCrash'>here</a> for more info. \n",
      "\u001b[1;31mView Jupyter <a href='command:jupyter.viewOutput'>log</a> for further details."
     ]
    }
   ],
   "source": [
    "# Définition des constantes pour les niveaux de satisfaction\n",
    "SATISFIED = 1.0\n",
    "MEDIUM_SATISFIED = 0.5\n",
    "NOT_SATISFIED = 0.0\n",
    "\n",
    "# Initialisation des variables pour les scores de satisfaction\n",
    "satisfaction_scores = []\n",
    "\n",
    "# Vérification pour chaque passager s'il est assis à côté d'un membre de son groupe\n",
    "for group, passengers in Groups.items():\n",
    "    print(passengers)\n",
    "    for pass_id in passengers:\n",
    "        # Récupérer la position du passager dans l'avion\n",
    "        seat_positions = [(i, j) for i in range(1, number_of_rows+1)\n",
    "                          for j in range(1, number_of_columns+1)\n",
    "                          if AssignmenVarDict.get((i, j, pass_id), 0).x == 1]\n",
    "        \n",
    "        if seat_positions:  # Vérifie si la liste n'est pas vide\n",
    "            seat_position = seat_positions[0]  # Prend le premier élément\n",
    "            print(f\"Le passager {pass_id} est assis à la position {seat_position}\")\n",
    "        else:\n",
    "            print(f\"Aucun siège trouvé pour le passager {pass_id}. Vérifiez l'indexation et les données.\")\n",
    "\n",
    "        i, j = seat_position\n",
    "        \n",
    "    \n",
    "        \n",
    "        # # Vérifier s'il y a des membres du groupe à côté\n",
    "        seat_left = (i, j-1) if j-1 > 0 else None\n",
    "        seat_right = (i, j+1) if j+1 <= number_of_columns else None\n",
    "        \n",
    "        # # Vérifier pour chaque siège s'il est occupé par un membre du groupe\n",
    "        # left_satisfaction = (AssignmenVarDict[(seat_left[0], seat_left[1], pass_id)].x == 1) if seat_left else NOT_SATISFIED\n",
    "        # right_satisfaction = (AssignmenVarDict[(seat_right[0], seat_right[1], pass_id)].x == 1) if seat_right else NOT_SATISFIED\n",
    "\n",
    "        # Vérifiez s'il y a des membres du groupe à côté dans la même rangée, à gauche ou à droite\n",
    "        neighbors = [seat_left, seat_right]  # Positions des sièges voisins directement à gauche et à droite\n",
    "        \n",
    "        for neighbor in neighbors:\n",
    "            if neighbor is not None:  # Ajoutez cette vérification pour éviter l'erreur\n",
    "                ni, nj = neighbor\n",
    "                if nj == 4 or j == 4:  # S'ils sont séparés par l'allée, attribuez MEDIUM_SATISFIED\n",
    "                    if any(AssignmenVarDict.get((ni, nj, other_pass_id), 0).x == 1 for other_pass_id in passengers if other_pass_id != pass_id):\n",
    "                        satisfaction = MEDIUM_SATISFIED\n",
    "                elif 1 <= nj <= number_of_columns and nj != 4:  # S'ils sont directement à côté sans allée entre eux\n",
    "                    if any(AssignmenVarDict.get((ni, nj, other_pass_id), 0).x == 1 for other_pass_id in passengers if other_pass_id != pass_id):\n",
    "                        satisfaction = SATISFIED\n",
    "                else:\n",
    "                    satisfaction = NOT_SATISFIED\n",
    "            else:\n",
    "                # Si neighbor est None, vous pouvez décider de ne rien faire ou de gérer différemment\n",
    "                continue  # Passe au prochain voisin sans faire d'autres actions\n",
    "\n",
    "            print(satisfaction)\n",
    "\n",
    "        \n",
    "        # Évaluation de la satisfaction du passager\n",
    "\n",
    "        # if left_satisfaction or right_satisfaction:\n",
    "        #     satisfaction = SATISFIED\n",
    "        # elif seat_left and any(AssignmenVarDict[(seat_left[0], seat_left[1], other_pass_id)].x == 1 for other_pass_id in passengers):\n",
    "        #     satisfaction = MEDIUM_SATISFIED\n",
    "        # elif seat_right and any(AssignmenVarDict[(seat_right[0], seat_right[1], other_pass_id)].x == 1 for other_pass_id in passengers):\n",
    "        #     satisfaction = MEDIUM_SATISFIED\n",
    "        # else:\n",
    "        #     satisfaction = NOT_SATISFIED\n",
    "\n",
    "        # print(satisfaction)\n",
    "        \n",
    "        # Ajouter le score de satisfaction à la liste\n",
    "        satisfaction_scores.append(satisfaction)\n",
    "\n",
    "for pass_id in range(1, len(Passagers) + 1):\n",
    "    if all(pass_id not in passengers for _, passengers in Groups.items()):\n",
    "        # Ce passager est seul\n",
    "        # print(f\"Le passager {pass_id} est seul et est automatiquement SATISFIED.\")\n",
    "        satisfaction_scores.append(SATISFIED)\n",
    "\n",
    "# Calcul du score de groupement moyen (pourcentage de satisfaction)\n",
    "grouping_score = sum(satisfaction_scores) / len(satisfaction_scores)\n",
    "\n",
    "# Retourner le score de groupement en pourcentage\n",
    "grouping_score_percentage = grouping_score * 100\n",
    "grouping_score_percentage"
   ]
  },
  {
   "cell_type": "code",
   "execution_count": null,
   "metadata": {},
   "outputs": [],
   "source": [
    "for i in range(1, number_of_rows+1):\n",
    "    for j in range(1, number_of_columns+1):\n",
    "        if AssignmenVarDict[(i,j,61)].X ==1:\n",
    "            print(i,j)"
   ]
  },
  {
   "cell_type": "code",
   "execution_count": null,
   "metadata": {},
   "outputs": [
    {
     "data": {
      "text/plain": [
       "{'gender': 0, 'group': 36, 'transit': 80}"
      ]
     },
     "execution_count": 58,
     "metadata": {},
     "output_type": "execute_result"
    }
   ],
   "source": [
    "Passagers[61]"
   ]
  }
 ],
 "metadata": {
  "kernelspec": {
   "display_name": "Python 3",
   "language": "python",
   "name": "python3"
  },
  "language_info": {
   "codemirror_mode": {
    "name": "ipython",
    "version": 3
   },
   "file_extension": ".py",
   "mimetype": "text/x-python",
   "name": "python",
   "nbconvert_exporter": "python",
   "pygments_lexer": "ipython3",
   "version": "3.11.8"
  }
 },
 "nbformat": 4,
 "nbformat_minor": 2
}

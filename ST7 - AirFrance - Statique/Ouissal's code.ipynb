{
 "cells": [
  {
   "cell_type": "markdown",
   "metadata": {},
   "source": [
    "# <font color=blue><div align=\"center\">Seats Allocation within an Aircraft</div></font>\n",
    "\n"
   ]
  },
  {
   "cell_type": "markdown",
   "metadata": {},
   "source": [
    "## Modules"
   ]
  },
  {
   "cell_type": "code",
   "execution_count": 1,
   "metadata": {},
   "outputs": [],
   "source": [
    "# Modules de base\n",
    "import numpy as np\n",
    "import matplotlib.pyplot as plt\n",
    "import pandas as pd\n",
    "%matplotlib inline\n",
    "\n",
    "# Module relatif à Gurobi\n",
    "from gurobipy import *\n",
    "\n",
    "# Module csv\n",
    "import csv"
   ]
  },
  {
   "cell_type": "markdown",
   "metadata": {},
   "source": [
    "## Préprocessing des données"
   ]
  },
  {
   "cell_type": "markdown",
   "metadata": {},
   "source": [
    "Pour la suite de notre étude, on considère le modèle d'avion **Airbus A320**, qui dispose de **174** sièges. (La classe businees n'est pas prise en compte)"
   ]
  },
  {
   "cell_type": "markdown",
   "metadata": {},
   "source": [
    "\n",
    "<img src=\"modele_avion.jpg\" alt=\"Modèle de l'avion\" width=\"400\" height=\"600\">"
   ]
  },
  {
   "cell_type": "code",
   "execution_count": 2,
   "metadata": {},
   "outputs": [],
   "source": [
    "number_of_seats = 174"
   ]
  },
  {
   "cell_type": "code",
   "execution_count": 3,
   "metadata": {},
   "outputs": [],
   "source": [
    "# Load the Excel file into a pandas DataFrame\n",
    "\n",
    "df_21Oct = pd.read_excel('../ST7 - AirFrance/DataSeating 2024.xlsx', sheet_name=0 , skipfooter=2)\n",
    "df_22Oct = pd.read_excel('../ST7 - AirFrance/DataSeating 2024.xlsx', sheet_name=1 , skipfooter=2)\n",
    "df_23Oct = pd.read_excel('../ST7 - AirFrance/DataSeating 2024.xlsx', sheet_name=2 , skipfooter=2)\n",
    "df_24Oct = pd.read_excel('../ST7 - AirFrance/DataSeating 2024.xlsx', sheet_name=3 , skipfooter=2)\n",
    "df_30Oct = pd.read_excel('../ST7 - AirFrance/DataSeating 2024.xlsx', sheet_name=4 , skipfooter=2)\n",
    "df_05Nov = pd.read_excel('../ST7 - AirFrance/DataSeating 2024.xlsx', sheet_name=5 , skipfooter=2)\n",
    "df_07Nov = pd.read_excel('../ST7 - AirFrance/DataSeating 2024.xlsx', sheet_name=6 , skipfooter=2)\n"
   ]
  },
  {
   "cell_type": "code",
   "execution_count": 4,
   "metadata": {},
   "outputs": [],
   "source": [
    "# On choisit la df sur laquelle on va travailler\n",
    "\n",
    "df = df_21Oct"
   ]
  },
  {
   "cell_type": "code",
   "execution_count": 5,
   "metadata": {},
   "outputs": [
    {
     "data": {
      "text/html": [
       "<div>\n",
       "<style scoped>\n",
       "    .dataframe tbody tr th:only-of-type {\n",
       "        vertical-align: middle;\n",
       "    }\n",
       "\n",
       "    .dataframe tbody tr th {\n",
       "        vertical-align: top;\n",
       "    }\n",
       "\n",
       "    .dataframe thead th {\n",
       "        text-align: right;\n",
       "    }\n",
       "</style>\n",
       "<table border=\"1\" class=\"dataframe\">\n",
       "  <thead>\n",
       "    <tr style=\"text-align: right;\">\n",
       "      <th></th>\n",
       "      <th>Numéro du groupe</th>\n",
       "      <th>Femmes</th>\n",
       "      <th>Hommes</th>\n",
       "      <th>WCHR</th>\n",
       "      <th>TransitTime</th>\n",
       "    </tr>\n",
       "  </thead>\n",
       "  <tbody>\n",
       "    <tr>\n",
       "      <th>0</th>\n",
       "      <td>1</td>\n",
       "      <td>NaN</td>\n",
       "      <td>1.0</td>\n",
       "      <td>NaN</td>\n",
       "      <td>01:15:00</td>\n",
       "    </tr>\n",
       "    <tr>\n",
       "      <th>1</th>\n",
       "      <td>2</td>\n",
       "      <td>1.0</td>\n",
       "      <td>NaN</td>\n",
       "      <td>NaN</td>\n",
       "      <td>00:00:00</td>\n",
       "    </tr>\n",
       "    <tr>\n",
       "      <th>2</th>\n",
       "      <td>3</td>\n",
       "      <td>NaN</td>\n",
       "      <td>1.0</td>\n",
       "      <td>NaN</td>\n",
       "      <td>00:00:00</td>\n",
       "    </tr>\n",
       "    <tr>\n",
       "      <th>3</th>\n",
       "      <td>4</td>\n",
       "      <td>1.0</td>\n",
       "      <td>NaN</td>\n",
       "      <td>NaN</td>\n",
       "      <td>00:00:00</td>\n",
       "    </tr>\n",
       "    <tr>\n",
       "      <th>4</th>\n",
       "      <td>5</td>\n",
       "      <td>NaN</td>\n",
       "      <td>2.0</td>\n",
       "      <td>NaN</td>\n",
       "      <td>05:25:00</td>\n",
       "    </tr>\n",
       "  </tbody>\n",
       "</table>\n",
       "</div>"
      ],
      "text/plain": [
       "   Numéro du groupe  Femmes  Hommes  WCHR TransitTime\n",
       "0                 1     NaN     1.0   NaN    01:15:00\n",
       "1                 2     1.0     NaN   NaN    00:00:00\n",
       "2                 3     NaN     1.0   NaN    00:00:00\n",
       "3                 4     1.0     NaN   NaN    00:00:00\n",
       "4                 5     NaN     2.0   NaN    05:25:00"
      ]
     },
     "execution_count": 5,
     "metadata": {},
     "output_type": "execute_result"
    }
   ],
   "source": [
    "df.head()"
   ]
  },
  {
   "cell_type": "code",
   "execution_count": 6,
   "metadata": {},
   "outputs": [],
   "source": [
    "def convert_TransitTime(time_val):\n",
    "\n",
    "    # Convert time to minutes\n",
    "    total_minutes = time_val.hour * 60 + time_val.minute\n",
    "    \n",
    "    # Check if total minutes is greater than 2 hours or equal to 0\n",
    "    if total_minutes > 120 or total_minutes == 0:\n",
    "        return float('inf')  # Return infinity\n",
    "    else:\n",
    "        return total_minutes\n",
    "\n",
    "df['TransitTime'] = df['TransitTime'].apply(convert_TransitTime)\n"
   ]
  },
  {
   "cell_type": "code",
   "execution_count": 7,
   "metadata": {},
   "outputs": [
    {
     "data": {
      "text/html": [
       "<div>\n",
       "<style scoped>\n",
       "    .dataframe tbody tr th:only-of-type {\n",
       "        vertical-align: middle;\n",
       "    }\n",
       "\n",
       "    .dataframe tbody tr th {\n",
       "        vertical-align: top;\n",
       "    }\n",
       "\n",
       "    .dataframe thead th {\n",
       "        text-align: right;\n",
       "    }\n",
       "</style>\n",
       "<table border=\"1\" class=\"dataframe\">\n",
       "  <thead>\n",
       "    <tr style=\"text-align: right;\">\n",
       "      <th></th>\n",
       "      <th>Numéro du groupe</th>\n",
       "      <th>Femmes</th>\n",
       "      <th>Hommes</th>\n",
       "      <th>WCHR</th>\n",
       "      <th>TransitTime</th>\n",
       "    </tr>\n",
       "  </thead>\n",
       "  <tbody>\n",
       "    <tr>\n",
       "      <th>0</th>\n",
       "      <td>1</td>\n",
       "      <td>NaN</td>\n",
       "      <td>1.0</td>\n",
       "      <td>NaN</td>\n",
       "      <td>75.0</td>\n",
       "    </tr>\n",
       "    <tr>\n",
       "      <th>1</th>\n",
       "      <td>2</td>\n",
       "      <td>1.0</td>\n",
       "      <td>NaN</td>\n",
       "      <td>NaN</td>\n",
       "      <td>inf</td>\n",
       "    </tr>\n",
       "    <tr>\n",
       "      <th>2</th>\n",
       "      <td>3</td>\n",
       "      <td>NaN</td>\n",
       "      <td>1.0</td>\n",
       "      <td>NaN</td>\n",
       "      <td>inf</td>\n",
       "    </tr>\n",
       "    <tr>\n",
       "      <th>3</th>\n",
       "      <td>4</td>\n",
       "      <td>1.0</td>\n",
       "      <td>NaN</td>\n",
       "      <td>NaN</td>\n",
       "      <td>inf</td>\n",
       "    </tr>\n",
       "    <tr>\n",
       "      <th>4</th>\n",
       "      <td>5</td>\n",
       "      <td>NaN</td>\n",
       "      <td>2.0</td>\n",
       "      <td>NaN</td>\n",
       "      <td>inf</td>\n",
       "    </tr>\n",
       "    <tr>\n",
       "      <th>...</th>\n",
       "      <td>...</td>\n",
       "      <td>...</td>\n",
       "      <td>...</td>\n",
       "      <td>...</td>\n",
       "      <td>...</td>\n",
       "    </tr>\n",
       "    <tr>\n",
       "      <th>106</th>\n",
       "      <td>107</td>\n",
       "      <td>1.0</td>\n",
       "      <td>NaN</td>\n",
       "      <td>NaN</td>\n",
       "      <td>inf</td>\n",
       "    </tr>\n",
       "    <tr>\n",
       "      <th>107</th>\n",
       "      <td>108</td>\n",
       "      <td>2.0</td>\n",
       "      <td>NaN</td>\n",
       "      <td>NaN</td>\n",
       "      <td>inf</td>\n",
       "    </tr>\n",
       "    <tr>\n",
       "      <th>108</th>\n",
       "      <td>109</td>\n",
       "      <td>2.0</td>\n",
       "      <td>NaN</td>\n",
       "      <td>NaN</td>\n",
       "      <td>inf</td>\n",
       "    </tr>\n",
       "    <tr>\n",
       "      <th>109</th>\n",
       "      <td>110</td>\n",
       "      <td>2.0</td>\n",
       "      <td>NaN</td>\n",
       "      <td>NaN</td>\n",
       "      <td>95.0</td>\n",
       "    </tr>\n",
       "    <tr>\n",
       "      <th>110</th>\n",
       "      <td>111</td>\n",
       "      <td>NaN</td>\n",
       "      <td>1.0</td>\n",
       "      <td>NaN</td>\n",
       "      <td>60.0</td>\n",
       "    </tr>\n",
       "  </tbody>\n",
       "</table>\n",
       "<p>111 rows × 5 columns</p>\n",
       "</div>"
      ],
      "text/plain": [
       "     Numéro du groupe  Femmes  Hommes  WCHR  TransitTime\n",
       "0                   1     NaN     1.0   NaN         75.0\n",
       "1                   2     1.0     NaN   NaN          inf\n",
       "2                   3     NaN     1.0   NaN          inf\n",
       "3                   4     1.0     NaN   NaN          inf\n",
       "4                   5     NaN     2.0   NaN          inf\n",
       "..                ...     ...     ...   ...          ...\n",
       "106               107     1.0     NaN   NaN          inf\n",
       "107               108     2.0     NaN   NaN          inf\n",
       "108               109     2.0     NaN   NaN          inf\n",
       "109               110     2.0     NaN   NaN         95.0\n",
       "110               111     NaN     1.0   NaN         60.0\n",
       "\n",
       "[111 rows x 5 columns]"
      ]
     },
     "execution_count": 7,
     "metadata": {},
     "output_type": "execute_result"
    }
   ],
   "source": [
    "df"
   ]
  },
  {
   "cell_type": "code",
   "execution_count": 8,
   "metadata": {},
   "outputs": [
    {
     "data": {
      "text/plain": [
       "{1: {'gender': 1, 'group': 1, 'transit': 75.0},\n",
       " 2: {'gender': 0, 'group': 2, 'transit': inf},\n",
       " 3: {'gender': 1, 'group': 3, 'transit': inf},\n",
       " 4: {'gender': 0, 'group': 4, 'transit': inf},\n",
       " 5: {'gender': 1, 'group': 5, 'transit': inf},\n",
       " 6: {'gender': 1, 'group': 5, 'transit': inf},\n",
       " 7: {'gender': 0, 'group': 6, 'transit': inf},\n",
       " 8: {'gender': 0, 'group': 7, 'transit': inf},\n",
       " 9: {'gender': 0, 'group': 8, 'transit': 80.0},\n",
       " 10: {'gender': 1, 'group': 8, 'transit': 80.0},\n",
       " 11: {'gender': 1, 'group': 9, 'transit': inf},\n",
       " 12: {'gender': 0, 'group': 10, 'transit': inf},\n",
       " 13: {'gender': 0, 'group': 11, 'transit': inf},\n",
       " 14: {'gender': 1, 'group': 11, 'transit': inf},\n",
       " 15: {'gender': 1, 'group': 12, 'transit': 70.0},\n",
       " 16: {'gender': 1, 'group': 13, 'transit': inf},\n",
       " 17: {'gender': 0, 'group': 14, 'transit': inf},\n",
       " 18: {'gender': 1, 'group': 14, 'transit': inf},\n",
       " 19: {'gender': 1, 'group': 15, 'transit': inf},\n",
       " 20: {'gender': 1, 'group': 16, 'transit': 95.0},\n",
       " 21: {'gender': 0, 'group': 17, 'transit': 60.0},\n",
       " 22: {'gender': 1, 'group': 17, 'transit': 60.0},\n",
       " 23: {'gender': 1, 'group': 18, 'transit': 120.0},\n",
       " 24: {'gender': 0, 'group': 19, 'transit': inf},\n",
       " 25: {'gender': 0, 'group': 19, 'transit': inf},\n",
       " 26: {'gender': 1, 'group': 19, 'transit': inf},\n",
       " 27: {'gender': 1, 'group': 19, 'transit': inf},\n",
       " 28: {'gender': 0, 'group': 20, 'transit': 65.0},\n",
       " 29: {'gender': 0, 'group': 20, 'transit': 65.0},\n",
       " 30: {'gender': 1, 'group': 20, 'transit': 65.0},\n",
       " 31: {'gender': 1, 'group': 20, 'transit': 65.0},\n",
       " 32: {'gender': 0, 'group': 21, 'transit': inf},\n",
       " 33: {'gender': 0, 'group': 21, 'transit': inf},\n",
       " 34: {'gender': 0, 'group': 22, 'transit': 65.0},\n",
       " 35: {'gender': 0, 'group': 23, 'transit': 50.0},\n",
       " 36: {'gender': 1, 'group': 23, 'transit': 50.0},\n",
       " 37: {'gender': 0, 'group': 24, 'transit': inf},\n",
       " 38: {'gender': 1, 'group': 24, 'transit': inf},\n",
       " 39: {'gender': 1, 'group': 25, 'transit': 80.0},\n",
       " 40: {'gender': 1, 'group': 26, 'transit': inf},\n",
       " 41: {'gender': 1, 'group': 27, 'transit': inf},\n",
       " 42: {'gender': 1, 'group': 27, 'transit': inf},\n",
       " 43: {'gender': 1, 'group': 28, 'transit': inf},\n",
       " 44: {'gender': 0, 'group': 29, 'transit': inf},\n",
       " 45: {'gender': 1, 'group': 30, 'transit': inf},\n",
       " 46: {'gender': 0, 'group': 31, 'transit': 95.0},\n",
       " 47: {'gender': 1, 'group': 31, 'transit': 95.0},\n",
       " 48: {'gender': 1, 'group': 32, 'transit': inf},\n",
       " 49: {'gender': 1, 'group': 33, 'transit': inf},\n",
       " 50: {'gender': 0, 'group': 34, 'transit': 90.0},\n",
       " 51: {'gender': 1, 'group': 34, 'transit': 90.0},\n",
       " 52: {'gender': 0, 'group': 35, 'transit': 70.0},\n",
       " 53: {'gender': 1, 'group': 35, 'transit': 70.0},\n",
       " 54: {'gender': 0, 'group': 36, 'transit': inf},\n",
       " 55: {'gender': 1, 'group': 37, 'transit': inf},\n",
       " 56: {'gender': 1, 'group': 38, 'transit': inf},\n",
       " 57: {'gender': 0, 'group': 39, 'transit': 95.0},\n",
       " 58: {'gender': 1, 'group': 39, 'transit': 95.0},\n",
       " 59: {'gender': 1, 'group': 40, 'transit': 45.0},\n",
       " 60: {'gender': 1, 'group': 41, 'transit': inf},\n",
       " 61: {'gender': 1, 'group': 42, 'transit': inf},\n",
       " 62: {'gender': 1, 'group': 43, 'transit': inf},\n",
       " 63: {'gender': 1, 'group': 44, 'transit': inf},\n",
       " 64: {'gender': 0, 'group': 45, 'transit': inf},\n",
       " 65: {'gender': 1, 'group': 45, 'transit': inf},\n",
       " 66: {'gender': 1, 'group': 46, 'transit': 80.0},\n",
       " 67: {'gender': 1, 'group': 47, 'transit': 70.0},\n",
       " 68: {'gender': 0, 'group': 48, 'transit': 70.0},\n",
       " 69: {'gender': 1, 'group': 49, 'transit': inf},\n",
       " 70: {'gender': 0, 'group': 50, 'transit': inf},\n",
       " 71: {'gender': 0, 'group': 51, 'transit': inf},\n",
       " 72: {'gender': 1, 'group': 51, 'transit': inf},\n",
       " 73: {'gender': 0, 'group': 52, 'transit': 60.0},\n",
       " 74: {'gender': 0, 'group': 53, 'transit': 60.0},\n",
       " 75: {'gender': 0, 'group': 54, 'transit': inf},\n",
       " 76: {'gender': 0, 'group': 55, 'transit': inf},\n",
       " 77: {'gender': 1, 'group': 55, 'transit': inf},\n",
       " 78: {'gender': 0, 'group': 56, 'transit': inf},\n",
       " 79: {'gender': 1, 'group': 56, 'transit': inf},\n",
       " 80: {'gender': 0, 'group': 57, 'transit': 95.0},\n",
       " 81: {'gender': 1, 'group': 57, 'transit': 95.0},\n",
       " 82: {'gender': 1, 'group': 58, 'transit': inf},\n",
       " 83: {'gender': 0, 'group': 59, 'transit': 70.0},\n",
       " 84: {'gender': 1, 'group': 59, 'transit': 70.0},\n",
       " 85: {'gender': 0, 'group': 60, 'transit': 120.0},\n",
       " 86: {'gender': 0, 'group': 61, 'transit': inf},\n",
       " 87: {'gender': 1, 'group': 61, 'transit': inf},\n",
       " 88: {'gender': 1, 'group': 62, 'transit': inf},\n",
       " 89: {'gender': 0, 'group': 63, 'transit': 120.0},\n",
       " 90: {'gender': 1, 'group': 63, 'transit': 120.0},\n",
       " 91: {'gender': 1, 'group': 64, 'transit': inf},\n",
       " 92: {'gender': 0, 'group': 65, 'transit': inf},\n",
       " 93: {'gender': 0, 'group': 65, 'transit': inf},\n",
       " 94: {'gender': 1, 'group': 65, 'transit': inf},\n",
       " 95: {'gender': 0, 'group': 66, 'transit': inf},\n",
       " 96: {'gender': 1, 'group': 67, 'transit': inf},\n",
       " 97: {'gender': 0, 'group': 68, 'transit': inf},\n",
       " 98: {'gender': 1, 'group': 68, 'transit': inf},\n",
       " 99: {'gender': 1, 'group': 69, 'transit': inf},\n",
       " 100: {'gender': 0, 'group': 70, 'transit': inf},\n",
       " 101: {'gender': 0, 'group': 71, 'transit': 120.0},\n",
       " 102: {'gender': 1, 'group': 71, 'transit': 120.0},\n",
       " 103: {'gender': 0, 'group': 72, 'transit': inf},\n",
       " 104: {'gender': 1, 'group': 73, 'transit': inf},\n",
       " 105: {'gender': 1, 'group': 74, 'transit': 65.0},\n",
       " 106: {'gender': 1, 'group': 75, 'transit': 95.0},\n",
       " 107: {'gender': 0, 'group': 76, 'transit': 95.0},\n",
       " 108: {'gender': 0, 'group': 77, 'transit': 60.0},\n",
       " 109: {'gender': 1, 'group': 77, 'transit': 60.0},\n",
       " 110: {'gender': 1, 'group': 78, 'transit': inf},\n",
       " 111: {'gender': 1, 'group': 79, 'transit': inf},\n",
       " 112: {'gender': 1, 'group': 80, 'transit': 100.0},\n",
       " 113: {'gender': 1, 'group': 81, 'transit': 120.0},\n",
       " 114: {'gender': 1, 'group': 82, 'transit': 100.0},\n",
       " 115: {'gender': 1, 'group': 83, 'transit': 100.0},\n",
       " 116: {'gender': 1, 'group': 84, 'transit': 100.0},\n",
       " 117: {'gender': 1, 'group': 85, 'transit': 100.0},\n",
       " 118: {'gender': 1, 'group': 86, 'transit': 70.0},\n",
       " 119: {'gender': 0, 'group': 87, 'transit': 60.0},\n",
       " 120: {'gender': 1, 'group': 87, 'transit': 60.0},\n",
       " 121: {'gender': 0, 'group': 88, 'transit': inf},\n",
       " 122: {'gender': 0, 'group': 89, 'transit': 120.0},\n",
       " 123: {'gender': 0, 'group': 90, 'transit': inf},\n",
       " 124: {'gender': 1, 'group': 91, 'transit': 60.0},\n",
       " 125: {'gender': 0, 'group': 92, 'transit': inf},\n",
       " 126: {'gender': 1, 'group': 92, 'transit': inf},\n",
       " 127: {'gender': 1, 'group': 93, 'transit': inf},\n",
       " 128: {'gender': 1, 'group': 94, 'transit': inf},\n",
       " 129: {'gender': 0, 'group': 95, 'transit': 90.0},\n",
       " 130: {'gender': 1, 'group': 95, 'transit': 90.0},\n",
       " 131: {'gender': 0, 'group': 96, 'transit': inf},\n",
       " 132: {'gender': 1, 'group': 97, 'transit': inf},\n",
       " 133: {'gender': 1, 'group': 98, 'transit': inf},\n",
       " 134: {'gender': 1, 'group': 99, 'transit': inf},\n",
       " 135: {'gender': 0, 'group': 100, 'transit': inf},\n",
       " 136: {'gender': 0, 'group': 101, 'transit': inf},\n",
       " 137: {'gender': 1, 'group': 102, 'transit': 100.0},\n",
       " 138: {'gender': 0, 'group': 103, 'transit': 80.0},\n",
       " 139: {'gender': 1, 'group': 103, 'transit': 80.0},\n",
       " 140: {'gender': 0, 'group': 104, 'transit': inf},\n",
       " 141: {'gender': 1, 'group': 104, 'transit': inf},\n",
       " 142: {'gender': 0, 'group': 105, 'transit': inf},\n",
       " 143: {'gender': 1, 'group': 106, 'transit': inf},\n",
       " 144: {'gender': 0, 'group': 107, 'transit': inf},\n",
       " 145: {'gender': 0, 'group': 108, 'transit': inf},\n",
       " 146: {'gender': 0, 'group': 108, 'transit': inf},\n",
       " 147: {'gender': 0, 'group': 109, 'transit': inf},\n",
       " 148: {'gender': 0, 'group': 109, 'transit': inf},\n",
       " 149: {'gender': 0, 'group': 110, 'transit': 95.0},\n",
       " 150: {'gender': 0, 'group': 110, 'transit': 95.0},\n",
       " 151: {'gender': 1, 'group': 111, 'transit': 60.0}}"
      ]
     },
     "execution_count": 8,
     "metadata": {},
     "output_type": "execute_result"
    }
   ],
   "source": [
    "# Groups : dict[int : List[int]]\n",
    "\n",
    "Passagers = dict()\n",
    "i = 1\n",
    "\n",
    "for group in df.itertuples():\n",
    "    if not pd.isna(group[2]):\n",
    "        for k in range(int(group[2])):\n",
    "            Passagers[i] = {'gender': 0, 'group':group[1], 'transit':group[5]}\n",
    "            i+=1\n",
    "    if not pd.isna(group[3]):\n",
    "        for k in range(int(group[3])):\n",
    "            Passagers[i] = {'gender': 1, 'group':group[1], 'transit':group[5]}\n",
    "            i+=1\n",
    "    if not pd.isna(group[4]):\n",
    "        for k in range(int(group[4])):\n",
    "            Passagers[i] = {'gender': 2, 'group':group[1], 'transit':group[5]}\n",
    "            i+=1\n",
    "    \n",
    "\n",
    "\n",
    "    \n",
    "Passagers  "
   ]
  },
  {
   "cell_type": "markdown",
   "metadata": {},
   "source": [
    "## Model "
   ]
  },
  {
   "cell_type": "code",
   "execution_count": 9,
   "metadata": {},
   "outputs": [],
   "source": [
    "number_of_seats = 174\n",
    "weight_f = 70\n",
    "weight_m = 85\n",
    "weight_h = 92.5\n",
    "number_of_rows = 29\n",
    "number_of_columns = 6\n",
    "\n",
    "number_f = int(sum([x for x in df['Femmes'] if not pd.isna(x)]))\n",
    "number_m = int(sum([x for x in df['Hommes'] if not pd.isna(x)]))\n",
    "number_h = int(sum([x for x in df['WCHR'] if not pd.isna(x)]))"
   ]
  },
  {
   "cell_type": "code",
   "execution_count": 10,
   "metadata": {},
   "outputs": [
    {
     "name": "stdout",
     "output_type": "stream",
     "text": [
      "Set parameter Username\n",
      "Academic license - for non-commercial use only - expires 2025-02-04\n"
     ]
    }
   ],
   "source": [
    "m = Model(\"Seats_Allocation\")"
   ]
  },
  {
   "cell_type": "markdown",
   "metadata": {},
   "source": [
    "**Définition des variables**"
   ]
  },
  {
   "cell_type": "code",
   "execution_count": 11,
   "metadata": {},
   "outputs": [],
   "source": [
    "AssignmenVarDict = {(i, j, k): m.addVar(vtype=GRB.BINARY, name=f'x_{i}_{j}_{k}') \n",
    "                    for i in range(1, number_of_rows + 1) \n",
    "                    for j in range(1, number_of_columns + 1) \n",
    "                    for k in range(1, len(Passagers) + 1)}"
   ]
  },
  {
   "cell_type": "markdown",
   "metadata": {},
   "source": [
    "**Contrainte Satisfaction Clients**"
   ]
  },
  {
   "cell_type": "code",
   "execution_count": 12,
   "metadata": {},
   "outputs": [
    {
     "data": {
      "text/plain": [
       "<gurobi.Constr *Awaiting Model Update*>"
      ]
     },
     "execution_count": 12,
     "metadata": {},
     "output_type": "execute_result"
    }
   ],
   "source": [
    "# Contrainte : tous les passagers ont un siège \n",
    "\n",
    "m.addConstr(quicksum([AssignmenVarDict[(i, j, k)] \n",
    "                      for i in range(1, number_of_rows + 1) \n",
    "                      for j in range(1, number_of_columns + 1) \n",
    "                      for k in range(1, len(Passagers) + 1)]) \n",
    "            == len(Passagers), name='SeatPassengersCONST')"
   ]
  },
  {
   "cell_type": "code",
   "execution_count": 13,
   "metadata": {},
   "outputs": [],
   "source": [
    "#Contrainte : Siège par personne\n",
    "\n",
    "SeatPerPassengerCONST = {k: m.addConstr(quicksum([AssignmenVarDict[(i, j, k)] \n",
    "                                                  for i in range(1, number_of_rows + 1) \n",
    "                                                  for j in range(1, number_of_columns)]) \n",
    "                                         == 1, name=f'Passenger{k}UniqueSeat') \n",
    "                         for k in range(1, len(Passagers) + 1)}"
   ]
  },
  {
   "cell_type": "code",
   "execution_count": 14,
   "metadata": {},
   "outputs": [],
   "source": [
    "#Contrainte : Personne par siège\n",
    "\n",
    "SeatPerPassengerCONST = {(i,j): m.addConstr(quicksum([AssignmenVarDict[(i, j, k)] \n",
    "                                                      for k in range(1, len(Passagers) + 1) ]) \n",
    "                                         <= 1, name=f'Seat({i},{j})UniquePassenger') \n",
    "                         for i in range(1, number_of_rows + 1)\n",
    "                         for j in range(1, number_of_columns +1)}\n",
    "\n"
   ]
  },
  {
   "cell_type": "markdown",
   "metadata": {},
   "source": [
    "**Contrainte Centrage de L'avion**"
   ]
  },
  {
   "cell_type": "code",
   "execution_count": 15,
   "metadata": {},
   "outputs": [],
   "source": [
    "PondeMen_i = weight_m * quicksum([AssignmenVarDict[(i, j, k)] * i \n",
    "                                 for i in range(1, number_of_rows + 1) \n",
    "                                 for j in range(1, number_of_columns + 1) \n",
    "                                 for k in range(1, len(Passagers) + 1) if Passagers[k]['gender'] == 1]) \n",
    "\n",
    "PondeWomen_i = weight_f * quicksum([AssignmenVarDict[(i, j, k)] * i \n",
    "                                   for i in range(1, number_of_rows + 1) \n",
    "                                   for j in range(1, number_of_columns + 1) \n",
    "                                   for k in range(1, len(Passagers) + 1) if Passagers[k]['gender'] == 0]) \n",
    "\n",
    "PondeWCHR_i = weight_h * quicksum([AssignmenVarDict[(i, j, k)] * i \n",
    "                                  for i in range(1, number_of_rows + 1) \n",
    "                                  for j in range(1, number_of_columns + 1) \n",
    "                                  for k in range(1, len(Passagers) + 1) if Passagers[k]['gender'] == 2]) \n",
    "\n",
    "Barycentre_i = (PondeMen_i + PondeWCHR_i + PondeWomen_i) / (weight_f * number_f + weight_h * number_h + weight_m * number_m)"
   ]
  },
  {
   "cell_type": "code",
   "execution_count": 16,
   "metadata": {},
   "outputs": [],
   "source": [
    "PondeMen_j = weight_m * quicksum([AssignmenVarDict[(i, j, k)] * j \n",
    "                                 for i in range(1, number_of_rows + 1) \n",
    "                                 for j in range(1, number_of_columns + 1) \n",
    "                                 for k in range(1, len(Passagers) + 1) if Passagers[k]['gender'] == 1]) \n",
    "\n",
    "PondeWomen_j = weight_f * quicksum([AssignmenVarDict[(i, j, k)] * j \n",
    "                                   for i in range(1, number_of_rows + 1) \n",
    "                                   for j in range(1, number_of_columns + 1) \n",
    "                                   for k in range(1, len(Passagers) + 1) if Passagers[k]['gender'] == 0]) \n",
    "\n",
    "PondeWCHR_j = weight_h * quicksum([AssignmenVarDict[(i, j, k)] * j \n",
    "                                  for i in range(1, number_of_rows + 1) \n",
    "                                  for j in range(1, number_of_columns + 1) \n",
    "                                  for k in range(1, len(Passagers) + 1) if Passagers[k]['gender'] == 2]) \n",
    "\n",
    "Barycentre_j = (PondeMen_j + PondeWCHR_j + PondeWomen_j) / (weight_f * number_f + weight_h * number_h + weight_m * number_m)"
   ]
  },
  {
   "cell_type": "code",
   "execution_count": 17,
   "metadata": {},
   "outputs": [
    {
     "data": {
      "text/plain": [
       "<gurobi.Constr *Awaiting Model Update*>"
      ]
     },
     "execution_count": 17,
     "metadata": {},
     "output_type": "execute_result"
    }
   ],
   "source": [
    "m.addConstr(Barycentre_i <= 17, name='Bary_i_Sup')\n",
    "m.addConstr(Barycentre_i >= 13, name='Bary_i_Inf')\n",
    "m.addConstr(Barycentre_j <= 4, name='Bary_j_Sup')\n",
    "m.addConstr(Barycentre_j >= 3, name='Bary_j_Inf')"
   ]
  },
  {
   "cell_type": "markdown",
   "metadata": {},
   "source": [
    "**Contrainte WCHR**"
   ]
  },
  {
   "cell_type": "code",
   "execution_count": 18,
   "metadata": {},
   "outputs": [
    {
     "data": {
      "text/plain": [
       "'SeatPer_WCHR_CONST = {k: m.addConstr(quicksum([AssignmenVarDict[i, j, k] \\n                                               for i in range(1, number_of_rows) \\n                                               for j in [3, 5] \\n                                               ]) == 1, name=f\"SeatPerWCHR{k}\")\\n                                               for k in range(1, len(Passagers) + 1) if Passagers[k][\\'gender\\'] == 2}'"
      ]
     },
     "execution_count": 18,
     "metadata": {},
     "output_type": "execute_result"
    }
   ],
   "source": [
    "'''SeatPer_WCHR_CONST = {k: m.addConstr(quicksum([AssignmenVarDict[i, j, k] \n",
    "                                               for i in range(1, number_of_rows) \n",
    "                                               for j in [3, 5] \n",
    "                                               ]) == 1, name=f\"SeatPerWCHR{k}\")\n",
    "                                               for k in range(1, len(Passagers) + 1) if Passagers[k]['gender'] == 2}'''"
   ]
  },
  {
   "cell_type": "code",
   "execution_count": 19,
   "metadata": {},
   "outputs": [
    {
     "data": {
      "text/plain": [
       "\"for k in range(1, len(Passagers) + 1):\\n    if Passagers[k]['gender'] == 2:\\n        for i in range(1, number_of_rows):\\n            for j in [3, 5]:\\n                m.addConstr((AssignmenVarDict[i, j, k] + AssignmenVarDict[i, j - 1, k]) <= 1, \\n                            name=f'Neighbor_WCHR{k}_{i}_{j-1}')\\n                m.addConstr((AssignmenVarDict[i, j, k] + AssignmenVarDict[i + 1, j, k]) <= 1, \\n                            name=f'Neighbor_WCHR{k}_{i+1}_{j}')\\n                m.addConstr((AssignmenVarDict[i, j, k] + AssignmenVarDict[i + 1, j - 1, k]) <= 1, \\n                            name=f'Neighbor_WCHR{k}_{i+1}_{j-1}')\""
      ]
     },
     "execution_count": 19,
     "metadata": {},
     "output_type": "execute_result"
    }
   ],
   "source": [
    "'''for k in range(1, len(Passagers) + 1):\n",
    "    if Passagers[k]['gender'] == 2:\n",
    "        for i in range(1, number_of_rows):\n",
    "            for j in [3, 5]:\n",
    "                m.addConstr((AssignmenVarDict[i, j, k] + AssignmenVarDict[i, j - 1, k]) <= 1, \n",
    "                            name=f'Neighbor_WCHR{k}_{i}_{j-1}')\n",
    "                m.addConstr((AssignmenVarDict[i, j, k] + AssignmenVarDict[i + 1, j, k]) <= 1, \n",
    "                            name=f'Neighbor_WCHR{k}_{i+1}_{j}')\n",
    "                m.addConstr((AssignmenVarDict[i, j, k] + AssignmenVarDict[i + 1, j - 1, k]) <= 1, \n",
    "                            name=f'Neighbor_WCHR{k}_{i+1}_{j-1}')'''"
   ]
  },
  {
   "cell_type": "markdown",
   "metadata": {},
   "source": [
    "## Fonction objectif"
   ]
  },
  {
   "cell_type": "markdown",
   "metadata": {},
   "source": [
    "**Fonction obj : groupes**"
   ]
  },
  {
   "cell_type": "code",
   "execution_count": 20,
   "metadata": {},
   "outputs": [],
   "source": [
    "a = 0.3  # Poids pour la distance en ligne\n",
    "b = 0.1  # Poids pour la distance en colonne\n",
    "\n",
    "objective_groups = quicksum((a * abs(i1 - i2) + b * abs(j1 - j2)) * AssignmenVarDict[(i1, j1, k1)] * AssignmenVarDict[(i2, j2, k2)]\n",
    "                            for i1 in range(1, number_of_rows + 1)\n",
    "                            for j1 in range(1, number_of_columns + 1)\n",
    "                            for i2 in range(1, number_of_rows + 1)\n",
    "                            for j2 in range(1, number_of_columns + 1)\n",
    "                            for k1 in Passagers.keys()\n",
    "                            for k2 in Passagers.keys()\n",
    "                            if Passagers[k1]['group'] == Passagers[k2]['group'])"
   ]
  },
  {
   "cell_type": "markdown",
   "metadata": {},
   "source": [
    "**Fonction obj : transit**"
   ]
  },
  {
   "cell_type": "code",
   "execution_count": 21,
   "metadata": {},
   "outputs": [],
   "source": [
    "objective_transit = quicksum(AssignmenVarDict[(i, j, k)] *(i / (Passagers[k]['transit']))\n",
    "                             for i in range(1, number_of_rows + 1) \n",
    "                             for j in range(1, number_of_columns + 1) \n",
    "                             for k in range(1, len(Passagers) + 1) \n",
    "                             if Passagers[k]['transit'] != float('inf'))"
   ]
  },
  {
   "cell_type": "code",
   "execution_count": 22,
   "metadata": {},
   "outputs": [],
   "source": [
    "#obj = objective_transit + objective_groups"
   ]
  },
  {
   "cell_type": "markdown",
   "metadata": {},
   "source": [
    "## Optimisation"
   ]
  },
  {
   "cell_type": "code",
   "execution_count": 23,
   "metadata": {},
   "outputs": [],
   "source": [
    "# Ajout de la fonction objectif\n",
    "m.setObjective(objective_groups, GRB.MINIMIZE)\n",
    "\n",
    "m.params.outputflag = 0 # mode muet\n",
    "\n",
    "# Mise à jour du modèle  --\n",
    "m.update()"
   ]
  },
  {
   "cell_type": "code",
   "execution_count": 24,
   "metadata": {},
   "outputs": [],
   "source": [
    "# -- Résolution --\n",
    "m.optimize()"
   ]
  },
  {
   "cell_type": "code",
   "execution_count": 25,
   "metadata": {},
   "outputs": [
    {
     "name": "stdout",
     "output_type": "stream",
     "text": [
      "Feasible solution found, but not necessarily optimal.\n",
      "\n"
     ]
    }
   ],
   "source": [
    "\n",
    "# -- Vérification du statut et Affichage (le cas échéant) des solutions --\n",
    "if m.status == GRB.INF_OR_UNBD:\n",
    "    m.setParam(GRB.Param.Presolve, 0)\n",
    "    m.optimize()\n",
    "\n",
    "# Vérification du statut et affichage des solutions si nécessaire\n",
    "if m.status == GRB.INF_OR_UNBD:\n",
    "    m.setParam(GRB.Param.Presolve, 0)\n",
    "    m.optimize()\n",
    "\n",
    "if m.status == GRB.INFEASIBLE:\n",
    "    print(\"Feasible solution found, but not necessarily optimal.\")\n",
    "elif m.status == GRB.UNBOUNDED:\n",
    "    print(\"Model is unbounded.\")\n",
    "else:\n",
    "    print(f'Optimal solution found with satisfaction = {round(m.objVal, 2)}')\n",
    "\n",
    "print()"
   ]
  }
 ],
 "metadata": {
  "kernelspec": {
   "display_name": "Python 3",
   "language": "python",
   "name": "python3"
  },
  "language_info": {
   "codemirror_mode": {
    "name": "ipython",
    "version": 3
   },
   "file_extension": ".py",
   "mimetype": "text/x-python",
   "name": "python",
   "nbconvert_exporter": "python",
   "pygments_lexer": "ipython3",
   "version": "3.11.8"
  }
 },
 "nbformat": 4,
 "nbformat_minor": 2
}

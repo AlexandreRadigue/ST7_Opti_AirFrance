{
 "cells": [
  {
   "cell_type": "markdown",
   "metadata": {},
   "source": [
    "# <font color=blue><div align=\"center\">TD-TP 4 - EXERCICE 2</div></font>\n",
    "\n",
    "### <font color=blue><div align=\"center\">10-02-2023</div></font>"
   ]
  },
  {
   "cell_type": "markdown",
   "metadata": {},
   "source": [
    "## Modules"
   ]
  },
  {
   "cell_type": "code",
   "execution_count": 2,
   "metadata": {},
   "outputs": [],
   "source": [
    "# Modules de base\n",
    "import numpy as np\n",
    "import matplotlib.pyplot as plt\n",
    "%matplotlib inline\n",
    "\n",
    "# Module relatif à Gurobi\n",
    "from gurobipy import *"
   ]
  },
  {
   "cell_type": "markdown",
   "metadata": {},
   "source": [
    "# Les Données"
   ]
  },
  {
   "cell_type": "code",
   "execution_count": 3,
   "metadata": {},
   "outputs": [],
   "source": [
    "nombre_de_sommets = 8\n",
    "Sommets = range(nombre_de_sommets)\n",
    "\n",
    "# C1 : dict[(int, int) : int] \n",
    "## C1[(i, j)] représente le coût de l'arc (i, j) sur le critère 1\n",
    "C1 = {(0, 1) : 4,\n",
    "      (0, 2) : 5,\n",
    "      (0, 3) : 9,\n",
    "      (1, 4) : 5,\n",
    "      (1, 5) : 3,\n",
    "      (2, 4) : 8,\n",
    "      (2, 5) : 6,\n",
    "      (2, 6) : 5,\n",
    "      (3, 5) : 6,\n",
    "      (3, 6) : 7,\n",
    "      (4, 7) : 7,\n",
    "      (5, 7) : 3,\n",
    "      (6, 7) : 3\n",
    "     }\n",
    "\n",
    "# C2 : dict[(int, int) : int] \n",
    "## C2[(i, j)] représente le coût de l'arc (i, j) sur le critère 2\n",
    "C2 = {(0, 1) : 7,\n",
    "      (0, 2) : 8,\n",
    "      (0, 3) : 4,\n",
    "      (1, 4) : 7,\n",
    "      (1, 5) : 9,\n",
    "      (2, 4) : 3,\n",
    "      (2, 5) : 5,\n",
    "      (2, 6) : 5,\n",
    "      (3, 5) : 4,\n",
    "      (3, 6) : 7,\n",
    "      (4, 7) : 1,\n",
    "      (5, 7) : 4,\n",
    "      (6, 7) : 3\n",
    "     }\n",
    "\n",
    "# critereAOptimiser : int\n",
    "critereAOptimiser = 1      # vaut 1 ou 2        \n",
    "\n",
    "assert critereAOptimiser == 1 or critereAOptimiser == 2\n",
    "\n",
    "# C, C_prim : dict[(int, int) : int]\n",
    "## C et C_prim sont des variables globales permettant de référencer le dictionnaire\n",
    "### C1 ou C2 en fonction de la valeur attribuée à la variable critereAOptimiser\n",
    "C = C_prim = None\n",
    "\n",
    "if critereAOptimiser == 1:\n",
    "    C = C1\n",
    "    C_prim = C2\n",
    "else:\n",
    "    C = C2\n",
    "    C_prim = C1\n",
    "\n",
    "assert C is not None\n",
    "assert C_prim is not None"
   ]
  },
  {
   "cell_type": "markdown",
   "metadata": {},
   "source": [
    "# Question 4"
   ]
  },
  {
   "cell_type": "code",
   "execution_count": 4,
   "metadata": {},
   "outputs": [],
   "source": [
    "def generer_PCC_model():\n",
    "    \"\"\"None -> Model\n",
    "    instancie et retourne le modèle Gurobi correspondant au Programme Linéaire calculant\n",
    "    le Plus Court Chemin du sommet 0 au sommet 7. Il utilisera les variables globales C et \n",
    "    C_prim définies précédemment.\"\"\"\n",
    "    \n",
    "    # -- Initialisation du modèle --\n",
    "    # m : Model\n",
    "    m = Model(\"TD4-Exo2\")\n",
    "    \n",
    "    # -- Ajout des variables  --\n",
    "\n",
    "    # -\n",
    "    \n",
    "    # -- Ajout des contraintes --\n",
    "    \n",
    "    # -\n",
    "    \n",
    "    # -- Ajout de la fonction objectif --\n",
    "\n",
    "    # -\n",
    "    \n",
    "    # -- Choix d'un paramétrage d'affichage minimaliste --\n",
    "    m.params.outputflag = 0 # mode muet\n",
    "    # - \n",
    "\n",
    "    # -- Mise à jour du modèle  --\n",
    "    m.update()\n",
    "    # -\n",
    "    \n",
    "    return m\n",
    "    \n",
    "    \n",
    "    "
   ]
  },
  {
   "cell_type": "code",
   "execution_count": 5,
   "metadata": {},
   "outputs": [
    {
     "name": "stdout",
     "output_type": "stream",
     "text": [
      "Set parameter Username\n",
      "Academic license - for non-commercial use only - expires 2025-02-04\n",
      "\n",
      "\n",
      "Le chemin le plus court a pour longueur : inf\n",
      "Il s'agit de : \n",
      " \n"
     ]
    },
    {
     "name": "stderr",
     "output_type": "stream",
     "text": [
      "C:\\Users\\eugid\\AppData\\Local\\Temp\\ipykernel_18040\\2689920519.py:4: DeprecationWarning: Model.display() is deprecated\n",
      "  m.display()\n"
     ]
    }
   ],
   "source": [
    "m = generer_PCC_model()\n",
    "\n",
    "# -- Affichage en mode texte du PL --\n",
    "m.display()\n",
    "#- \n",
    "\n",
    "# -- Résolution --\n",
    "m.optimize()\n",
    "\n",
    "# -- Vérification du statut et Affichage (le cas échéant) des solutions --\n",
    "if m.status == GRB.INFEASIBLE:\n",
    "    print(\"\\n LE PROGRAMME N'A PAS DE SOLUTION!!!\")\n",
    "elif m.status == GRB.UNBOUNDED:\n",
    "    print(\"\\n LE PROGRAMME EST NON BORNÉ!!!\")\n",
    "else:\n",
    "    # valeur_PCC : int          \n",
    "    ## la valeur du plus court chemin du sommet 0 au sommet 7.\n",
    "    valeur_PCC = float('inf')                      # valeur_PCC à modifier  \n",
    "    print(\"\\n\\nLe chemin le plus court a pour longueur : {}\".format(valeur_PCC))\n",
    "    \n",
    "    # PCC : str\n",
    "    ## La chaine correspondant au plus court chemin.\n",
    "    PCC = \"\"        # à compléter\n",
    "    # -- Affichage de la solution dans l'espace de decision\n",
    "    print(\"Il s'agit de : \\n\", PCC)\n",
    "    #-"
   ]
  },
  {
   "cell_type": "markdown",
   "metadata": {},
   "source": [
    "# Question 6"
   ]
  },
  {
   "cell_type": "code",
   "execution_count": 1,
   "metadata": {},
   "outputs": [
    {
     "ename": "NameError",
     "evalue": "name 'generer_PCC_model' is not defined",
     "output_type": "error",
     "traceback": [
      "\u001b[1;31m---------------------------------------------------------------------------\u001b[0m",
      "\u001b[1;31mNameError\u001b[0m                                 Traceback (most recent call last)",
      "Cell \u001b[1;32mIn[1], line 4\u001b[0m\n\u001b[0;32m      1\u001b[0m \u001b[38;5;66;03m# epsilon : float\u001b[39;00m\n\u001b[0;32m      2\u001b[0m epsilon \u001b[38;5;241m=\u001b[39m \u001b[38;5;241m0.00001\u001b[39m\n\u001b[1;32m----> 4\u001b[0m m \u001b[38;5;241m=\u001b[39m \u001b[43mgenerer_PCC_model\u001b[49m()\n\u001b[0;32m      6\u001b[0m \u001b[38;5;66;03m# -- Résolution --\u001b[39;00m\n\u001b[0;32m      7\u001b[0m m\u001b[38;5;241m.\u001b[39moptimize()\n",
      "\u001b[1;31mNameError\u001b[0m: name 'generer_PCC_model' is not defined"
     ]
    }
   ],
   "source": [
    "# epsilon : float\n",
    "epsilon = 0.00001\n",
    "\n",
    "m = generer_PCC_model()\n",
    "\n",
    "# -- Résolution --\n",
    "m.optimize()\n",
    "\n",
    "# otherObjExpr : LinExpr\n",
    "## represente l'expression lineaire de la fonction objectif correspondant au critère non optimisé (C_prim)\n",
    "otherObjExpr = LinExpr()\n",
    "#-\n",
    "it = 0\n",
    "\n",
    "while False: # remplacer False par la bonne condition\n",
    "    if critereAOptimiser == 1:\n",
    "        sol = (m.objVal, otherObjExpr.getValue())\n",
    "    else:\n",
    "        sol = (otherObjExpr.getValue(), m.objVal)\n",
    "    print(\"La solution trouvée à l'itération {} est : {}\".format(it, sol))\n",
    "    # PCC : str\n",
    "    ## La chaine correspondant au plus court chemin.\n",
    "    PCC = \"\"        # à compléter\n",
    "    # -- Affichage de la solution dans l'espace de decision\n",
    "    print(\"Il s'agit de : \\n\", PCC)\n",
    "    #-\n",
    "   \n",
    "    it += 1\n",
    "    # -- Ajout de l'epsilon constraint\n",
    "    \n",
    "    #-\n",
    "    # -- Mise à jour du modèle  --\n",
    "    m.update()\n",
    "    # -- Résolution --\n",
    "    m.optimize()\n",
    "    "
   ]
  }
 ],
 "metadata": {
  "kernelspec": {
   "display_name": "Python 3",
   "language": "python",
   "name": "python3"
  },
  "language_info": {
   "codemirror_mode": {
    "name": "ipython",
    "version": 3
   },
   "file_extension": ".py",
   "mimetype": "text/x-python",
   "name": "python",
   "nbconvert_exporter": "python",
   "pygments_lexer": "ipython3",
   "version": "3.11.8"
  }
 },
 "nbformat": 4,
 "nbformat_minor": 2
}

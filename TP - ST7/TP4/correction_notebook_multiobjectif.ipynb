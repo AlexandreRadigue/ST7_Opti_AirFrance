{
 "cells": [
  {
   "cell_type": "markdown",
   "metadata": {},
   "source": [
    "# <font color=blue><div align=\"center\">TD-TP 4 - EXERCICE 2</div></font>\n",
    "\n",
    "### <font color=blue><div align=\"center\">10-02-2023</div></font>"
   ]
  },
  {
   "cell_type": "markdown",
   "metadata": {},
   "source": [
    "## Modules"
   ]
  },
  {
   "cell_type": "code",
   "execution_count": 1,
   "metadata": {},
   "outputs": [],
   "source": [
    "# Modules de base\n",
    "import numpy as np\n",
    "import matplotlib.pyplot as plt\n",
    "%matplotlib inline\n",
    "\n",
    "# Module relatif à Gurobi\n",
    "from gurobipy import *"
   ]
  },
  {
   "cell_type": "markdown",
   "metadata": {},
   "source": [
    "# Les Données"
   ]
  },
  {
   "cell_type": "code",
   "execution_count": 5,
   "metadata": {},
   "outputs": [
    {
     "name": "stdout",
     "output_type": "stream",
     "text": [
      "range(0, 8)\n"
     ]
    }
   ],
   "source": [
    "nombre_de_sommets = 8\n",
    "Sommets = range(nombre_de_sommets)\n",
    "\n",
    "# C1 : dict[(int, int) : int] \n",
    "## C1[(i, j)] représente le coût de l'arc (i, j) sur le critère 1\n",
    "C1 = {(0, 1) : 4,\n",
    "      (0, 2) : 5,\n",
    "      (0, 3) : 9,\n",
    "      (1, 4) : 5,\n",
    "      (1, 5) : 3,\n",
    "      (2, 4) : 8,\n",
    "      (2, 5) : 6,\n",
    "      (2, 6) : 5,\n",
    "      (3, 5) : 6,\n",
    "      (3, 6) : 7,\n",
    "      (4, 7) : 7,\n",
    "      (5, 7) : 3,\n",
    "      (6, 7) : 3\n",
    "     }\n",
    "\n",
    "# C2 : dict[(int, int) : int] \n",
    "## C2[(i, j)] représente le coût de l'arc (i, j) sur le critère 2\n",
    "C2 = {(0, 1) : 7,\n",
    "      (0, 2) : 8,\n",
    "      (0, 3) : 4,\n",
    "      (1, 4) : 7,\n",
    "      (1, 5) : 9,\n",
    "      (2, 4) : 3,\n",
    "      (2, 5) : 5,\n",
    "      (2, 6) : 5,\n",
    "      (3, 5) : 4,\n",
    "      (3, 6) : 7,\n",
    "      (4, 7) : 1,\n",
    "      (5, 7) : 4,\n",
    "      (6, 7) : 3\n",
    "     }\n",
    "\n",
    "# critereAOptimiser : int\n",
    "critereAOptimiser = 1      # vaut 1 ou 2\n",
    "\n",
    "assert critereAOptimiser == 1 or critereAOptimiser == 2\n",
    "\n",
    "# C, C_prim : dict[(int, int) : int]\n",
    "## C et C_prim sont des variables globales permettant de référencer le dictionnaire\n",
    "### C1 ou C2 en fonction de la valeur attribuée à la variable critereAOptimiser\n",
    "C = C_prim = None\n",
    "\n",
    "if critereAOptimiser == 1:\n",
    "    C = C1\n",
    "    C_prim = C2\n",
    "else:\n",
    "    C = C2\n",
    "    C_prim = C1\n",
    "\n",
    "assert C is not None\n",
    "assert C_prim is not None"
   ]
  },
  {
   "cell_type": "markdown",
   "metadata": {},
   "source": [
    "# Question 4"
   ]
  },
  {
   "cell_type": "code",
   "execution_count": 19,
   "metadata": {},
   "outputs": [],
   "source": [
    "def generer_PCC_model():\n",
    "    \"\"\"None -> Model\n",
    "    instancie et retourne le modèle Gurobi correspondant au Programme Linéaire calculant\n",
    "    le Plus Court Chemin du sommet 0 au sommet 7. Il utilisera les variables globales C et \n",
    "    C_prim définies précédemment.\"\"\"\n",
    "    \n",
    "    # -- Initialisation du modèle --\n",
    "    # m : Model\n",
    "    m = Model(\"TD4-Exo2\")\n",
    "    \n",
    "    # -- Ajout des variables  --\n",
    "    # X: dict[(int : int) : Var]\n",
    "    # X: Un dictionnaire de variables binaires où chaque clé est un tuple représentant\n",
    "    # un arc (i, j) et chaque variable indique si l'arc fait partie du plus court chemin (1) ou non (0).\n",
    "    X = {(i, j) :  m.addVar(vtype = GRB.BINARY, name = f'x_{i}_{j}') for i, j in C}\n",
    "    \n",
    "    # -- Ajout des contraintes --\n",
    "    # ConstrVertex0 : Constr\n",
    "    # ConstrVertex0 : Une contrainte garantissant qu'exactement un arc sort du sommet de départ (sommet 0)\n",
    "    ConstrVertex0 = m.addConstr(quicksum([X[(0, j)] for i, j in C if i == min(Sommets)]) == 1, name='ConstrVertex0')\n",
    "\n",
    "    # ConstrOtherVertexDict : Dict[int : Constr]\n",
    "    # ConstrOtherVertexDict: Un dictionnaire de contraintes pour chaque sommet intermédiaire, assurant que le nombre d'arcs \n",
    "    # entrants est égal au nombre d'arcs sortants. Cela garantit la continuité du chemin du sommet de départ au sommet d'arrivée.\n",
    "    ConstrOtherVertexDict = {i : m.addConstr(quicksum([X[k, i] for k, l in C if l == i]) == quicksum([X[i, j] for l, j in C if l == i]),\n",
    "                                             name=f'constr{i}') for i in Sommets if i != min(Sommets) and i != max(Sommets)}\n",
    "    \n",
    "    # -- Ajout de la fonction objectif --\n",
    "    # La fonction objectif est définie pour minimiser la somme des coûts des arcs sélectionnés pour le chemin, en utilisant le critère de coût principal (C).\n",
    "\n",
    "    # [C[(i, j)]*x_i_j for (i, j), x_i_j in X.items()]: Cette compréhension de liste génère une séquence d'expressions où chaque expression est le \n",
    "    # produit du coût d'un arc (i, j) par la variable binaire correspondante x_i_j qui indique si l'arc est utilisé dans le chemin ou non. \n",
    "    # C[(i, j)] est le coût de l'arc (i, j) selon le critère d'optimisation principal (C1 ou C2), et X est le dictionnaire contenant les variables \n",
    "    # de décision pour chaque arc potentiel dans le graphe. Pour chaque paire clé-valeur dans X (où la clé est un tuple (i, j) représentant un arc \n",
    "    # et la valeur est la variable binaire x_i_j associée), le produit C[(i, j)] * x_i_j représente le coût de sélection de cet arc dans le chemin.\n",
    "\n",
    "    # GRB.MINIMIZE: Ceci spécifie l'objectif de minimisation de la fonction objectif. Dans le contexte de ce problème de plus court chemin, \n",
    "    # cela signifie que le solveur cherchera la configuration des variables X qui minimise la somme totale des coûts des arcs sélectionnés, \n",
    "    # conformément au critère de coût C.\n",
    "\n",
    "\n",
    "    m.setObjective(quicksum([C[(i, j)]*x_i_j for (i, j), x_i_j in X.items()]), GRB.MINIMIZE)\n",
    "    # -\n",
    "    \n",
    "    # -- Choix d'un paramétrage d'affichage minimaliste --\n",
    "    m.params.outputflag = 0 # mode muet\n",
    "    # - \n",
    "\n",
    "    # -- Mise à jour du modèle  --\n",
    "    m.update()\n",
    "    # -\n",
    "    \n",
    "    return m\n",
    "    \n",
    "    \n",
    "    "
   ]
  },
  {
   "cell_type": "code",
   "execution_count": 16,
   "metadata": {},
   "outputs": [
    {
     "name": "stdout",
     "output_type": "stream",
     "text": [
      "{(0, 1): <gurobi.Var *Awaiting Model Update*>, (0, 2): <gurobi.Var *Awaiting Model Update*>, (0, 3): <gurobi.Var *Awaiting Model Update*>, (1, 4): <gurobi.Var *Awaiting Model Update*>, (1, 5): <gurobi.Var *Awaiting Model Update*>, (2, 4): <gurobi.Var *Awaiting Model Update*>, (2, 5): <gurobi.Var *Awaiting Model Update*>, (2, 6): <gurobi.Var *Awaiting Model Update*>, (3, 5): <gurobi.Var *Awaiting Model Update*>, (3, 6): <gurobi.Var *Awaiting Model Update*>, (4, 7): <gurobi.Var *Awaiting Model Update*>, (5, 7): <gurobi.Var *Awaiting Model Update*>, (6, 7): <gurobi.Var *Awaiting Model Update*>}\n",
      "<gurobi.Model Continuous instance TD4-Exo2: 0 constrs, 0 vars, Parameter changes: Username=(user-defined)>\n",
      "\n",
      "\n",
      "Le chemin le plus court a pour longueur : 10\n",
      "Il s'agit de : \n",
      " 0->1->5->7\n"
     ]
    }
   ],
   "source": [
    "m = generer_PCC_model()\n",
    "\n",
    "# -- Affichage en mode texte du PL --\n",
    "m.write(\"shortest_path.lp\")\n",
    "#- \n",
    "\n",
    "# -- Résolution --\n",
    "m.optimize()\n",
    "\n",
    "# -- Vérification du statut et Affichage (le cas échéant) des solutions --\n",
    "if m.status == GRB.INFEASIBLE:\n",
    "    print(\"\\n LE PROGRAMME N'A PAS DE SOLUTION!!!\")\n",
    "elif m.status == GRB.UNBOUNDED:\n",
    "    print(\"\\n LE PROGRAMME EST NON BORNÉ!!!\")\n",
    "else:\n",
    "    # valeur_PCC : int          \n",
    "    ## la valeur du plus court chemin du sommet 0 au sommet 7.\n",
    "    valeur_PCC = int(m.objVal)                      # valeur_PCC à compléter\n",
    "    print(\"\\n\\nLe chemin le plus court a pour longueur : {}\".format(valeur_PCC))\n",
    "    \n",
    "    # PCC : str\n",
    "    ## La chaine correspondant au plus court chemin.\n",
    "    PCC = \"\"                \n",
    "    Path = list()\n",
    "    current_vertex = min(Sommets)\n",
    "    while current_vertex != max(Sommets):\n",
    "        Path.append(str(current_vertex))\n",
    "        current_vertex = max([j for j in Sommets if (current_vertex, j) in C], \n",
    "                             key=lambda j : m.getVarByName(f'x_{current_vertex}_{j}').x)\n",
    "    Path.append(str(current_vertex))\n",
    "    PCC = \"->\".join(Path)\n",
    "    print(\"Il s'agit de : \\n\", PCC) "
   ]
  },
  {
   "cell_type": "markdown",
   "metadata": {},
   "source": [
    "# Question 6"
   ]
  },
  {
   "cell_type": "code",
   "execution_count": 23,
   "metadata": {},
   "outputs": [
    {
     "name": "stdout",
     "output_type": "stream",
     "text": [
      "La solution trouvée à l'itération 0 est : (10.0, 20.0)\n",
      "Il s'agit de : \n",
      " 0->1->5->7\n",
      "La solution trouvée à l'itération 1 est : (13.0, 16.0)\n",
      "Il s'agit de : \n",
      " 0->2->6->7\n",
      "La solution trouvée à l'itération 2 est : (16.0, 15.0)\n",
      "Il s'agit de : \n",
      " 0->1->4->7\n",
      "La solution trouvée à l'itération 3 est : (18.0, 12.0)\n",
      "Il s'agit de : \n",
      " 0->3->5->7\n"
     ]
    }
   ],
   "source": [
    "# epsilon : float\n",
    "epsilon = 0.00001\n",
    "\n",
    "m = generer_PCC_model()\n",
    "\n",
    "# -- Résolution --\n",
    "m.optimize()\n",
    "\n",
    "# otherObjExpr : LinExpr\n",
    "## represente l'expression lineaire de la fonction objectif correspondant au critère non optimisé (C_prim)\n",
    "otherObjExpr = quicksum([cout_i_j*m.getVarByName(f'x_{i}_{j}') for (i, j), cout_i_j in C_prim.items()])\n",
    "\n",
    "it = 0\n",
    "Liste_solutions_efficaces = list()\n",
    "while m.status != GRB.INFEASIBLE:\n",
    "    if critereAOptimiser == 1:\n",
    "        sol = (m.objVal, otherObjExpr.getValue())\n",
    "        Liste_solutions_efficaces.append(sol)\n",
    "    else:\n",
    "        sol = (otherObjExpr.getValue(), m.objVal)\n",
    "        Liste_solutions_efficaces.append(sol)\n",
    "\n",
    "    print(\"La solution trouvée à l'itération {} est : {}\".format(it, sol))\n",
    "    # -- Affichage de la solution dans l'espace de decision\n",
    "    PCC = \"\"                \n",
    "    Path = list()\n",
    "    current_vertex = min(Sommets)\n",
    "    while current_vertex != max(Sommets):\n",
    "        Path.append(str(current_vertex))\n",
    "        current_vertex = max([j for j in Sommets if (current_vertex, j) in C], \n",
    "                             key=lambda j : m.getVarByName(f'x_{current_vertex}_{j}').x)\n",
    "    Path.append(str(current_vertex))\n",
    "    PCC = \"->\".join(Path)\n",
    "    print(\"Il s'agit de : \\n\", PCC) \n",
    "    # - \n",
    "    it += 1\n",
    "    # -- Ajout de l'epsilon constraint\n",
    "    m.addConstr(otherObjExpr <= otherObjExpr.getValue() - epsilon, name=f'epsilon_constraint_{it}')\n",
    "    # -- Mise à jour du modèle  --\n",
    "    m.update()\n",
    "    # -- Résolution --\n",
    "    m.optimize()\n",
    "    "
   ]
  },
  {
   "cell_type": "code",
   "execution_count": 24,
   "metadata": {},
   "outputs": [
    {
     "data": {
      "text/plain": [
       "<matplotlib.legend.Legend at 0x21568028c90>"
      ]
     },
     "execution_count": 24,
     "metadata": {},
     "output_type": "execute_result"
    },
    {
     "data": {
      "image/png": "[encoded data removed]",
      "text/plain": [
       "<Figure size 640x480 with 1 Axes>"
      ]
     },
     "metadata": {},
     "output_type": "display_data"
    }
   ],
   "source": [
    "#Z1 : List[float]\n",
    "\n",
    "Z1 = [sol[0] for sol in Liste_solutions_efficaces]\n",
    "#Z2 : List[float]\n",
    "Z2 = [sol[1] for sol in Liste_solutions_efficaces]\n",
    "\n",
    "k = 0\n",
    "for i, j in zip(Z1, Z2):\n",
    "    plt.scatter(i, j, marker='.', label=str((i,j)))\n",
    "    plt.annotate(str(k), (i, j))\n",
    "    k += 1\n",
    "\n",
    "plt.grid(linestyle='--', color='gray')\n",
    "plt.xlim((min(Z1) - 1, max(Z1) + 1)) \n",
    "plt.ylim((min(Z2) - 1, max(Z2) + 1))\n",
    "\n",
    "plt.xlabel('critere1')\n",
    "plt.ylabel('critere2')\n",
    "plt.legend(bbox_to_anchor = (1.05, 1), loc = 2, borderaxespad = 0.)"
   ]
  }
 ],
 "metadata": {
  "kernelspec": {
   "display_name": "Python 3",
   "language": "python",
   "name": "python3"
  },
  "language_info": {
   "codemirror_mode": {
    "name": "ipython",
    "version": 3
   },
   "file_extension": ".py",
   "mimetype": "text/x-python",
   "name": "python",
   "nbconvert_exporter": "python",
   "pygments_lexer": "ipython3",
   "version": "3.11.8"
  }
 },
 "nbformat": 4,
 "nbformat_minor": 2
}

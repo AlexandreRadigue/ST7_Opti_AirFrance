{
 "cells": [
  {
   "cell_type": "markdown",
   "metadata": {},
   "source": [
    "12/02/2024"
   ]
  },
  {
   "cell_type": "markdown",
   "metadata": {},
   "source": [
    "## Modules"
   ]
  },
  {
   "cell_type": "code",
   "execution_count": 2,
   "metadata": {},
   "outputs": [],
   "source": [
    "# Modules de base\n",
    "import numpy as np\n",
    "import matplotlib.pyplot as plt\n",
    "%matplotlib inline\n",
    "\n",
    "# Module relatif à Gurobi\n",
    "from gurobipy import *\n",
    "\n",
    "# Module csv\n",
    "import csv"
   ]
  },
  {
   "cell_type": "code",
   "execution_count": 3,
   "metadata": {},
   "outputs": [],
   "source": [
    "# number_of_depots : int\n",
    "number_of_depots = 12\n",
    "\n",
    "# number_of_customers : int\n",
    "number_of_customers = 12"
   ]
  },
  {
   "cell_type": "code",
   "execution_count": 12,
   "metadata": {},
   "outputs": [
    {
     "name": "stdout",
     "output_type": "stream",
     "text": [
      "{'Depot': '1', 'Customer1': '100.0', 'Customer2': '80.0', 'Customer3': '50.0', 'Customer4': '50.0', 'Customer5': '60.0', 'Customer6': '100.0', 'Customer7': '120.0', 'Customer8': '90.0', 'Customer9': '60.0', 'Customer10': '70.0', 'Customer11': '65.0', 'Customer12': '110.0'}\n",
      "{'Depot': '2', 'Customer1': '120.0', 'Customer2': '90.0', 'Customer3': '60.0', 'Customer4': '70.0', 'Customer5': '65.0', 'Customer6': '110.0', 'Customer7': '140.0', 'Customer8': '110.0', 'Customer9': '80.0', 'Customer10': '80.0', 'Customer11': '75.0', 'Customer12': '130.0'}\n",
      "{'Depot': '3', 'Customer1': '140.0', 'Customer2': '110.0', 'Customer3': '80.0', 'Customer4': '80.0', 'Customer5': '75.0', 'Customer6': '130.0', 'Customer7': '160.0', 'Customer8': '125.0', 'Customer9': '100.0', 'Customer10': '100.0', 'Customer11': '80.0', 'Customer12': '150.0'}\n",
      "{'Depot': '4', 'Customer1': '160.0', 'Customer2': '125.0', 'Customer3': '100.0', 'Customer4': '100.0', 'Customer5': '80.0', 'Customer6': '150.0', 'Customer7': '190.0', 'Customer8': '150.0', 'Customer9': '130.0', 'Customer10': 'inf', 'Customer11': 'inf', 'Customer12': 'inf'}\n",
      "{'Depot': '5', 'Customer1': '190.0', 'Customer2': '150.0', 'Customer3': '130.0', 'Customer4': 'inf', 'Customer5': 'inf', 'Customer6': 'inf', 'Customer7': '200.0', 'Customer8': '180.0', 'Customer9': '150.0', 'Customer10': 'inf', 'Customer11': 'inf', 'Customer12': 'inf'}\n",
      "{'Depot': '6', 'Customer1': '200.0', 'Customer2': '180.0', 'Customer3': '150.0', 'Customer4': 'inf', 'Customer5': 'inf', 'Customer6': 'inf', 'Customer7': '100.0', 'Customer8': '80.0', 'Customer9': '50.0', 'Customer10': '50.0', 'Customer11': '60.0', 'Customer12': '100.0'}\n",
      "{'Depot': '7', 'Customer1': '100.0', 'Customer2': '80.0', 'Customer3': '50.0', 'Customer4': '50.0', 'Customer5': '60.0', 'Customer6': '100.0', 'Customer7': '120.0', 'Customer8': '90.0', 'Customer9': '60.0', 'Customer10': '70.0', 'Customer11': '65.0', 'Customer12': '110.0'}\n",
      "{'Depot': '8', 'Customer1': '120.0', 'Customer2': '90.0', 'Customer3': '60.0', 'Customer4': '70.0', 'Customer5': '65.0', 'Customer6': '110.0', 'Customer7': '140.0', 'Customer8': '110.0', 'Customer9': '80.0', 'Customer10': '80.0', 'Customer11': '75.0', 'Customer12': '130.0'}\n",
      "{'Depot': '9', 'Customer1': '140.0', 'Customer2': '110.0', 'Customer3': '80.0', 'Customer4': '80.0', 'Customer5': '75.0', 'Customer6': '130.0', 'Customer7': '160.0', 'Customer8': '125.0', 'Customer9': '100.0', 'Customer10': '100.0', 'Customer11': '80.0', 'Customer12': '150.0'}\n",
      "{'Depot': '10', 'Customer1': '160.0', 'Customer2': '125.0', 'Customer3': '100.0', 'Customer4': '100.0', 'Customer5': '80.0', 'Customer6': '150.0', 'Customer7': '190.0', 'Customer8': '150.0', 'Customer9': '130.0', 'Customer10': 'inf', 'Customer11': 'inf', 'Customer12': 'inf'}\n",
      "{'Depot': '11', 'Customer1': '190.0', 'Customer2': '150.0', 'Customer3': '130.0', 'Customer4': 'inf', 'Customer5': 'inf', 'Customer6': 'inf', 'Customer7': '200.0', 'Customer8': '180.0', 'Customer9': '150.0', 'Customer10': 'inf', 'Customer11': 'inf', 'Customer12': 'inf'}\n",
      "{'Depot': '12', 'Customer1': '200.0', 'Customer2': '180.0', 'Customer3': '150.0', 'Customer4': 'inf', 'Customer5': 'inf', 'Customer6': 'inf', 'Customer7': '100.0', 'Customer8': '80.0', 'Customer9': '50.0', 'Customer10': '50.0', 'Customer11': '60.0', 'Customer12': '100.0'}\n"
     ]
    }
   ],
   "source": [
    "# delivery_costs_file : str\n",
    "delivery_costs_file = \"C:/Users/eugid/Desktop/CoursCS2A/ST7 - Optimisation transport flux passagers/fournis/fournis/delivery-costs.csv\"\n",
    "\n",
    "# TABLE1 : dict[(int, int) : float]\n",
    "TABLE1 = dict()\n",
    "\n",
    "# Chargement des donnees\n",
    "with open(delivery_costs_file) as deliveryCostsFile:\n",
    "    reader = csv.DictReader(deliveryCostsFile)\n",
    "    for row in reader:\n",
    "        print(row)\n",
    "        d = int(row['Depot'])\n",
    "        for c in range(1, number_of_customers + 1):\n",
    "            TABLE1[(d, c)] = float(row[f'Customer{c}'])"
   ]
  },
  {
   "cell_type": "code",
   "execution_count": 15,
   "metadata": {},
   "outputs": [
    {
     "name": "stdout",
     "output_type": "stream",
     "text": [
      "{'Depot': '1', 'Cost': '3500', 'Capacity': '300'}\n",
      "{'Depot': '2', 'Cost': '9000', 'Capacity': '250'}\n",
      "{'Depot': '3', 'Cost': '10000', 'Capacity': '100'}\n",
      "{'Depot': '4', 'Cost': '4000', 'Capacity': '180'}\n",
      "{'Depot': '5', 'Cost': '3000', 'Capacity': '275'}\n",
      "{'Depot': '6', 'Cost': '9000', 'Capacity': '300'}\n",
      "{'Depot': '7', 'Cost': '9000', 'Capacity': '200'}\n",
      "{'Depot': '8', 'Cost': '3000', 'Capacity': '220'}\n",
      "{'Depot': '9', 'Cost': '4000', 'Capacity': '270'}\n",
      "{'Depot': '10', 'Cost': '10000', 'Capacity': '250'}\n",
      "{'Depot': '11', 'Cost': '9000', 'Capacity': '230'}\n",
      "{'Depot': '12', 'Cost': '3500', 'Capacity': '180'}\n"
     ]
    }
   ],
   "source": [
    "# depots_file : str\n",
    "depots_file = \"C:/Users/eugid/Desktop/CoursCS2A/ST7 - Optimisation transport flux passagers/fournis/fournis/depots.csv\"\n",
    "\n",
    "# TABLE2 : dict[int : dict[str : int]]\n",
    "TABLE2 = dict()\n",
    "\n",
    "# Chargement des donnees\n",
    "with open(depots_file) as depotsFile:\n",
    "    reader = csv.DictReader(depotsFile)\n",
    "    for row in reader:\n",
    "        print(row)\n",
    "        TABLE2[int(row['Depot'])] = {'Cost' : int(row['Cost']), 'Capacity' : int(row['Capacity'])}"
   ]
  },
  {
   "cell_type": "code",
   "execution_count": 17,
   "metadata": {},
   "outputs": [
    {
     "name": "stdout",
     "output_type": "stream",
     "text": [
      "{'Customer': '1', 'Demand': '120'}\n",
      "{'Customer': '2', 'Demand': '80'}\n",
      "{'Customer': '3', 'Demand': '75'}\n",
      "{'Customer': '4', 'Demand': '100'}\n",
      "{'Customer': '5', 'Demand': '110'}\n",
      "{'Customer': '6', 'Demand': '100'}\n",
      "{'Customer': '7', 'Demand': '90'}\n",
      "{'Customer': '8', 'Demand': '60'}\n",
      "{'Customer': '9', 'Demand': '30'}\n",
      "{'Customer': '10', 'Demand': '150'}\n",
      "{'Customer': '11', 'Demand': '95'}\n",
      "{'Customer': '12', 'Demand': '120'}\n"
     ]
    }
   ],
   "source": [
    "# customers_file : str\n",
    "customers_file = \"C:/Users/eugid/Desktop/CoursCS2A/ST7 - Optimisation transport flux passagers/fournis/fournis/customers.csv\"\n",
    "\n",
    "# TABLE3 : dict[int : int]\n",
    "TABLE3 = dict()\n",
    "\n",
    "# Chargement des donnees\n",
    "with open(customers_file) as customersFile:\n",
    "    reader = csv.DictReader(customersFile)\n",
    "    for row in reader:\n",
    "        print(row)\n",
    "        TABLE3[int(row['Customer'])] = int(row['Demand'])"
   ]
  },
  {
   "cell_type": "markdown",
   "metadata": {},
   "source": [
    "Le code ci-dessus charge l'ensemble des données du problème (Tables 1, 2 et 3) sous la forme de dictionnaires Python.\n",
    "<br/>\n",
    "\n",
    "Il s'agit de :\n",
    "    \n",
    "-  **TABLE1** : qui associe à la paire $(i,\\,j)$ le coût (en K€) de livraison de la demande complète du client $j$ par l'entrepôt $i$;\n",
    "\n",
    "-  **TABLE2** : qui associe à $i$ un dictionnaire de 2 associations de clés *Cost* et *Capacity* renseignant sur le côut fixe de construction de l'entrepôt $i$ et sur sa capacité;\n",
    "-  **TABLE3** : qui associe à $j$ la demande du client $j$.\n"
   ]
  },
  {
   "cell_type": "markdown",
   "metadata": {},
   "source": [
    "# Manipulation des dictionnaires"
   ]
  },
  {
   "cell_type": "markdown",
   "metadata": {},
   "source": [
    "Les instructions suivantes vous montrent comment récupérer les données du problème via les dictionnaires TABLE1, TABLE2 et TABLE3"
   ]
  },
  {
   "cell_type": "code",
   "execution_count": 18,
   "metadata": {},
   "outputs": [],
   "source": [
    "assert TABLE1[(1, 1)] == 100\n",
    "assert TABLE1[(12, 4)] == float(\"inf\")"
   ]
  },
  {
   "cell_type": "code",
   "execution_count": 19,
   "metadata": {},
   "outputs": [],
   "source": [
    "assert TABLE2[2]['Cost'] == 9000\n",
    "assert TABLE2[2]['Capacity'] == 250"
   ]
  },
  {
   "cell_type": "code",
   "execution_count": 20,
   "metadata": {},
   "outputs": [],
   "source": [
    "assert TABLE3[11] == 95"
   ]
  },
  {
   "cell_type": "markdown",
   "metadata": {},
   "source": [
    "<font color=red><div align=\"center\">Attention : Vous n'êtes pas obligés d'utiliser les dictionnaires (TABLE1, TABLE2 et TABLE3) fournis dans votre rendu; vous êtes libres de définir vos propres structures pour le stockage des données du problème.</div></font>"
   ]
  },
  {
   "cell_type": "markdown",
   "metadata": {},
   "source": [
    "# Les Variables"
   ]
  },
  {
   "cell_type": "markdown",
   "metadata": {},
   "source": [
    "<font><div align=\"center\">Compléter le tableau ci-dessous avec les noms, types et descriptions des variables pertinentes pour le problème (les 5 lignes remplissables n'indiquent nullement pas le nombre de variables à définir)</div></font>\n",
    "\n",
    "\n",
    "| Nom Variable \t| Type (entier, binaire, continue) \t| Description \t|\n",
    "|:------------:\t|:--------------------------------:\t|:-----------:\t|\n",
    "|  pi  \t|            Entier            \t|  Il s'agit de la variable coût total de chaque entrepôt i \t|\n",
    "|  yi  \t|            Binaire            \t|  Si yi = 1, l'entrepôt i est ouvert, sinon il reste fermé \t|\n",
    "|  xij \t|            Entier ou continu            \t|  Quantité livrée depuis l'entrepôt i vers le client j \t|\n",
    "|  ci \t|            Entier ou continu            \t|  Capacité de l'entrepôt i \t|"
   ]
  },
  {
   "cell_type": "markdown",
   "metadata": {},
   "source": [
    "- Variables de décision pour l'ouverture des entrepôts : Ces variables peuvent être binaires (0 ou 1), où 1 indique qu'un entrepôt est ouvert et 0 qu'il ne l'est pas. Pour chaque entrepôt (i), on a une variable yi.\n",
    "\n",
    "- Variables de décision pour la quantité livrée : Ces variables déterminent la quantité de produits livrés de chaque entrepôt (i) à chaque client (j). Ces variables peuvent être continues ou entières, selon la nécessité de modéliser des quantités fractionnées ou non. On les note xij.\n",
    "\n",
    "- Nature des variables :\n",
    "\n",
    "Les variables yi sont binaires.\n",
    "Les variables xij peuvent être continues ou entières, en fonction de la spécification exacte du problème (s'il est possible de livrer une fraction de produit, elles seront continues ; sinon, elles seront entières).\n",
    "\n",
    "Ces variables permettent de modéliser à la fois la décision d'ouvrir ou non des entrepôts et la gestion des livraisons aux différents clients, en tenant compte des coûts fixes d'ouverture des entrepôts et des coûts variables de livraison."
   ]
  },
  {
   "cell_type": "code",
   "execution_count": 31,
   "metadata": {},
   "outputs": [],
   "source": [
    "from gurobipy import Model, GRB\n",
    "\n",
    "# Création d'un nouveau modèle\n",
    "model = Model(\"ProblemeOptimisationTP\")\n",
    "\n",
    "# number_of_depots : int\n",
    "number_of_depots = 12\n",
    "\n",
    "# number_of_customers : int\n",
    "number_of_customers = 12\n",
    "\n",
    "# Variables d'ouverture des entrepôts (y_i)\n",
    "y = model.addVars(TABLE2.keys(), vtype=GRB.BINARY, name=\"y\")\n",
    "\n",
    "# Variables de quantité livrée de l'entrepôt i au client j (x_ij)\n",
    "x = model.addVars(TABLE2.keys(), TABLE3.keys(), vtype=GRB.CONTINUOUS, name=\"x\", lb=0)\n",
    "\n",
    "\n",
    "model.update()"
   ]
  },
  {
   "cell_type": "markdown",
   "metadata": {},
   "source": [
    "# Les Contraintes"
   ]
  },
  {
   "cell_type": "markdown",
   "metadata": {},
   "source": [
    "<font><div align=\"center\">En vous inspirant de l'écriture de la contrainte de la cellule suivante, donner (une par cellule) l'ensemble des contraintes s'appliquant au problème étudié</div></font>"
   ]
  },
  {
   "cell_type": "markdown",
   "metadata": {},
   "source": [
    "$$\n",
    "\\sum_{i = 1}^{16} p_i x_{ij} \\leq 100 \\;\\;\\;\\; \\text{pour tout } j = 1, \\dots, 3\n",
    "$$\n",
    "\n",
    "\n",
    "Description de la contrainte : Cette contrainte est un exemple !!!"
   ]
  },
  {
   "cell_type": "markdown",
   "metadata": {},
   "source": [
    "## Première contrainte (question 3/4)\n",
    "\n",
    "Si un entrepôt i est fermé (c'est-à-dire yi = 0), alors aucune quantité xij ne peut être livrée de cet entrepôt vers un client j. Cependant, comme on se place en modélisation des problèmes d'optimisation linéaire, il faut exprimer directement cette contrainte conditionnelle (\"si... alors...\") en utlisant un inégalité de la forme : \n",
    "\n",
    "$$ x_{ij} \\leq y_i * M $$ \n",
    "\n",
    "avec M une grande valeur constante qui représente la capacité maximale de livraison possible si l'entrepôt est ouvert. Je pense qu'il faut mettre M suffisamment grand pour ne pas restreindre la quantité livrée si l'entrepôt est ouvert. Je prends donc le max des quantité livrées."
   ]
  },
  {
   "cell_type": "markdown",
   "metadata": {},
   "source": [
    "## Autres contraintes (question 5/6/7)\n",
    "\n",
    "Contrainte de satisfaction de la demande : Chaque client doit recevoir une quantité de produit égale à sa demande.\n",
    "\n",
    "$$\n",
    "\\sum_{i=1}^{\\text{nb\\_entrepots}} x_{ij} = \\text{demande}_j \\quad \\forall j\n",
    "$$\n",
    "\n",
    "Contrainte de capacité des entrepôts : La quantité totale expédiée depuis un entrepôt ne doit pas dépasser sa capacité.\n",
    "\n",
    "$$\n",
    "\\sum_{j=1}^{\\text{nb\\_clients}} x_{ij} \\leq \\text{capacité}_i \\cdot y_i \\quad \\forall i\n",
    "$$\n",
    "\n",
    "Contraintes de livraison réalisable : Pour les cas où certaines livraisons entre entrepôts et clients ne sont pas possibles (indiquées par le symbole infini dans le tableau des coûts), on doit garantir que ces livraisons n'ont pas lieu.\n",
    "\n",
    "Pour chaque paire entrepôt-client où la livraison est impossible, on fixe la quantité livrée à 0."
   ]
  },
  {
   "cell_type": "markdown",
   "metadata": {},
   "source": []
  },
  {
   "cell_type": "code",
   "execution_count": 34,
   "metadata": {},
   "outputs": [],
   "source": [
    "M = 1000\n",
    "\n",
    "# Ajout des contraintes garantissant qu'on ne peut pas livrer à partir d'un entrepôt non ouvert\n",
    "for i in TABLE2.keys():  # Itération sur les clés des entrepôts\n",
    "    for j in TABLE3.keys():  # Itération sur les clés des clients\n",
    "        model.addConstr(x[i, j] <= y[i] * M, f\"ContrainteEntrepotOuvert_{i}_{j}\")\n"
   ]
  },
  {
   "cell_type": "code",
   "execution_count": 35,
   "metadata": {},
   "outputs": [],
   "source": [
    "# Contrainte de satisfaction de la demande\n",
    "for j in TABLE3.keys():\n",
    "    model.addConstr(sum(x[i, j] for i in TABLE2.keys()) == TABLE3[j], f\"Demande_{j}\")\n",
    "\n",
    "\n",
    "# Contrainte de capacité des entrepôts\n",
    "for i in TABLE2.keys():\n",
    "    model.addConstr(sum(x[i, j] for j in TABLE3.keys()) <= TABLE2[i]['Capacity'] * y[i], f\"Capacite_{i}\")\n",
    "\n",
    "\n",
    "# Mise à jour du modèle pour intégrer les nouvelles contraintes\n",
    "model.update()"
   ]
  },
  {
   "cell_type": "markdown",
   "metadata": {},
   "source": [
    "# La fonction Objectif"
   ]
  },
  {
   "cell_type": "markdown",
   "metadata": {},
   "source": [
    "<font><div align=\"center\">En vous inspirant de l'écriture de la fonction objectif de la cellule suivante, écrire celle qui s'applique au problème étudié et en donner une brève description</div></font>"
   ]
  },
  {
   "cell_type": "markdown",
   "metadata": {},
   "source": [
    "$$ Minimize \\;\\;\\; \\sum_{i = 1}^{12} 130n_i + 160s_i + 20k_i$$\n",
    "\n",
    "La fonction objectif ci-dessus est un exemple !!!"
   ]
  },
  {
   "cell_type": "markdown",
   "metadata": {},
   "source": [
    "La fonction objectif dans ce contexte vise à minimiser le coût total qui se compose de deux parties principales :\n",
    "\n",
    "\"Coût fixe d'ouverture des entrepôts\" et \"Coût variable de livraisonf\"\n",
    "\n",
    "On peut écrire la fonction objectif comme suit :\n",
    "$$\n",
    "\\text{Minimiser} \\quad Z = \\sum_{i \\in \\text{Entrepôts}} (\\text{Coût Fixe}_i \\cdot y_i) + \\sum_{i \\in \\text{Entrepôts}} \\sum_{j \\in \\text{Clients}} (\\text{Coût de Livraison}_{ij} \\cdot x_{ij})\n",
    "$$"
   ]
  },
  {
   "cell_type": "code",
   "execution_count": 43,
   "metadata": {},
   "outputs": [],
   "source": [
    "M_grand = 1e6 # permet de simuler l'infini\n",
    "\n",
    "# Réécrire la fonction objectif en excluant ou en ajustant les coûts infinis\n",
    "objective = quicksum(TABLE2[i]['Cost'] * y[i] for i in TABLE2.keys()) + \\\n",
    "            quicksum((TABLE1[(i, j)] if TABLE1[(i, j)] < M_grand else M_grand) * x[i, j] for i in TABLE2.keys() for j in TABLE3.keys())\n",
    "\n",
    "# Mise à jour du modèle pour inclure la fonction objectif\n",
    "model.setObjective(objective, GRB.MINIMIZE)\n",
    "\n",
    "# Mise à jour du modèle\n",
    "model.update()"
   ]
  },
  {
   "cell_type": "code",
   "execution_count": 45,
   "metadata": {},
   "outputs": [
    {
     "name": "stdout",
     "output_type": "stream",
     "text": [
      "Gurobi Optimizer version 11.0.0 build v11.0.0rc2 (win64 - Windows 10.0 (19045.2))\n",
      "\n",
      "CPU model: 12th Gen Intel(R) Core(TM) i7-1255U, instruction set [SSE2|AVX|AVX2]\n",
      "Thread count: 10 physical cores, 12 logical processors, using up to 12 threads\n",
      "\n",
      "Optimize a model with 192 rows, 156 columns and 888 nonzeros\n",
      "Model fingerprint: 0x6601a51f\n",
      "Variable types: 144 continuous, 12 integer (12 binary)\n",
      "Coefficient statistics:\n",
      "  Matrix range     [1e+00, 1e+03]\n",
      "  Objective range  [5e+01, 1e+06]\n",
      "  Bounds range     [1e+00, 1e+00]\n",
      "  RHS range        [3e+01, 2e+02]\n",
      "Presolved: 162 rows, 156 columns, 576 nonzeros\n",
      "\n",
      "Continuing optimization...\n",
      "\n",
      "\n",
      "Cutting planes:\n",
      "  Gomory: 1\n",
      "  MIR: 2\n",
      "  Flow cover: 1\n",
      "\n",
      "Explored 1 nodes (72 simplex iterations) in 0.01 seconds (0.00 work units)\n",
      "Thread count was 12 (of 12 available processors)\n",
      "\n",
      "Solution count 2: 111500 4.60121e+08 \n",
      "\n",
      "Optimal solution found (tolerance 1.00e-04)\n",
      "Best objective 1.115000000000e+05, best bound 1.115000000000e+05, gap 0.0000%\n",
      "Entrepôts à ouvrir :\n",
      "Entrepôt 1 est ouvert.\n",
      "Entrepôt 6 est ouvert.\n",
      "Entrepôt 8 est ouvert.\n",
      "Entrepôt 9 est ouvert.\n",
      "Entrepôt 12 est ouvert.\n",
      "\n",
      "Quantités livrées (de l'entrepôt vers le client) :\n",
      "Quantité livrée de l'entrepôt 1 au client 1 : 120.0\n",
      "Quantité livrée de l'entrepôt 1 au client 2 : 5.0\n",
      "Quantité livrée de l'entrepôt 1 au client 3 : 75.0\n",
      "Quantité livrée de l'entrepôt 1 au client 4 : 100.0\n",
      "Quantité livrée de l'entrepôt 6 au client 7 : 60.0\n",
      "Quantité livrée de l'entrepôt 6 au client 8 : 60.0\n",
      "Quantité livrée de l'entrepôt 6 au client 9 : 30.0\n",
      "Quantité livrée de l'entrepôt 6 au client 10 : 150.0\n",
      "Quantité livrée de l'entrepôt 8 au client 2 : 75.0\n",
      "Quantité livrée de l'entrepôt 8 au client 5 : 45.0\n",
      "Quantité livrée de l'entrepôt 8 au client 6 : 100.0\n",
      "Quantité livrée de l'entrepôt 9 au client 5 : 65.0\n",
      "Quantité livrée de l'entrepôt 9 au client 11 : 65.0\n",
      "Quantité livrée de l'entrepôt 12 au client 7 : 30.0\n",
      "Quantité livrée de l'entrepôt 12 au client 11 : 30.0\n",
      "Quantité livrée de l'entrepôt 12 au client 12 : 120.0\n"
     ]
    }
   ],
   "source": [
    "# Résoudre le modèle\n",
    "model.optimize()\n",
    "\n",
    "if model.status == GRB.OPTIMAL:\n",
    "    # Afficher les entrepôts ouverts\n",
    "    print(\"Entrepôts à ouvrir :\")\n",
    "    for i in TABLE2.keys():\n",
    "        if y[i].x > 0.5:  # y[i].x donne la valeur de la variable de décision y[i]\n",
    "            print(f\"Entrepôt {i} est ouvert.\")\n",
    "    \n",
    "    print(\"\\nQuantités livrées (de l'entrepôt vers le client) :\")\n",
    "    for i in TABLE2.keys():\n",
    "        for j in TABLE3.keys():\n",
    "            if x[i, j].x > 0:  # x[i, j].x donne la valeur de la variable de décision x[i, j]\n",
    "                print(f\"Quantité livrée de l'entrepôt {i} au client {j} : {x[i, j].x}\")\n",
    "else:\n",
    "    print(\"Aucune solution optimale trouvée.\")\n"
   ]
  },
  {
   "cell_type": "markdown",
   "metadata": {},
   "source": [
    "<font color=blue><div align=\"justify\">Pour aider : si l'on désigne par $z^*$ la valeur de l'objectif du problème à l'optimum, l'une des réponses ci-dessous est exacte :\n",
    "\n",
    "- $z^* = 0$ K€\n",
    "- $z^* = 18103$ K€\n",
    "- $z^* = 14239$ K€\n",
    "- $z^* = 111500$ K€\n",
    "- $z^* = 130596$ K€\n",
    "</div></font>"
   ]
  }
 ],
 "metadata": {
  "kernelspec": {
   "display_name": "Python 3",
   "language": "python",
   "name": "python3"
  },
  "language_info": {
   "codemirror_mode": {
    "name": "ipython",
    "version": 3
   },
   "file_extension": ".py",
   "mimetype": "text/x-python",
   "name": "python",
   "nbconvert_exporter": "python",
   "pygments_lexer": "ipython3",
   "version": "3.11.8"
  }
 },
 "nbformat": 4,
 "nbformat_minor": 2
}

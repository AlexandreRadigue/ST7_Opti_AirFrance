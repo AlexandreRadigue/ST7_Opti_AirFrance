{
 "cells": [
  {
   "cell_type": "markdown",
   "metadata": {},
   "source": [
    "# <font color=blue><div align=\"center\">TD 8</div></font>\n",
    "\n",
    "# <font color=blue><div align=\"center\">14-03-2023</div></font>"
   ]
  },
  {
   "cell_type": "code",
   "execution_count": 1,
   "metadata": {},
   "outputs": [],
   "source": [
    "# Modules de base\n",
    "import numpy as np\n",
    "import matplotlib.pyplot as plt\n",
    "%matplotlib inline\n",
    "\n",
    "# Module relatif à Gurobi\n",
    "from gurobipy import *"
   ]
  },
  {
   "cell_type": "markdown",
   "metadata": {},
   "source": [
    "## Exercice 1 : Sélection de projets"
   ]
  },
  {
   "cell_type": "code",
   "execution_count": 2,
   "metadata": {},
   "outputs": [],
   "source": [
    "# Classement des projets de l'an passé\n",
    "past = np.array([ [3, 5, 9],\n",
    "                  [5, 1, 9],\n",
    "                  [4, 8, 4.5],\n",
    "                  [2, 9, 4.5]])"
   ]
  },
  {
   "cell_type": "code",
   "execution_count": 3,
   "metadata": {},
   "outputs": [],
   "source": [
    "# Nouveaux projets :\n",
    "P = np.array([ [5.7, 4.3, 3.3],\n",
    "               [8.6, 9.5, 7.3],\n",
    "               [4.4, 0.7, 9.9],\n",
    "               [1.7, 9.4, 7.2],\n",
    "               [3.5, 5.4, 2.0],\n",
    "               [3.4, 2.4, 0.7],\n",
    "               [8.5, 6.5, 1.6],\n",
    "               [1.7, 1.6, 5.4],\n",
    "               [9.8, 2.8, 5.3],\n",
    "               [8.2, 8.1, 1.1] ])"
   ]
  },
  {
   "cell_type": "markdown",
   "metadata": {},
   "source": [
    "### Question 5"
   ]
  },
  {
   "cell_type": "code",
   "execution_count": 4,
   "metadata": {},
   "outputs": [],
   "source": [
    "m = Model(\"projects_ranking\")\n",
    "\n",
    "# Possibilité d'utiliser une telle fonction pour mettre à jour un modèle Gurobi (model) en introduisant des contraintes liées aux préférences sur les projets passés\n",
    "def addition_constraints(model,past_projects):\n",
    "     WEIGHTSDICT = []\n",
    "     m.addConstr(past[i][0]+past[i][1]+past[i][2]-(past[i+1][0]+past[i+1][1]+past[i+1][2]) for i in range(0,len(past)))\n",
    "     return WEIGHTSDICT\n",
    "\n",
    "# Renvoie le rang minimum (meilleur rang possible) d'un projet (project) étant donné l'ensemble des projets disponibles (possible_projects)\n",
    "# (il est possible d'incorporer un argument model si l'on veut éviter de redéfinir tout le modèle Gurobi)\n",
    "def minrank(model,possible_projects,project,past_projects):\n",
    "    WEIGHTSDICT = addition_constraints(model,past_projects)\n",
    "    XDICT = {i : m.addVar(vtype = GRB.BINARY, name=f'x_{i}')\n",
    "                    for i in range(1,len(P)+1)}\n",
    "    epsilon = - 10^(-2)\n",
    "    MINRANK_CONSTR = m.addConstr(quicksum(WEIGHTSDICT[j]*(P[project][j] - P[possible_projects][j]) for j in range(1,len(P)+1))<=epsilon)\n",
    "    X_OBJECTIVE = quicksum(XDICT[i] for i in range(1,len(P)+1))\n",
    "    m.setObjective(X_OBJECTIVE, GRB.MINIMIZE)\n",
    "    m.optimize()\n",
    "    return \n",
    "    "
   ]
  },
  {
   "cell_type": "markdown",
   "metadata": {},
   "source": [
    "### Question 7"
   ]
  },
  {
   "cell_type": "code",
   "execution_count": 5,
   "metadata": {},
   "outputs": [],
   "source": [
    "# Renvoie le rang maximum (pire rang) d'un projet (project) étant donné l'ensemble des projets disponibles (possible_projects)\n",
    "# (il est possible d'incorporer un argument model si l'on veut éviter de redéfinir tout le modèle Gurobi)\n",
    "def maxrank(model,possible_projects,project):\n",
    "    # To complete\n",
    "    return \n",
    "    "
   ]
  },
  {
   "cell_type": "markdown",
   "metadata": {},
   "source": [
    "### Question 8"
   ]
  },
  {
   "cell_type": "code",
   "execution_count": 6,
   "metadata": {},
   "outputs": [],
   "source": [
    "# Partitionne les projets de la liste possible_projects en fonction du nombre de projets à financer (nb_projects) en :\n",
    "# - projets retenus\n",
    "# - projets éliminés\n",
    "# - projets incertains\n",
    "# (il est possible d'incorporer un argument model si l'on veut éviter de redéfinir tout le modèle Gurobi)\n",
    "def partition(model,possible_projects,nb_projects):\n",
    "    #To complete\n",
    "    return     \n",
    "\n",
    "\n"
   ]
  },
  {
   "cell_type": "markdown",
   "metadata": {},
   "source": [
    "### Question 9"
   ]
  },
  {
   "cell_type": "code",
   "execution_count": 7,
   "metadata": {},
   "outputs": [],
   "source": [
    "# Contrainte w3 >> w2\n",
    "\n",
    "# Contrainte w2 >> w1\n",
    "\n",
    "\n"
   ]
  },
  {
   "cell_type": "markdown",
   "metadata": {},
   "source": [
    "### Question 11"
   ]
  },
  {
   "cell_type": "code",
   "execution_count": 8,
   "metadata": {},
   "outputs": [],
   "source": [
    "# Projets :\n",
    "projects = np.array([ [10, 50, 70],\n",
    "               [34, 56, 84],\n",
    "               [40, 90, 45],\n",
    "               [30, 10, 70],\n",
    "               [60, 80, 45],\n",
    "               [49, 56, 54],\n",
    "               [84, 12, 45],\n",
    "               [20, 40, 78],\n",
    "               [50, 80, 30],\n",
    "               [12, 98, 12],\n",
    "               [39, 65, 50],\n",
    "               [10, 78, 32] ])"
   ]
  },
  {
   "cell_type": "code",
   "execution_count": 9,
   "metadata": {},
   "outputs": [],
   "source": [
    "# new_projects :  liste de vecteurs correspondant à la liste des projets à évaluer cette année\n",
    "# past_projects : liste ordonnée de vecteurs correspondant aux projets de l’an passé (ordonnée du meilleur au moins bon projet)\n",
    "# nb_projects : nombre de projets qu’il est possible de financer cette année\n",
    "def funding(new_projects,past_projects,nb_projects):\n",
    "    #To complete \n",
    "    return "
   ]
  },
  {
   "cell_type": "markdown",
   "metadata": {},
   "source": [
    "## Exercice 2 : Ranking Universities (UTA)"
   ]
  },
  {
   "cell_type": "markdown",
   "metadata": {},
   "source": [
    "### Question 7 \n",
    "\n",
    "Implement a program which takes as input a set of vectors (list of Universities to compare), a rank order on some of these vectors (a ranking on a subset of Universities) and a number of linear pieces (for the piecewise value functions). The program must compute a piecewise linear value function that best restores this ranking, and compute the value of each University, so as to rank the whole set of Universities. "
   ]
  },
  {
   "cell_type": "code",
   "execution_count": 10,
   "metadata": {},
   "outputs": [],
   "source": [
    "reference_universities = np.array([ [27.5, 30, 8, 83, 55],\n",
    "                                    [32.5, 37.5, 45, 45, 91.5],\n",
    "                                    [25, 32.5, 16, 90, 25],\n",
    "                                    [30, 35, 4, 75, 85],\n",
    "                                    [25, 32.5, 24, 100, 100],\n",
    "                                    [39, 40, 8, 100, 15] ])"
   ]
  },
  {
   "cell_type": "code",
   "execution_count": 11,
   "metadata": {},
   "outputs": [],
   "source": [
    "new_universities = np.array([ [27.5, 30, 8, 83, 55],\n",
    "                                    [32.5, 37.5, 45, 45, 91.5],\n",
    "                                    [25, 32.5, 16, 90, 25],\n",
    "                                    [30, 35, 4, 75, 85],\n",
    "                                    [25, 32.5, 24, 100, 100],\n",
    "                                    [39, 40, 8, 100, 15],\n",
    "                                    [32, 35, 25, 85, 12] ])"
   ]
  },
  {
   "cell_type": "code",
   "execution_count": 12,
   "metadata": {},
   "outputs": [],
   "source": [
    "reference_cars = np.array([ [173, 11.4, 10.01, 10, 7.88, 49500],\n",
    "                            [176, 12.3, 10.48, 11, 7.96, 46700],\n",
    "                            [142, 8.2, 7.3, 5, 5.65, 32100],\n",
    "                            [148, 10.5, 9.61, 7, 6.15, 39150],\n",
    "                            [178, 14.5, 11.05, 13, 8.06, 64700],\n",
    "                            [180, 13.6, 10.4, 13, 8.47, 75700],\n",
    "                            [182, 12.7, 12.26, 11, 7.81, 68593],\n",
    "                            [145, 14.3, 12.95, 11, 8.38, 55000],\n",
    "                            [161, 8.6, 8.42, 7, 5.11, 35200],\n",
    "                            [117, 7.2, 6.75, 3, 5.81, 24800] ])"
   ]
  },
  {
   "cell_type": "code",
   "execution_count": 13,
   "metadata": {},
   "outputs": [],
   "source": [
    "new_cars = np.array([[173, 11.4, 10.01, 10, 7.88, 49500],\n",
    "                    [176, 12.3, 10.48, 11, 7.96, 46700],\n",
    "                    [142, 8.2, 7.3, 5, 5.65, 32100],\n",
    "                    [148, 10.5, 9.61, 7, 6.15, 39150],\n",
    "                    [178, 14.5, 11.05, 13, 8.06, 64700],\n",
    "                    [180, 13.6, 10.4, 13, 8.47, 75700],\n",
    "                    [182, 12.7, 12.26, 11, 7.81, 68593],\n",
    "                    [145, 14.3, 12.95, 11, 8.38, 55000],\n",
    "                    [161, 8.6, 8.42, 7, 5.11, 35200],\n",
    "                    [117, 7.2, 6.75, 3, 5.81, 24800],\n",
    "                    [134, 7.4, 6.9, 3, 5.52, 25200]])"
   ]
  },
  {
   "cell_type": "code",
   "execution_count": 14,
   "metadata": {},
   "outputs": [],
   "source": [
    "def rank(list_alternatives,partial_ranking,L):\n",
    "    #To complete\n",
    "    return \n",
    "    "
   ]
  },
  {
   "cell_type": "code",
   "execution_count": null,
   "metadata": {},
   "outputs": [],
   "source": []
  }
 ],
 "metadata": {
  "kernelspec": {
   "display_name": "Python 3",
   "language": "python",
   "name": "python3"
  },
  "language_info": {
   "codemirror_mode": {
    "name": "ipython",
    "version": 3
   },
   "file_extension": ".py",
   "mimetype": "text/x-python",
   "name": "python",
   "nbconvert_exporter": "python",
   "pygments_lexer": "ipython3",
   "version": "3.11.8"
  }
 },
 "nbformat": 4,
 "nbformat_minor": 2
}

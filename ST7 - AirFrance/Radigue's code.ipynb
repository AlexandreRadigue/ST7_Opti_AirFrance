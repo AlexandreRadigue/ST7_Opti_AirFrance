{
 "cells": [
  {
   "cell_type": "markdown",
   "metadata": {},
   "source": [
    "# <font color=blue><div align=\"center\">Seats Allocation within an Aircraft</div></font>\n",
    "\n"
   ]
  },
  {
   "cell_type": "markdown",
   "metadata": {},
   "source": [
    "Ouissal, Salima, Alexandre, Idriss, Elias"
   ]
  },
  {
   "cell_type": "markdown",
   "metadata": {},
   "source": [
    "## Modules"
   ]
  },
  {
   "cell_type": "code",
   "execution_count": 1,
   "metadata": {},
   "outputs": [],
   "source": [
    "# Modules de base\n",
    "import numpy as np\n",
    "import matplotlib.pyplot as plt\n",
    "import pandas as pd\n",
    "%matplotlib inline\n",
    "\n",
    "# Module relatif à Gurobi\n",
    "from gurobipy import *\n",
    "\n",
    "# Module csv\n",
    "import csv\n",
    "import matplotlib.pyplot as plt"
   ]
  },
  {
   "cell_type": "markdown",
   "metadata": {},
   "source": [
    "## Préprocessing des données"
   ]
  },
  {
   "cell_type": "markdown",
   "metadata": {},
   "source": [
    "Pour la suite de notre étude, on considère le modèle d'avion **Airbus A320**, qui dispose de **174** sièges. (La classe businees n'est pas prise en compte)"
   ]
  },
  {
   "cell_type": "markdown",
   "metadata": {},
   "source": [
    "\n",
    "<img src=\"modele_avion.jpg\" alt=\"Modèle de l'avion\" width=\"400\" height=\"600\">"
   ]
  },
  {
   "cell_type": "code",
   "execution_count": 2,
   "metadata": {},
   "outputs": [],
   "source": [
    "number_of_seats = 174"
   ]
  },
  {
   "cell_type": "code",
   "execution_count": 3,
   "metadata": {},
   "outputs": [],
   "source": [
    "# Load the Excel file into a pandas DataFrame\n",
    "\n",
    "df_21Oct = pd.read_excel('../ST7 - AirFrance/DataSeating 2024.xlsx', sheet_name=0 , skipfooter=2)\n",
    "df_22Oct = pd.read_excel('../ST7 - AirFrance/DataSeating 2024.xlsx', sheet_name=1 , skipfooter=2)\n",
    "df_23Oct = pd.read_excel('../ST7 - AirFrance/DataSeating 2024.xlsx', sheet_name=2 , skipfooter=2)\n",
    "df_24Oct = pd.read_excel('../ST7 - AirFrance/DataSeating 2024.xlsx', sheet_name=3 , skipfooter=2)\n",
    "df_30Oct = pd.read_excel('../ST7 - AirFrance/DataSeating 2024.xlsx', sheet_name=4 , skipfooter=2)\n",
    "df_05Nov = pd.read_excel('../ST7 - AirFrance/DataSeating 2024.xlsx', sheet_name=5 , skipfooter=2)\n",
    "df_07Nov = pd.read_excel('../ST7 - AirFrance/DataSeating 2024.xlsx', sheet_name=6 , skipfooter=2)\n"
   ]
  },
  {
   "cell_type": "code",
   "execution_count": 4,
   "metadata": {},
   "outputs": [
    {
     "data": {
      "text/html": [
       "<div>\n",
       "<style scoped>\n",
       "    .dataframe tbody tr th:only-of-type {\n",
       "        vertical-align: middle;\n",
       "    }\n",
       "\n",
       "    .dataframe tbody tr th {\n",
       "        vertical-align: top;\n",
       "    }\n",
       "\n",
       "    .dataframe thead th {\n",
       "        text-align: right;\n",
       "    }\n",
       "</style>\n",
       "<table border=\"1\" class=\"dataframe\">\n",
       "  <thead>\n",
       "    <tr style=\"text-align: right;\">\n",
       "      <th></th>\n",
       "      <th>Numéro du groupe</th>\n",
       "      <th>Femmes</th>\n",
       "      <th>Hommes</th>\n",
       "      <th>WCHR</th>\n",
       "      <th>TransitTime</th>\n",
       "    </tr>\n",
       "  </thead>\n",
       "  <tbody>\n",
       "    <tr>\n",
       "      <th>0</th>\n",
       "      <td>1</td>\n",
       "      <td>1.0</td>\n",
       "      <td>NaN</td>\n",
       "      <td>NaN</td>\n",
       "      <td>00:55:00</td>\n",
       "    </tr>\n",
       "    <tr>\n",
       "      <th>1</th>\n",
       "      <td>2</td>\n",
       "      <td>NaN</td>\n",
       "      <td>1.0</td>\n",
       "      <td>NaN</td>\n",
       "      <td>00:00:00</td>\n",
       "    </tr>\n",
       "    <tr>\n",
       "      <th>2</th>\n",
       "      <td>3</td>\n",
       "      <td>1.0</td>\n",
       "      <td>NaN</td>\n",
       "      <td>NaN</td>\n",
       "      <td>01:15:00</td>\n",
       "    </tr>\n",
       "    <tr>\n",
       "      <th>3</th>\n",
       "      <td>4</td>\n",
       "      <td>1.0</td>\n",
       "      <td>1.0</td>\n",
       "      <td>NaN</td>\n",
       "      <td>03:15:00</td>\n",
       "    </tr>\n",
       "    <tr>\n",
       "      <th>4</th>\n",
       "      <td>5</td>\n",
       "      <td>1.0</td>\n",
       "      <td>NaN</td>\n",
       "      <td>NaN</td>\n",
       "      <td>00:00:00</td>\n",
       "    </tr>\n",
       "  </tbody>\n",
       "</table>\n",
       "</div>"
      ],
      "text/plain": [
       "   Numéro du groupe  Femmes  Hommes  WCHR TransitTime\n",
       "0                 1     1.0     NaN   NaN    00:55:00\n",
       "1                 2     NaN     1.0   NaN    00:00:00\n",
       "2                 3     1.0     NaN   NaN    01:15:00\n",
       "3                 4     1.0     1.0   NaN    03:15:00\n",
       "4                 5     1.0     NaN   NaN    00:00:00"
      ]
     },
     "execution_count": 4,
     "metadata": {},
     "output_type": "execute_result"
    }
   ],
   "source": [
    "# Displaying the data\n",
    "\n",
    "df_07Nov.head()"
   ]
  },
  {
   "cell_type": "code",
   "execution_count": 5,
   "metadata": {},
   "outputs": [],
   "source": [
    "# On choisit la df sur laquelle on va travailler\n",
    "\n",
    "# df = df_21Oct\n",
    "# df = df_22Oct\n",
    "# df = df_23Oct\n",
    "# df = df_24Oct\n",
    "df = df_30Oct\n",
    "# df = df_05Nov\n",
    "# df = df_07Nov"
   ]
  },
  {
   "cell_type": "code",
   "execution_count": 6,
   "metadata": {},
   "outputs": [
    {
     "data": {
      "text/plain": [
       "{1: {'gender': 0, 'group': 1, 'transit': inf},\n",
       " 2: {'gender': 0, 'group': 1, 'transit': inf},\n",
       " 3: {'gender': 1, 'group': 1, 'transit': inf},\n",
       " 4: {'gender': 1, 'group': 1, 'transit': inf},\n",
       " 5: {'gender': 0, 'group': 2, 'transit': inf},\n",
       " 6: {'gender': 1, 'group': 3, 'transit': 60},\n",
       " 7: {'gender': 2, 'group': 3, 'transit': 60},\n",
       " 8: {'gender': 0, 'group': 4, 'transit': inf},\n",
       " 9: {'gender': 0, 'group': 4, 'transit': inf},\n",
       " 10: {'gender': 0, 'group': 4, 'transit': inf},\n",
       " 11: {'gender': 0, 'group': 4, 'transit': inf},\n",
       " 12: {'gender': 0, 'group': 5, 'transit': 115},\n",
       " 13: {'gender': 0, 'group': 6, 'transit': inf},\n",
       " 14: {'gender': 1, 'group': 6, 'transit': inf},\n",
       " 15: {'gender': 1, 'group': 7, 'transit': inf},\n",
       " 16: {'gender': 2, 'group': 7, 'transit': inf},\n",
       " 17: {'gender': 1, 'group': 8, 'transit': inf},\n",
       " 18: {'gender': 0, 'group': 9, 'transit': inf},\n",
       " 19: {'gender': 0, 'group': 10, 'transit': inf},\n",
       " 20: {'gender': 2, 'group': 10, 'transit': inf},\n",
       " 21: {'gender': 0, 'group': 11, 'transit': 60},\n",
       " 22: {'gender': 0, 'group': 11, 'transit': 60},\n",
       " 23: {'gender': 1, 'group': 11, 'transit': 60},\n",
       " 24: {'gender': 1, 'group': 11, 'transit': 60},\n",
       " 25: {'gender': 1, 'group': 11, 'transit': 60},\n",
       " 26: {'gender': 2, 'group': 12, 'transit': inf},\n",
       " 27: {'gender': 1, 'group': 13, 'transit': inf},\n",
       " 28: {'gender': 1, 'group': 14, 'transit': inf},\n",
       " 29: {'gender': 0, 'group': 15, 'transit': inf},\n",
       " 30: {'gender': 0, 'group': 15, 'transit': inf},\n",
       " 31: {'gender': 1, 'group': 16, 'transit': 255},\n",
       " 32: {'gender': 0, 'group': 17, 'transit': inf},\n",
       " 33: {'gender': 2, 'group': 17, 'transit': inf},\n",
       " 34: {'gender': 0, 'group': 18, 'transit': inf},\n",
       " 35: {'gender': 1, 'group': 18, 'transit': inf},\n",
       " 36: {'gender': 0, 'group': 19, 'transit': inf},\n",
       " 37: {'gender': 1, 'group': 19, 'transit': inf},\n",
       " 38: {'gender': 1, 'group': 19, 'transit': inf},\n",
       " 39: {'gender': 0, 'group': 20, 'transit': inf},\n",
       " 40: {'gender': 0, 'group': 21, 'transit': 115},\n",
       " 41: {'gender': 0, 'group': 22, 'transit': inf},\n",
       " 42: {'gender': 1, 'group': 23, 'transit': 165},\n",
       " 43: {'gender': 0, 'group': 24, 'transit': 115},\n",
       " 44: {'gender': 0, 'group': 24, 'transit': 115},\n",
       " 45: {'gender': 0, 'group': 25, 'transit': inf},\n",
       " 46: {'gender': 0, 'group': 26, 'transit': inf},\n",
       " 47: {'gender': 1, 'group': 27, 'transit': inf},\n",
       " 48: {'gender': 0, 'group': 28, 'transit': inf},\n",
       " 49: {'gender': 0, 'group': 28, 'transit': inf},\n",
       " 50: {'gender': 0, 'group': 29, 'transit': inf},\n",
       " 51: {'gender': 1, 'group': 30, 'transit': 60},\n",
       " 52: {'gender': 0, 'group': 31, 'transit': inf},\n",
       " 53: {'gender': 1, 'group': 31, 'transit': inf},\n",
       " 54: {'gender': 0, 'group': 32, 'transit': inf},\n",
       " 55: {'gender': 1, 'group': 33, 'transit': inf},\n",
       " 56: {'gender': 1, 'group': 34, 'transit': 255},\n",
       " 57: {'gender': 1, 'group': 35, 'transit': inf},\n",
       " 58: {'gender': 0, 'group': 36, 'transit': 115},\n",
       " 59: {'gender': 1, 'group': 36, 'transit': 115},\n",
       " 60: {'gender': 1, 'group': 36, 'transit': 115},\n",
       " 61: {'gender': 0, 'group': 37, 'transit': 60},\n",
       " 62: {'gender': 1, 'group': 37, 'transit': 60},\n",
       " 63: {'gender': 0, 'group': 38, 'transit': inf},\n",
       " 64: {'gender': 0, 'group': 39, 'transit': inf},\n",
       " 65: {'gender': 1, 'group': 40, 'transit': inf},\n",
       " 66: {'gender': 1, 'group': 41, 'transit': inf},\n",
       " 67: {'gender': 0, 'group': 42, 'transit': inf},\n",
       " 68: {'gender': 0, 'group': 43, 'transit': inf},\n",
       " 69: {'gender': 1, 'group': 44, 'transit': inf},\n",
       " 70: {'gender': 1, 'group': 45, 'transit': inf},\n",
       " 71: {'gender': 0, 'group': 46, 'transit': 60},\n",
       " 72: {'gender': 0, 'group': 46, 'transit': 60},\n",
       " 73: {'gender': 1, 'group': 46, 'transit': 60},\n",
       " 74: {'gender': 1, 'group': 47, 'transit': inf},\n",
       " 75: {'gender': 2, 'group': 48, 'transit': inf},\n",
       " 76: {'gender': 2, 'group': 48, 'transit': inf},\n",
       " 77: {'gender': 0, 'group': 49, 'transit': 165},\n",
       " 78: {'gender': 0, 'group': 50, 'transit': inf},\n",
       " 79: {'gender': 1, 'group': 51, 'transit': inf},\n",
       " 80: {'gender': 0, 'group': 52, 'transit': inf},\n",
       " 81: {'gender': 0, 'group': 52, 'transit': inf},\n",
       " 82: {'gender': 0, 'group': 52, 'transit': inf},\n",
       " 83: {'gender': 1, 'group': 53, 'transit': inf},\n",
       " 84: {'gender': 0, 'group': 54, 'transit': 115},\n",
       " 85: {'gender': 1, 'group': 55, 'transit': 60},\n",
       " 86: {'gender': 1, 'group': 56, 'transit': inf},\n",
       " 87: {'gender': 1, 'group': 57, 'transit': inf},\n",
       " 88: {'gender': 1, 'group': 58, 'transit': inf},\n",
       " 89: {'gender': 0, 'group': 59, 'transit': inf},\n",
       " 90: {'gender': 0, 'group': 59, 'transit': inf},\n",
       " 91: {'gender': 1, 'group': 59, 'transit': inf},\n",
       " 92: {'gender': 0, 'group': 60, 'transit': 165},\n",
       " 93: {'gender': 1, 'group': 60, 'transit': 165},\n",
       " 94: {'gender': 0, 'group': 61, 'transit': inf},\n",
       " 95: {'gender': 1, 'group': 62, 'transit': inf},\n",
       " 96: {'gender': 0, 'group': 63, 'transit': inf},\n",
       " 97: {'gender': 1, 'group': 64, 'transit': inf},\n",
       " 98: {'gender': 0, 'group': 65, 'transit': inf},\n",
       " 99: {'gender': 0, 'group': 66, 'transit': inf},\n",
       " 100: {'gender': 0, 'group': 67, 'transit': inf},\n",
       " 101: {'gender': 0, 'group': 67, 'transit': inf},\n",
       " 102: {'gender': 1, 'group': 68, 'transit': inf},\n",
       " 103: {'gender': 0, 'group': 69, 'transit': inf},\n",
       " 104: {'gender': 1, 'group': 70, 'transit': 60},\n",
       " 105: {'gender': 1, 'group': 71, 'transit': inf},\n",
       " 106: {'gender': 0, 'group': 72, 'transit': inf},\n",
       " 107: {'gender': 0, 'group': 72, 'transit': inf},\n",
       " 108: {'gender': 0, 'group': 73, 'transit': inf},\n",
       " 109: {'gender': 0, 'group': 74, 'transit': inf},\n",
       " 110: {'gender': 0, 'group': 74, 'transit': inf},\n",
       " 111: {'gender': 1, 'group': 75, 'transit': inf},\n",
       " 112: {'gender': 1, 'group': 76, 'transit': inf},\n",
       " 113: {'gender': 0, 'group': 77, 'transit': 115},\n",
       " 114: {'gender': 1, 'group': 78, 'transit': inf},\n",
       " 115: {'gender': 1, 'group': 79, 'transit': 115}}"
      ]
     },
     "execution_count": 6,
     "metadata": {},
     "output_type": "execute_result"
    }
   ],
   "source": [
    "# Groups : dict[int : List[int]]\n",
    "\n",
    "Passagers = dict()\n",
    "i = 1\n",
    "\n",
    "number_f = 0\n",
    "number_m = 0\n",
    "number_d = 0\n",
    "\n",
    "for group in df.itertuples():\n",
    "    for j in range(2,5):\n",
    "        if not pd.isna(group[j]):\n",
    "            for k in range(int(group[j])):\n",
    "                Passagers[i] = {'gender': j-2, 'group':group[1], 'transit': float('inf') }\n",
    "                if group[5].hour*60 + group[5].minute != 0:\n",
    "                    Passagers[i]['transit'] = group[5].hour*60 + group[5].minute\n",
    "                if j == 2: number_f+=1\n",
    "                elif j==3: number_m+=1\n",
    "                else: number_d+=1\n",
    "\n",
    "                i+=1    \n",
    "\n",
    "Passagers"
   ]
  },
  {
   "cell_type": "code",
   "execution_count": 7,
   "metadata": {},
   "outputs": [],
   "source": [
    "# Number of rows and columns per row based on the airplane configuration\n",
    "number_of_rows = 29  # Rows are 1-indexed from 1 to 29\n",
    "seats_per_row = 6    # 6 seats per row (0,1,2,3,4,5)\n",
    "number_of_seats = 174\n",
    "weight_f = 70 # weight female\n",
    "weight_m = 85 # weight male\n",
    "weight_d = 92.5 # weight disabled"
   ]
  },
  {
   "cell_type": "markdown",
   "metadata": {},
   "source": [
    "## Initialize the model"
   ]
  },
  {
   "cell_type": "code",
   "execution_count": 8,
   "metadata": {},
   "outputs": [
    {
     "name": "stdout",
     "output_type": "stream",
     "text": [
      "Set parameter Username\n",
      "Academic license - for non-commercial use only - expires 2025-02-06\n"
     ]
    }
   ],
   "source": [
    "m = Model(\"airplane_seating\")\n",
    "\n",
    "# Weights is a dictionary mapping (i, j, k) to a weight, as discussed earlier\n",
    "\n",
    "# Create decision variables for each seat and passenger\n",
    "# The decision variable x will be a 3D dictionary with the keys being the row number,\n",
    "# the seat within the row, and the unique identifier for each passenger.\n",
    "\n",
    "AssignmenVarDict = {(i, j, k) : m.addVar(vtype = GRB.BINARY, name=f'passager_{i}_{j}_{k}')\n",
    "                    for i in range(1, number_of_rows + 1)\n",
    "                    for j in range(1, seats_per_row + 1)\n",
    "                    for k in range(1, len(Passagers)+1)}\n"
   ]
  },
  {
   "cell_type": "markdown",
   "metadata": {},
   "source": [
    "## Constraints"
   ]
  },
  {
   "cell_type": "code",
   "execution_count": 9,
   "metadata": {},
   "outputs": [],
   "source": [
    "# Each passenger has a seat\n",
    "SEATSASSIGNMENTCONST = m.addConstr(quicksum([AssignmenVarDict[(i, j, k)]\n",
    "                                             for i in range(1, number_of_rows + 1)\n",
    "                                             for j in range(1, seats_per_row + 1)\n",
    "                                             for k in range(1,len(Passagers)+1)]) == len(Passagers))\n"
   ]
  },
  {
   "cell_type": "code",
   "execution_count": 10,
   "metadata": {},
   "outputs": [],
   "source": [
    "# Each passenger must have one seat\n",
    "PERSONSEATCONSTDIC = { k: m.addConstr(quicksum([AssignmenVarDict[(i, j, k)]\n",
    "                                                for i in range(1, number_of_rows + 1)\n",
    "                                                for j in range(1, seats_per_row + 1) ]) == 1)\n",
    "                                                for k in range(1,len(Passagers)+1) }\n"
   ]
  },
  {
   "cell_type": "code",
   "execution_count": 11,
   "metadata": {},
   "outputs": [],
   "source": [
    "# Constraint Airplane Centrage\n",
    "\n",
    "i_m = quicksum([weight_m * i* AssignmenVarDict[(i, j, k)]\n",
    "                for i in range(1, number_of_rows+1)\n",
    "                for j in range(1, seats_per_row+1 )\n",
    "                for k in range(1, len(Passagers)+1)\n",
    "                if Passagers[k]['gender']==1])\n",
    "i_f = quicksum([weight_m * i* AssignmenVarDict[(i, j, k)]\n",
    "                for i in range(1, number_of_rows+1)\n",
    "                for j in range(1, seats_per_row+1 )\n",
    "                for k in range(1, len(Passagers)+1)\n",
    "                if Passagers[k]['gender']==0])\n",
    "i_d = quicksum([weight_m * i* AssignmenVarDict[(i, j, k)]\n",
    "                for i in range(1, number_of_rows+1)\n",
    "                for j in range(1, seats_per_row+1 )\n",
    "                for k in range(1, len(Passagers)+1)\n",
    "                if Passagers[k]['gender']==2])\n",
    "\n",
    "i_bary = (i_m + i_f +i_d)/( weight_m * number_m + weight_f * number_f + weight_d * number_d)\n",
    "\n",
    "j_m = quicksum([weight_m * j* AssignmenVarDict[(i, j, k)]\n",
    "                for i in range(1, number_of_rows+1)\n",
    "                for j in range(1, seats_per_row+1 )\n",
    "                for k in range(1, len(Passagers)+1)\n",
    "                if Passagers[k]['gender']==1])\n",
    "j_f = quicksum([weight_m * j* AssignmenVarDict[(i, j, k)]\n",
    "                for i in range(1, number_of_rows+1)\n",
    "                for j in range(1, seats_per_row+1 )\n",
    "                for k in range(1, len(Passagers)+1)\n",
    "                if Passagers[k]['gender']==0])\n",
    "j_d = quicksum([weight_m * j* AssignmenVarDict[(i, j, k)]\n",
    "                for i in range(1, number_of_rows+1)\n",
    "                for j in range(1, seats_per_row+1 )\n",
    "                for k in range(1, len(Passagers)+1)\n",
    "                if Passagers[k]['gender']==2])\n",
    "\n",
    "j_bary = (j_m + j_f + j_d)/( weight_m * number_m + weight_f * number_f + weight_d * number_d)\n",
    "\n",
    "IMAXBARYCONST = m.addConstr(i_bary <= 17)\n",
    "IMINBARYCONST = m.addConstr(13 <= i_bary)\n",
    "JMAXBARYCONST = m.addConstr(j_bary <= 4)\n",
    "JMINBARYCONST = m.addConstr(3 <= j_bary)"
   ]
  },
  {
   "cell_type": "markdown",
   "metadata": {},
   "source": [
    "## Objective Function"
   ]
  },
  {
   "cell_type": "code",
   "execution_count": 12,
   "metadata": {},
   "outputs": [
    {
     "ename": "KeyError",
     "evalue": "(1, 0, 7)",
     "output_type": "error",
     "traceback": [
      "\u001b[1;31m---------------------------------------------------------------------------\u001b[0m",
      "\u001b[1;31mKeyError\u001b[0m                                  Traceback (most recent call last)",
      "Cell \u001b[1;32mIn[12], line 25\u001b[0m\n\u001b[0;32m     18\u001b[0m objective_transit \u001b[38;5;241m=\u001b[39m quicksum( [AssignmenVarDict[(i, j, k)]\u001b[38;5;241m*\u001b[39m i\u001b[38;5;241m*\u001b[39m(\u001b[38;5;241m1\u001b[39m\u001b[38;5;241m/\u001b[39mPassagers[k][\u001b[38;5;124m'\u001b[39m\u001b[38;5;124mtransit\u001b[39m\u001b[38;5;124m'\u001b[39m])\n\u001b[0;32m     19\u001b[0m                       \u001b[38;5;28;01mfor\u001b[39;00m i \u001b[38;5;129;01min\u001b[39;00m \u001b[38;5;28mrange\u001b[39m(\u001b[38;5;241m1\u001b[39m, number_of_rows\u001b[38;5;241m+\u001b[39m\u001b[38;5;241m1\u001b[39m)\n\u001b[0;32m     20\u001b[0m                       \u001b[38;5;28;01mfor\u001b[39;00m j \u001b[38;5;129;01min\u001b[39;00m \u001b[38;5;28mrange\u001b[39m(\u001b[38;5;241m1\u001b[39m, seats_per_row\u001b[38;5;241m+\u001b[39m\u001b[38;5;241m1\u001b[39m )\n\u001b[0;32m     21\u001b[0m                       \u001b[38;5;28;01mfor\u001b[39;00m k \u001b[38;5;129;01min\u001b[39;00m \u001b[38;5;28mrange\u001b[39m(\u001b[38;5;241m1\u001b[39m, \u001b[38;5;28mlen\u001b[39m(Passagers)\u001b[38;5;241m+\u001b[39m\u001b[38;5;241m1\u001b[39m)\n\u001b[0;32m     22\u001b[0m                       \u001b[38;5;28;01mif\u001b[39;00m Passagers[k][\u001b[38;5;124m'\u001b[39m\u001b[38;5;124mtransit\u001b[39m\u001b[38;5;124m'\u001b[39m] \u001b[38;5;241m!=\u001b[39m \u001b[38;5;28mfloat\u001b[39m(\u001b[38;5;124m'\u001b[39m\u001b[38;5;124minf\u001b[39m\u001b[38;5;124m'\u001b[39m) ])\n\u001b[0;32m     24\u001b[0m \u001b[38;5;66;03m# Objective function for the Disabled to be placed in front and in a certain way\u001b[39;00m\n\u001b[1;32m---> 25\u001b[0m objective_disabled \u001b[38;5;241m=\u001b[39m quicksum( [AssignmenVarDict[(i, j, k)] \u001b[38;5;241m+\u001b[39m AssignmenVarDict[(i, j\u001b[38;5;241m-\u001b[39m\u001b[38;5;241m1\u001b[39m, k)] \u001b[38;5;241m+\u001b[39m AssignmenVarDict[(i\u001b[38;5;241m+\u001b[39m\u001b[38;5;241m1\u001b[39m, j\u001b[38;5;241m-\u001b[39m\u001b[38;5;241m1\u001b[39m, k)] \u001b[38;5;241m+\u001b[39m AssignmenVarDict[(i\u001b[38;5;241m+\u001b[39m\u001b[38;5;241m1\u001b[39m, j, k)] \u001b[38;5;241m<\u001b[39m\u001b[38;5;241m=\u001b[39m \u001b[38;5;241m1\u001b[39m\n\u001b[0;32m     26\u001b[0m                       \u001b[38;5;28;01mfor\u001b[39;00m i \u001b[38;5;129;01min\u001b[39;00m \u001b[38;5;28mrange\u001b[39m(\u001b[38;5;241m1\u001b[39m, number_of_rows\u001b[38;5;241m+\u001b[39m\u001b[38;5;241m1\u001b[39m)\n\u001b[0;32m     27\u001b[0m                       \u001b[38;5;28;01mfor\u001b[39;00m j \u001b[38;5;129;01min\u001b[39;00m \u001b[38;5;28mrange\u001b[39m(\u001b[38;5;241m1\u001b[39m, seats_per_row\u001b[38;5;241m+\u001b[39m\u001b[38;5;241m1\u001b[39m )\n\u001b[0;32m     28\u001b[0m                       \u001b[38;5;28;01mfor\u001b[39;00m k \u001b[38;5;129;01min\u001b[39;00m \u001b[38;5;28mrange\u001b[39m(\u001b[38;5;241m1\u001b[39m, \u001b[38;5;28mlen\u001b[39m(Passagers)\u001b[38;5;241m+\u001b[39m\u001b[38;5;241m1\u001b[39m)\n\u001b[0;32m     29\u001b[0m                       \u001b[38;5;28;01mif\u001b[39;00m Passagers[k][\u001b[38;5;124m'\u001b[39m\u001b[38;5;124mgender\u001b[39m\u001b[38;5;124m'\u001b[39m] \u001b[38;5;241m==\u001b[39m \u001b[38;5;241m2\u001b[39m ])\n\u001b[0;32m     31\u001b[0m m\u001b[38;5;241m.\u001b[39msetObjective(objective_groups \u001b[38;5;241m+\u001b[39m objective_transit \u001b[38;5;241m+\u001b[39m objective_transit, GRB\u001b[38;5;241m.\u001b[39mMINIMIZE)\n",
      "Cell \u001b[1;32mIn[12], line 25\u001b[0m, in \u001b[0;36m<listcomp>\u001b[1;34m(.0)\u001b[0m\n\u001b[0;32m     18\u001b[0m objective_transit \u001b[38;5;241m=\u001b[39m quicksum( [AssignmenVarDict[(i, j, k)]\u001b[38;5;241m*\u001b[39m i\u001b[38;5;241m*\u001b[39m(\u001b[38;5;241m1\u001b[39m\u001b[38;5;241m/\u001b[39mPassagers[k][\u001b[38;5;124m'\u001b[39m\u001b[38;5;124mtransit\u001b[39m\u001b[38;5;124m'\u001b[39m])\n\u001b[0;32m     19\u001b[0m                       \u001b[38;5;28;01mfor\u001b[39;00m i \u001b[38;5;129;01min\u001b[39;00m \u001b[38;5;28mrange\u001b[39m(\u001b[38;5;241m1\u001b[39m, number_of_rows\u001b[38;5;241m+\u001b[39m\u001b[38;5;241m1\u001b[39m)\n\u001b[0;32m     20\u001b[0m                       \u001b[38;5;28;01mfor\u001b[39;00m j \u001b[38;5;129;01min\u001b[39;00m \u001b[38;5;28mrange\u001b[39m(\u001b[38;5;241m1\u001b[39m, seats_per_row\u001b[38;5;241m+\u001b[39m\u001b[38;5;241m1\u001b[39m )\n\u001b[0;32m     21\u001b[0m                       \u001b[38;5;28;01mfor\u001b[39;00m k \u001b[38;5;129;01min\u001b[39;00m \u001b[38;5;28mrange\u001b[39m(\u001b[38;5;241m1\u001b[39m, \u001b[38;5;28mlen\u001b[39m(Passagers)\u001b[38;5;241m+\u001b[39m\u001b[38;5;241m1\u001b[39m)\n\u001b[0;32m     22\u001b[0m                       \u001b[38;5;28;01mif\u001b[39;00m Passagers[k][\u001b[38;5;124m'\u001b[39m\u001b[38;5;124mtransit\u001b[39m\u001b[38;5;124m'\u001b[39m] \u001b[38;5;241m!=\u001b[39m \u001b[38;5;28mfloat\u001b[39m(\u001b[38;5;124m'\u001b[39m\u001b[38;5;124minf\u001b[39m\u001b[38;5;124m'\u001b[39m) ])\n\u001b[0;32m     24\u001b[0m \u001b[38;5;66;03m# Objective function for the Disabled to be placed in front and in a certain way\u001b[39;00m\n\u001b[1;32m---> 25\u001b[0m objective_disabled \u001b[38;5;241m=\u001b[39m quicksum( [AssignmenVarDict[(i, j, k)] \u001b[38;5;241m+\u001b[39m \u001b[43mAssignmenVarDict\u001b[49m\u001b[43m[\u001b[49m\u001b[43m(\u001b[49m\u001b[43mi\u001b[49m\u001b[43m,\u001b[49m\u001b[43m \u001b[49m\u001b[43mj\u001b[49m\u001b[38;5;241;43m-\u001b[39;49m\u001b[38;5;241;43m1\u001b[39;49m\u001b[43m,\u001b[49m\u001b[43m \u001b[49m\u001b[43mk\u001b[49m\u001b[43m)\u001b[49m\u001b[43m]\u001b[49m \u001b[38;5;241m+\u001b[39m AssignmenVarDict[(i\u001b[38;5;241m+\u001b[39m\u001b[38;5;241m1\u001b[39m, j\u001b[38;5;241m-\u001b[39m\u001b[38;5;241m1\u001b[39m, k)] \u001b[38;5;241m+\u001b[39m AssignmenVarDict[(i\u001b[38;5;241m+\u001b[39m\u001b[38;5;241m1\u001b[39m, j, k)] \u001b[38;5;241m<\u001b[39m\u001b[38;5;241m=\u001b[39m \u001b[38;5;241m1\u001b[39m\n\u001b[0;32m     26\u001b[0m                       \u001b[38;5;28;01mfor\u001b[39;00m i \u001b[38;5;129;01min\u001b[39;00m \u001b[38;5;28mrange\u001b[39m(\u001b[38;5;241m1\u001b[39m, number_of_rows\u001b[38;5;241m+\u001b[39m\u001b[38;5;241m1\u001b[39m)\n\u001b[0;32m     27\u001b[0m                       \u001b[38;5;28;01mfor\u001b[39;00m j \u001b[38;5;129;01min\u001b[39;00m \u001b[38;5;28mrange\u001b[39m(\u001b[38;5;241m1\u001b[39m, seats_per_row\u001b[38;5;241m+\u001b[39m\u001b[38;5;241m1\u001b[39m )\n\u001b[0;32m     28\u001b[0m                       \u001b[38;5;28;01mfor\u001b[39;00m k \u001b[38;5;129;01min\u001b[39;00m \u001b[38;5;28mrange\u001b[39m(\u001b[38;5;241m1\u001b[39m, \u001b[38;5;28mlen\u001b[39m(Passagers)\u001b[38;5;241m+\u001b[39m\u001b[38;5;241m1\u001b[39m)\n\u001b[0;32m     29\u001b[0m                       \u001b[38;5;28;01mif\u001b[39;00m Passagers[k][\u001b[38;5;124m'\u001b[39m\u001b[38;5;124mgender\u001b[39m\u001b[38;5;124m'\u001b[39m] \u001b[38;5;241m==\u001b[39m \u001b[38;5;241m2\u001b[39m ])\n\u001b[0;32m     31\u001b[0m m\u001b[38;5;241m.\u001b[39msetObjective(objective_groups \u001b[38;5;241m+\u001b[39m objective_transit \u001b[38;5;241m+\u001b[39m objective_transit, GRB\u001b[38;5;241m.\u001b[39mMINIMIZE)\n",
      "\u001b[1;31mKeyError\u001b[0m: (1, 0, 7)"
     ]
    }
   ],
   "source": [
    "# Define the weights for the Manhattan distance\n",
    "a = 0.9  # Weight for the row distance\n",
    "b = 0.1  # Weight for the column distance\n",
    "\n",
    "# Objective function to minimize the weighted sum of distances between all passengers in the same group\n",
    "objective_groups = quicksum(\n",
    "    a * abs(i1 - i2) + b * abs(j1 - j2) * AssignmenVarDict[(i1, j1, k1)] * AssignmenVarDict[(i2, j2, k2)]\n",
    "    for i1 in range(1, number_of_rows + 1)\n",
    "    for j1 in range(1, seats_per_row + 1)\n",
    "    for i2 in range(1, number_of_rows + 1)\n",
    "    for j2 in range(1, seats_per_row + 1)\n",
    "    for k1 in Passagers.keys()\n",
    "    for k2 in Passagers.keys()\n",
    "    if Passagers[k1]['group'] == Passagers[k2]['group'] and k1 != k2\n",
    ")\n",
    "\n",
    "# Front rows (lower i) should have lower weight\n",
    "objective_transit = quicksum( [AssignmenVarDict[(i, j, k)]* i*(1/Passagers[k]['transit'])\n",
    "                      for i in range(1, number_of_rows+1)\n",
    "                      for j in range(1, seats_per_row+1 )\n",
    "                      for k in range(1, len(Passagers)+1)\n",
    "                      if Passagers[k]['transit'] != float('inf') ])\n",
    "\n",
    "# Objective function for the Disabled to be placed in front and in a certain way\n",
    "objective_disabled = quicksum( [AssignmenVarDict[(i, j, k)] + AssignmenVarDict[(i, j-1, k)] + AssignmenVarDict[(i+1, j-1, k)] + AssignmenVarDict[(i+1, j, k)] <= 1\n",
    "                      for i in range(1, number_of_rows+1)\n",
    "                      for j in range(1, seats_per_row+1 )\n",
    "                      for k in range(1, len(Passagers)+1)\n",
    "                      if Passagers[k]['gender'] == 2 ])\n",
    "\n",
    "m.setObjective(objective_groups + objective_transit + objective_transit, GRB.MINIMIZE)"
   ]
  },
  {
   "cell_type": "markdown",
   "metadata": {},
   "source": [
    "## Optimize Model"
   ]
  },
  {
   "cell_type": "code",
   "execution_count": null,
   "metadata": {},
   "outputs": [
    {
     "name": "stdout",
     "output_type": "stream",
     "text": [
      "Seating arrangement: {(1, 2): 126, (1, 5): 162, (1, 6): 133, (2, 2): 29, (2, 4): 42, (2, 5): 158, (3, 3): 56, (3, 4): 99, (3, 5): 10, (3, 6): 20, (4, 1): 49, (4, 2): 21, (4, 3): 74, (4, 4): 165, (4, 5): 130, (5, 1): 163, (5, 3): 26, (5, 4): 54, (5, 5): 103, (5, 6): 172, (6, 1): 154, (6, 2): 124, (6, 4): 82, (6, 5): 94, (7, 1): 91, (7, 2): 149, (7, 4): 171, (7, 5): 13, (7, 6): 63, (8, 2): 140, (8, 3): 100, (8, 4): 164, (9, 1): 125, (9, 2): 2, (9, 3): 155, (9, 4): 127, (9, 6): 160, (10, 1): 11, (10, 2): 83, (10, 4): 41, (10, 5): 57, (11, 3): 53, (11, 5): 129, (12, 1): 96, (12, 2): 38, (12, 3): 112, (13, 1): 138, (13, 2): 145, (13, 3): 161, (13, 4): 79, (13, 5): 117, (13, 6): 7, (14, 2): 167, (14, 3): 128, (14, 5): 134, (14, 6): 136, (15, 1): 146, (15, 3): 12, (15, 4): 156, (15, 5): 106, (16, 1): 47, (16, 2): 168, (16, 3): 22, (17, 1): 169, (17, 2): 143, (17, 3): 142, (17, 4): 62, (17, 6): 45, (18, 3): 64, (18, 5): 32, (19, 1): 121, (19, 2): 23, (19, 3): 150, (19, 6): 73, (20, 3): 115, (20, 4): 51, (21, 1): 139, (21, 2): 70, (22, 2): 78, (22, 3): 27, (22, 4): 120, (22, 5): 80, (23, 1): 147, (23, 2): 8, (23, 4): 135, (23, 5): 55, (23, 6): 116, (24, 2): 131, (24, 3): 84, (24, 4): 144, (24, 5): 88, (25, 1): 170, (25, 2): 153, (25, 3): 24, (25, 4): 76, (25, 5): 81, (26, 1): 87, (26, 2): 104, (26, 3): 119, (27, 4): 77, (27, 6): 122, (28, 1): 69, (28, 2): 173, (28, 3): 93, (28, 4): 152, (28, 5): 101, (28, 6): 166, (29, 2): 151, (29, 3): 118, (29, 4): 157, (29, 5): 159, (29, 6): 6}\n",
      "Optimal objective value (z*): 110497069.67\n"
     ]
    }
   ],
   "source": [
    "# Run optimization and suppress output\n",
    "m.params.outputflag = 0 \n",
    "m.optimize()\n",
    "\n",
    "# If the model is infeasible or unbounded, turn off presolve and optimize again\n",
    "if m.status in [GRB.INF_OR_UNBD, GRB.INFEASIBLE, GRB.UNBOUNDED]:\n",
    "    m.setParam(GRB.Param.Presolve, 0)\n",
    "    m.optimize()\n",
    "\n",
    "# Post-processing of results\n",
    "if m.status == GRB.OPTIMAL:\n",
    "    # Post-processing of results\n",
    "    # Extract the seating arrangement from the model\n",
    "    seating_arrangement = {}\n",
    "    for i in range(1, number_of_rows + 1):\n",
    "        for j in range(1, seats_per_row + 1):\n",
    "            for k in Passagers.keys():\n",
    "                if AssignmenVarDict[(i, j, k)].X > 0.5:  # Ensure the variable is part of the solution\n",
    "                    seating_arrangement[(i, j)] = k\n",
    "    print(f\"Seating arrangement: {seating_arrangement}\")\n",
    "    print(f'Optimal objective value (z*): {round(m.objVal, 2)}')\n",
    "else:\n",
    "    print(\"Optimization was unsuccessful. Status code:\", m.status)\n",
    "    m.computeIIS()\n",
    "    m.write(\"model.ilp\")\n",
    "    print(\"The infeasibility file has been written to 'model.ilp'\")"
   ]
  },
  {
   "cell_type": "markdown",
   "metadata": {},
   "source": [
    "## Graphic Seating Arrangement"
   ]
  },
  {
   "cell_type": "code",
   "execution_count": null,
   "metadata": {},
   "outputs": [
    {
     "data": {
      "image/png": "[encoded data removed]",
      "text/plain": [
       "<Figure size 640x480 with 1 Axes>"
      ]
     },
     "metadata": {},
     "output_type": "display_data"
    }
   ],
   "source": [
    "# Define the dimensions of the airplane\n",
    "number_of_rows = 29\n",
    "seats_per_row = 6\n",
    "\n",
    "# Define the seating arrangement\n",
    "seating_arrangement = seating_arrangement\n",
    "\n",
    "# Create a plot\n",
    "fig, ax = plt.subplots()\n",
    "\n",
    "# Plot the seating arrangement\n",
    "for seat, Passengers in seating_arrangement.items():\n",
    "    ax.text(seat[1], seat[0], Passengers, ha='center', va='center')\n",
    "\n",
    "# Mark positions without passengers\n",
    "for i in range(1, number_of_rows + 1):\n",
    "    for j in range(1, seats_per_row + 1):\n",
    "        if (i, j) not in seating_arrangement:\n",
    "            ax.scatter(j, i, color='red')\n",
    "\n",
    "# Set the limits and labels of the plot\n",
    "ax.set_xlim(0.5, seats_per_row + 0.5)\n",
    "ax.set_ylim(0.5, number_of_rows + 0.5)\n",
    "ax.set_xticks(range(1, seats_per_row + 1))\n",
    "ax.set_yticks(range(1, number_of_rows + 1))\n",
    "ax.set_xticklabels([chr(65 + i) for i in range(seats_per_row)]) # permet de générer les lettres A,B,C,D,E,F grâce à chr()\n",
    "ax.set_yticklabels(range(1, number_of_rows + 1))\n",
    "ax.grid(True)\n",
    "\n",
    "# Add labels and title\n",
    "plt.xlabel('Seats')\n",
    "plt.ylabel('Rows')\n",
    "plt.title('Seating Arrangement')\n",
    "\n",
    "# Display the plot\n",
    "plt.gca().invert_yaxis()  # Invert y-axis to match the plane layout\n",
    "plt.show()\n"
   ]
  }
 ],
 "metadata": {
  "kernelspec": {
   "display_name": "Python 3",
   "language": "python",
   "name": "python3"
  },
  "language_info": {
   "codemirror_mode": {
    "name": "ipython",
    "version": 3
   },
   "file_extension": ".py",
   "mimetype": "text/x-python",
   "name": "python",
   "nbconvert_exporter": "python",
   "pygments_lexer": "ipython3",
   "version": "3.10.9"
  }
 },
 "nbformat": 4,
 "nbformat_minor": 2
}

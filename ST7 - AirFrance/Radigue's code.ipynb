{
 "cells": [
  {
   "cell_type": "markdown",
   "metadata": {},
   "source": [
    "# <font color=blue><div align=\"center\">Seats Allocation within an Aircraft</div></font>\n",
    "\n"
   ]
  },
  {
   "cell_type": "markdown",
   "metadata": {},
   "source": [
    "## Modules"
   ]
  },
  {
   "cell_type": "code",
   "execution_count": 9,
   "metadata": {},
   "outputs": [],
   "source": [
    "# Modules de base\n",
    "import numpy as np\n",
    "import matplotlib.pyplot as plt\n",
    "import pandas as pd\n",
    "%matplotlib inline\n",
    "\n",
    "# Module relatif à Gurobi\n",
    "from gurobipy import *\n",
    "\n",
    "# Module csv\n",
    "import csv"
   ]
  },
  {
   "cell_type": "markdown",
   "metadata": {},
   "source": [
    "## Préprocessing des données"
   ]
  },
  {
   "cell_type": "markdown",
   "metadata": {},
   "source": [
    "Pour la suite de notre étude, on considère le modèle d'avion **Airbus A320**, qui dispose de **174** sièges. (La classe businees n'est pas prise en compte)"
   ]
  },
  {
   "cell_type": "markdown",
   "metadata": {},
   "source": [
    "\n",
    "<img src=\"modele_avion.jpg\" alt=\"Modèle de l'avion\" width=\"400\" height=\"600\">"
   ]
  },
  {
   "cell_type": "code",
   "execution_count": 5,
   "metadata": {},
   "outputs": [],
   "source": [
    "number_of_seats = 174"
   ]
  },
  {
   "cell_type": "code",
   "execution_count": 4,
   "metadata": {},
   "outputs": [],
   "source": [
    "# Load the Excel file into a pandas DataFrame\n",
    "\n",
    "df_21Oct = pd.read_excel('../ST7 - AirFrance/DataSeating 2024.xlsx', sheet_name=0 , skipfooter=2)\n",
    "df_22Oct = pd.read_excel('../ST7 - AirFrance/DataSeating 2024.xlsx', sheet_name=1 , skipfooter=2)\n",
    "df_23Oct = pd.read_excel('../ST7 - AirFrance/DataSeating 2024.xlsx', sheet_name=2 , skipfooter=2)\n",
    "df_24Oct = pd.read_excel('../ST7 - AirFrance/DataSeating 2024.xlsx', sheet_name=3 , skipfooter=2)\n",
    "df_30Oct = pd.read_excel('../ST7 - AirFrance/DataSeating 2024.xlsx', sheet_name=4 , skipfooter=2)\n",
    "df_05Nov = pd.read_excel('../ST7 - AirFrance/DataSeating 2024.xlsx', sheet_name=5 , skipfooter=2)\n",
    "df_07Nov = pd.read_excel('../ST7 - AirFrance/DataSeating 2024.xlsx', sheet_name=6 , skipfooter=2)\n"
   ]
  },
  {
   "cell_type": "code",
   "execution_count": 6,
   "metadata": {},
   "outputs": [
    {
     "data": {
      "text/html": [
       "<div>\n",
       "<style scoped>\n",
       "    .dataframe tbody tr th:only-of-type {\n",
       "        vertical-align: middle;\n",
       "    }\n",
       "\n",
       "    .dataframe tbody tr th {\n",
       "        vertical-align: top;\n",
       "    }\n",
       "\n",
       "    .dataframe thead th {\n",
       "        text-align: right;\n",
       "    }\n",
       "</style>\n",
       "<table border=\"1\" class=\"dataframe\">\n",
       "  <thead>\n",
       "    <tr style=\"text-align: right;\">\n",
       "      <th></th>\n",
       "      <th>Numéro du groupe</th>\n",
       "      <th>Femmes</th>\n",
       "      <th>Hommes</th>\n",
       "      <th>WCHR</th>\n",
       "      <th>TransitTime</th>\n",
       "    </tr>\n",
       "  </thead>\n",
       "  <tbody>\n",
       "    <tr>\n",
       "      <th>0</th>\n",
       "      <td>1</td>\n",
       "      <td>1.0</td>\n",
       "      <td>NaN</td>\n",
       "      <td>NaN</td>\n",
       "      <td>00:55:00</td>\n",
       "    </tr>\n",
       "    <tr>\n",
       "      <th>1</th>\n",
       "      <td>2</td>\n",
       "      <td>NaN</td>\n",
       "      <td>1.0</td>\n",
       "      <td>NaN</td>\n",
       "      <td>00:00:00</td>\n",
       "    </tr>\n",
       "    <tr>\n",
       "      <th>2</th>\n",
       "      <td>3</td>\n",
       "      <td>1.0</td>\n",
       "      <td>NaN</td>\n",
       "      <td>NaN</td>\n",
       "      <td>01:15:00</td>\n",
       "    </tr>\n",
       "    <tr>\n",
       "      <th>3</th>\n",
       "      <td>4</td>\n",
       "      <td>1.0</td>\n",
       "      <td>1.0</td>\n",
       "      <td>NaN</td>\n",
       "      <td>03:15:00</td>\n",
       "    </tr>\n",
       "    <tr>\n",
       "      <th>4</th>\n",
       "      <td>5</td>\n",
       "      <td>1.0</td>\n",
       "      <td>NaN</td>\n",
       "      <td>NaN</td>\n",
       "      <td>00:00:00</td>\n",
       "    </tr>\n",
       "  </tbody>\n",
       "</table>\n",
       "</div>"
      ],
      "text/plain": [
       "   Numéro du groupe  Femmes  Hommes  WCHR TransitTime\n",
       "0                 1     1.0     NaN   NaN    00:55:00\n",
       "1                 2     NaN     1.0   NaN    00:00:00\n",
       "2                 3     1.0     NaN   NaN    01:15:00\n",
       "3                 4     1.0     1.0   NaN    03:15:00\n",
       "4                 5     1.0     NaN   NaN    00:00:00"
      ]
     },
     "execution_count": 6,
     "metadata": {},
     "output_type": "execute_result"
    }
   ],
   "source": [
    "# Displaying the data\n",
    "\n",
    "df_07Nov.head()"
   ]
  },
  {
   "cell_type": "code",
   "execution_count": 7,
   "metadata": {},
   "outputs": [],
   "source": [
    "# On choisit la df sur laquelle on va travailler\n",
    "\n",
    "df = df_21Oct"
   ]
  },
  {
   "cell_type": "code",
   "execution_count": 8,
   "metadata": {},
   "outputs": [
    {
     "name": "stdout",
     "output_type": "stream",
     "text": [
      "Set parameter Username\n",
      "Academic license - for non-commercial use only - expires 2025-02-04\n"
     ]
    },
    {
     "ename": "NameError",
     "evalue": "name 'seats' is not defined",
     "output_type": "error",
     "traceback": [
      "\u001b[1;31m---------------------------------------------------------------------------\u001b[0m",
      "\u001b[1;31mNameError\u001b[0m                                 Traceback (most recent call last)",
      "Cell \u001b[1;32mIn[8], line 10\u001b[0m\n\u001b[0;32m      4\u001b[0m m \u001b[38;5;241m=\u001b[39m Model(\u001b[38;5;124m\"\u001b[39m\u001b[38;5;124mairplane_seating\u001b[39m\u001b[38;5;124m\"\u001b[39m)\n\u001b[0;32m      6\u001b[0m \u001b[38;5;66;03m# Assuming 'seats' is a list of tuples (i, j) representing seat positions\u001b[39;00m\n\u001b[0;32m      7\u001b[0m \u001b[38;5;66;03m# And 'passengers' is a list of all passengers indexed by k\u001b[39;00m\n\u001b[0;32m      8\u001b[0m \n\u001b[0;32m      9\u001b[0m \u001b[38;5;66;03m# Decision variables\u001b[39;00m\n\u001b[1;32m---> 10\u001b[0m x \u001b[38;5;241m=\u001b[39m m\u001b[38;5;241m.\u001b[39maddVars(\u001b[43mseats\u001b[49m, passengers, vtype\u001b[38;5;241m=\u001b[39mGRB\u001b[38;5;241m.\u001b[39mBINARY, name\u001b[38;5;241m=\u001b[39m\u001b[38;5;124m\"\u001b[39m\u001b[38;5;124mx\u001b[39m\u001b[38;5;124m\"\u001b[39m)\n\u001b[0;32m     12\u001b[0m \u001b[38;5;66;03m# Constraints\u001b[39;00m\n\u001b[0;32m     13\u001b[0m \u001b[38;5;66;03m# Each seat can only be assigned to one passenger\u001b[39;00m\n\u001b[0;32m     14\u001b[0m \u001b[38;5;28;01mfor\u001b[39;00m seat \u001b[38;5;129;01min\u001b[39;00m seats:\n",
      "\u001b[1;31mNameError\u001b[0m: name 'seats' is not defined"
     ]
    }
   ],
   "source": [
    "# Initialize the model\n",
    "m = Model(\"airplane_seating\")\n",
    "\n",
    "# Assuming 'seats' is a list of tuples (i, j) representing seat positions\n",
    "# And 'passengers' is a list of all passengers indexed by k\n",
    "\n",
    "# Decision variables\n",
    "x = m.addVars(seats, passengers, vtype=GRB.BINARY, name=\"x\")\n",
    "\n",
    "# Constraints\n",
    "# Each seat can only be assigned to one passenger\n",
    "for seat in seats:\n",
    "    m.addConstr(quicksum(x[seat, k] for k in passengers) <= 1, \"SeatLimit_%s\" % str(seat))\n",
    "\n",
    "# Each passenger must have one seat\n",
    "for k in passengers:\n",
    "    m.addConstr(quicksum(x[i, j, k] for i, j in seats) == 1, \"PassengerSeat_%s\" % k)\n",
    "\n",
    "# Additional constraints from the handwritten notes and PDF will be added here\n",
    "\n",
    "# Objective function\n",
    "# Minimize the sum of weighted distances for all groups\n",
    "objective = quicksum(weight * x[seat, k] for seat in seats for k in passengers)\n",
    "m.setObjective(objective, GRB.MINIMIZE)\n",
    "\n",
    "# Optimize the model\n",
    "m.optimize()\n",
    "\n",
    "# Post-processing of results\n",
    "# Extract the seating arrangement from the model\n",
    "seating_arrangement = {k: seat for seat in seats for k in passengers if x[seat, k].X > 0.5}\n"
   ]
  },
  {
   "cell_type": "code",
   "execution_count": null,
   "metadata": {},
   "outputs": [],
   "source": [
    "# Assuming the setup from your initial code snippet continues...\n",
    "# and the data includes all passengers' details and their groups\n",
    "\n",
    "# Define model\n",
    "m = Model(\"airplane_seating\")\n",
    "\n",
    "# Define decision variables based on your passenger data, seats available, and any other parameters\n",
    "\n",
    "# Add constraints\n",
    "# Each passenger must be seated and seats constraints\n",
    "# Group seating constraints\n",
    "# Special needs constraints (handicap accessible seating)\n",
    "# Weight distribution constraints\n",
    "# Any other constraints from the notes\n",
    "\n",
    "# Set objective function\n",
    "# It can be a combination of minimizing distance, travel time, etc.\n",
    "\n",
    "# Optimize model\n",
    "m.optimize()\n",
    "\n",
    "# Process results\n",
    "# Extract seating arrangement\n",
    "# Apply any post-optimization analysis or processing\n",
    "\n",
    "# End of Model\n"
   ]
  }
 ],
 "metadata": {
  "kernelspec": {
   "display_name": "Python 3",
   "language": "python",
   "name": "python3"
  },
  "language_info": {
   "codemirror_mode": {
    "name": "ipython",
    "version": 3
   },
   "file_extension": ".py",
   "mimetype": "text/x-python",
   "name": "python",
   "nbconvert_exporter": "python",
   "pygments_lexer": "ipython3",
   "version": "3.11.8"
  }
 },
 "nbformat": 4,
 "nbformat_minor": 2
}

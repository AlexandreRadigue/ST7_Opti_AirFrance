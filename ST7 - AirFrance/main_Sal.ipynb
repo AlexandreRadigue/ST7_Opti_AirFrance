{
 "cells": [
  {
   "cell_type": "markdown",
   "metadata": {},
   "source": [
    "# <font color=blue><div align=\"center\">Seats Allocation within an Aircraft</div></font>\n",
    "\n",
    "### <font color=blue><div align=\"center\">29-02-2024</div></font>"
   ]
  },
  {
   "cell_type": "markdown",
   "metadata": {},
   "source": [
    "## Modules"
   ]
  },
  {
   "cell_type": "code",
   "execution_count": 9,
   "metadata": {},
   "outputs": [],
   "source": [
    "# Basic modules\n",
    "import numpy as np\n",
    "import matplotlib.pyplot as plt\n",
    "import pandas as pd\n",
    "import matplotlib.pyplot as plt\n",
    "from matplotlib.table import Table\n",
    "\n",
    "# Gurobi module\n",
    "from gurobipy import *"
   ]
  },
  {
   "cell_type": "markdown",
   "metadata": {},
   "source": [
    "## Data Extraction"
   ]
  },
  {
   "cell_type": "code",
   "execution_count": 10,
   "metadata": {},
   "outputs": [],
   "source": [
    "number_of_seats = 174\n",
    "weight_f = 70\n",
    "weight_m = 85\n",
    "weight_d = 92.5\n",
    "number_of_rows = 29\n",
    "number_of_columns = 6"
   ]
  },
  {
   "cell_type": "code",
   "execution_count": 11,
   "metadata": {},
   "outputs": [],
   "source": [
    "# Load the Excel file into a pandas DataFrame\n",
    "df = pd.read_excel('./DataSeating 2024.xlsx', sheet_name=0 , skipfooter=2)"
   ]
  },
  {
   "cell_type": "code",
   "execution_count": 12,
   "metadata": {},
   "outputs": [
    {
     "data": {
      "text/html": [
       "<div>\n",
       "<style scoped>\n",
       "    .dataframe tbody tr th:only-of-type {\n",
       "        vertical-align: middle;\n",
       "    }\n",
       "\n",
       "    .dataframe tbody tr th {\n",
       "        vertical-align: top;\n",
       "    }\n",
       "\n",
       "    .dataframe thead th {\n",
       "        text-align: right;\n",
       "    }\n",
       "</style>\n",
       "<table border=\"1\" class=\"dataframe\">\n",
       "  <thead>\n",
       "    <tr style=\"text-align: right;\">\n",
       "      <th></th>\n",
       "      <th>Numéro du groupe</th>\n",
       "      <th>Femmes</th>\n",
       "      <th>Hommes</th>\n",
       "      <th>WCHR</th>\n",
       "      <th>TransitTime</th>\n",
       "    </tr>\n",
       "  </thead>\n",
       "  <tbody>\n",
       "    <tr>\n",
       "      <th>0</th>\n",
       "      <td>1</td>\n",
       "      <td>NaN</td>\n",
       "      <td>1.0</td>\n",
       "      <td>NaN</td>\n",
       "      <td>01:15:00</td>\n",
       "    </tr>\n",
       "    <tr>\n",
       "      <th>1</th>\n",
       "      <td>2</td>\n",
       "      <td>1.0</td>\n",
       "      <td>NaN</td>\n",
       "      <td>NaN</td>\n",
       "      <td>00:00:00</td>\n",
       "    </tr>\n",
       "    <tr>\n",
       "      <th>2</th>\n",
       "      <td>3</td>\n",
       "      <td>NaN</td>\n",
       "      <td>1.0</td>\n",
       "      <td>NaN</td>\n",
       "      <td>00:00:00</td>\n",
       "    </tr>\n",
       "    <tr>\n",
       "      <th>3</th>\n",
       "      <td>4</td>\n",
       "      <td>1.0</td>\n",
       "      <td>NaN</td>\n",
       "      <td>NaN</td>\n",
       "      <td>00:00:00</td>\n",
       "    </tr>\n",
       "    <tr>\n",
       "      <th>4</th>\n",
       "      <td>5</td>\n",
       "      <td>NaN</td>\n",
       "      <td>2.0</td>\n",
       "      <td>NaN</td>\n",
       "      <td>05:25:00</td>\n",
       "    </tr>\n",
       "    <tr>\n",
       "      <th>...</th>\n",
       "      <td>...</td>\n",
       "      <td>...</td>\n",
       "      <td>...</td>\n",
       "      <td>...</td>\n",
       "      <td>...</td>\n",
       "    </tr>\n",
       "    <tr>\n",
       "      <th>106</th>\n",
       "      <td>107</td>\n",
       "      <td>1.0</td>\n",
       "      <td>NaN</td>\n",
       "      <td>NaN</td>\n",
       "      <td>03:30:00</td>\n",
       "    </tr>\n",
       "    <tr>\n",
       "      <th>107</th>\n",
       "      <td>108</td>\n",
       "      <td>2.0</td>\n",
       "      <td>NaN</td>\n",
       "      <td>NaN</td>\n",
       "      <td>05:25:00</td>\n",
       "    </tr>\n",
       "    <tr>\n",
       "      <th>108</th>\n",
       "      <td>109</td>\n",
       "      <td>2.0</td>\n",
       "      <td>NaN</td>\n",
       "      <td>NaN</td>\n",
       "      <td>05:25:00</td>\n",
       "    </tr>\n",
       "    <tr>\n",
       "      <th>109</th>\n",
       "      <td>110</td>\n",
       "      <td>2.0</td>\n",
       "      <td>NaN</td>\n",
       "      <td>NaN</td>\n",
       "      <td>01:35:00</td>\n",
       "    </tr>\n",
       "    <tr>\n",
       "      <th>110</th>\n",
       "      <td>111</td>\n",
       "      <td>NaN</td>\n",
       "      <td>1.0</td>\n",
       "      <td>NaN</td>\n",
       "      <td>01:00:00</td>\n",
       "    </tr>\n",
       "  </tbody>\n",
       "</table>\n",
       "<p>111 rows × 5 columns</p>\n",
       "</div>"
      ],
      "text/plain": [
       "     Numéro du groupe  Femmes  Hommes  WCHR TransitTime\n",
       "0                   1     NaN     1.0   NaN    01:15:00\n",
       "1                   2     1.0     NaN   NaN    00:00:00\n",
       "2                   3     NaN     1.0   NaN    00:00:00\n",
       "3                   4     1.0     NaN   NaN    00:00:00\n",
       "4                   5     NaN     2.0   NaN    05:25:00\n",
       "..                ...     ...     ...   ...         ...\n",
       "106               107     1.0     NaN   NaN    03:30:00\n",
       "107               108     2.0     NaN   NaN    05:25:00\n",
       "108               109     2.0     NaN   NaN    05:25:00\n",
       "109               110     2.0     NaN   NaN    01:35:00\n",
       "110               111     NaN     1.0   NaN    01:00:00\n",
       "\n",
       "[111 rows x 5 columns]"
      ]
     },
     "execution_count": 12,
     "metadata": {},
     "output_type": "execute_result"
    }
   ],
   "source": [
    "# Display the DataFrame\n",
    "df"
   ]
  },
  {
   "cell_type": "code",
   "execution_count": 56,
   "metadata": {},
   "outputs": [
    {
     "data": {
      "text/plain": [
       "{1: {'gender': 1, 'group': 1, 'transit': 75},\n",
       " 2: {'gender': 0, 'group': 2, 'transit': inf},\n",
       " 3: {'gender': 1, 'group': 3, 'transit': inf},\n",
       " 4: {'gender': 0, 'group': 4, 'transit': inf},\n",
       " 5: {'gender': 1, 'group': 5, 'transit': 325},\n",
       " 6: {'gender': 1, 'group': 5, 'transit': 325},\n",
       " 7: {'gender': 0, 'group': 6, 'transit': inf},\n",
       " 8: {'gender': 0, 'group': 7, 'transit': 190},\n",
       " 9: {'gender': 0, 'group': 8, 'transit': 80},\n",
       " 10: {'gender': 1, 'group': 8, 'transit': 80},\n",
       " 11: {'gender': 1, 'group': 9, 'transit': 140},\n",
       " 12: {'gender': 0, 'group': 10, 'transit': inf},\n",
       " 13: {'gender': 0, 'group': 11, 'transit': 235},\n",
       " 14: {'gender': 1, 'group': 11, 'transit': 235},\n",
       " 15: {'gender': 1, 'group': 12, 'transit': 70},\n",
       " 16: {'gender': 1, 'group': 13, 'transit': inf},\n",
       " 17: {'gender': 0, 'group': 14, 'transit': inf},\n",
       " 18: {'gender': 1, 'group': 14, 'transit': inf},\n",
       " 19: {'gender': 1, 'group': 15, 'transit': 360},\n",
       " 20: {'gender': 1, 'group': 16, 'transit': 95},\n",
       " 21: {'gender': 0, 'group': 17, 'transit': 60},\n",
       " 22: {'gender': 1, 'group': 17, 'transit': 60},\n",
       " 23: {'gender': 1, 'group': 18, 'transit': 120},\n",
       " 24: {'gender': 0, 'group': 19, 'transit': inf},\n",
       " 25: {'gender': 0, 'group': 19, 'transit': inf},\n",
       " 26: {'gender': 1, 'group': 19, 'transit': inf},\n",
       " 27: {'gender': 1, 'group': 19, 'transit': inf},\n",
       " 28: {'gender': 0, 'group': 20, 'transit': 65},\n",
       " 29: {'gender': 0, 'group': 20, 'transit': 65},\n",
       " 30: {'gender': 1, 'group': 20, 'transit': 65},\n",
       " 31: {'gender': 1, 'group': 20, 'transit': 65},\n",
       " 32: {'gender': 0, 'group': 21, 'transit': inf},\n",
       " 33: {'gender': 0, 'group': 21, 'transit': inf},\n",
       " 34: {'gender': 0, 'group': 22, 'transit': 65},\n",
       " 35: {'gender': 0, 'group': 23, 'transit': 50},\n",
       " 36: {'gender': 1, 'group': 23, 'transit': 50},\n",
       " 37: {'gender': 0, 'group': 24, 'transit': inf},\n",
       " 38: {'gender': 1, 'group': 24, 'transit': inf},\n",
       " 39: {'gender': 1, 'group': 25, 'transit': 80},\n",
       " 40: {'gender': 1, 'group': 26, 'transit': inf},\n",
       " 41: {'gender': 1, 'group': 27, 'transit': inf},\n",
       " 42: {'gender': 1, 'group': 27, 'transit': inf},\n",
       " 43: {'gender': 1, 'group': 28, 'transit': 210},\n",
       " 44: {'gender': 0, 'group': 29, 'transit': 360},\n",
       " 45: {'gender': 1, 'group': 30, 'transit': 190},\n",
       " 46: {'gender': 0, 'group': 31, 'transit': 95},\n",
       " 47: {'gender': 1, 'group': 31, 'transit': 95},\n",
       " 48: {'gender': 1, 'group': 32, 'transit': inf},\n",
       " 49: {'gender': 1, 'group': 33, 'transit': 360},\n",
       " 50: {'gender': 0, 'group': 34, 'transit': 90},\n",
       " 51: {'gender': 1, 'group': 34, 'transit': 90},\n",
       " 52: {'gender': 0, 'group': 35, 'transit': 70},\n",
       " 53: {'gender': 1, 'group': 35, 'transit': 70},\n",
       " 54: {'gender': 0, 'group': 36, 'transit': inf},\n",
       " 55: {'gender': 1, 'group': 37, 'transit': 140},\n",
       " 56: {'gender': 1, 'group': 38, 'transit': 210},\n",
       " 57: {'gender': 0, 'group': 39, 'transit': 95},\n",
       " 58: {'gender': 1, 'group': 39, 'transit': 95},\n",
       " 59: {'gender': 1, 'group': 40, 'transit': 45},\n",
       " 60: {'gender': 1, 'group': 41, 'transit': inf},\n",
       " 61: {'gender': 1, 'group': 42, 'transit': inf},\n",
       " 62: {'gender': 1, 'group': 43, 'transit': inf},\n",
       " 63: {'gender': 1, 'group': 44, 'transit': inf},\n",
       " 64: {'gender': 0, 'group': 45, 'transit': inf},\n",
       " 65: {'gender': 1, 'group': 45, 'transit': inf},\n",
       " 66: {'gender': 1, 'group': 46, 'transit': 80},\n",
       " 67: {'gender': 1, 'group': 47, 'transit': 70},\n",
       " 68: {'gender': 0, 'group': 48, 'transit': 70},\n",
       " 69: {'gender': 1, 'group': 49, 'transit': inf},\n",
       " 70: {'gender': 0, 'group': 50, 'transit': inf},\n",
       " 71: {'gender': 0, 'group': 51, 'transit': inf},\n",
       " 72: {'gender': 1, 'group': 51, 'transit': inf},\n",
       " 73: {'gender': 0, 'group': 52, 'transit': 60},\n",
       " 74: {'gender': 0, 'group': 53, 'transit': 60},\n",
       " 75: {'gender': 0, 'group': 54, 'transit': inf},\n",
       " 76: {'gender': 0, 'group': 55, 'transit': inf},\n",
       " 77: {'gender': 1, 'group': 55, 'transit': inf},\n",
       " 78: {'gender': 0, 'group': 56, 'transit': inf},\n",
       " 79: {'gender': 1, 'group': 56, 'transit': inf},\n",
       " 80: {'gender': 0, 'group': 57, 'transit': 95},\n",
       " 81: {'gender': 1, 'group': 57, 'transit': 95},\n",
       " 82: {'gender': 1, 'group': 58, 'transit': inf},\n",
       " 83: {'gender': 0, 'group': 59, 'transit': 70},\n",
       " 84: {'gender': 1, 'group': 59, 'transit': 70},\n",
       " 85: {'gender': 0, 'group': 60, 'transit': 120},\n",
       " 86: {'gender': 0, 'group': 61, 'transit': inf},\n",
       " 87: {'gender': 1, 'group': 61, 'transit': inf},\n",
       " 88: {'gender': 1, 'group': 62, 'transit': inf},\n",
       " 89: {'gender': 0, 'group': 63, 'transit': 120},\n",
       " 90: {'gender': 1, 'group': 63, 'transit': 120},\n",
       " 91: {'gender': 1, 'group': 64, 'transit': 140},\n",
       " 92: {'gender': 0, 'group': 65, 'transit': inf},\n",
       " 93: {'gender': 0, 'group': 65, 'transit': inf},\n",
       " 94: {'gender': 1, 'group': 65, 'transit': inf},\n",
       " 95: {'gender': 0, 'group': 66, 'transit': 190},\n",
       " 96: {'gender': 1, 'group': 67, 'transit': inf},\n",
       " 97: {'gender': 0, 'group': 68, 'transit': inf},\n",
       " 98: {'gender': 1, 'group': 68, 'transit': inf},\n",
       " 99: {'gender': 1, 'group': 69, 'transit': inf},\n",
       " 100: {'gender': 0, 'group': 70, 'transit': inf},\n",
       " 101: {'gender': 0, 'group': 71, 'transit': 120},\n",
       " 102: {'gender': 1, 'group': 71, 'transit': 120},\n",
       " 103: {'gender': 0, 'group': 72, 'transit': inf},\n",
       " 104: {'gender': 1, 'group': 73, 'transit': 210},\n",
       " 105: {'gender': 1, 'group': 74, 'transit': 65},\n",
       " 106: {'gender': 1, 'group': 75, 'transit': 95},\n",
       " 107: {'gender': 0, 'group': 76, 'transit': 95},\n",
       " 108: {'gender': 0, 'group': 77, 'transit': 60},\n",
       " 109: {'gender': 1, 'group': 77, 'transit': 60},\n",
       " 110: {'gender': 1, 'group': 78, 'transit': 210},\n",
       " 111: {'gender': 1, 'group': 79, 'transit': inf},\n",
       " 112: {'gender': 1, 'group': 80, 'transit': 100},\n",
       " 113: {'gender': 1, 'group': 81, 'transit': 120},\n",
       " 114: {'gender': 1, 'group': 82, 'transit': 100},\n",
       " 115: {'gender': 1, 'group': 83, 'transit': 100},\n",
       " 116: {'gender': 1, 'group': 84, 'transit': 100},\n",
       " 117: {'gender': 1, 'group': 85, 'transit': 100},\n",
       " 118: {'gender': 1, 'group': 86, 'transit': 70},\n",
       " 119: {'gender': 0, 'group': 87, 'transit': 60},\n",
       " 120: {'gender': 1, 'group': 87, 'transit': 60},\n",
       " 121: {'gender': 0, 'group': 88, 'transit': inf},\n",
       " 122: {'gender': 0, 'group': 89, 'transit': 120},\n",
       " 123: {'gender': 0, 'group': 90, 'transit': inf},\n",
       " 124: {'gender': 1, 'group': 91, 'transit': 60},\n",
       " 125: {'gender': 0, 'group': 92, 'transit': inf},\n",
       " 126: {'gender': 1, 'group': 92, 'transit': inf},\n",
       " 127: {'gender': 1, 'group': 93, 'transit': inf},\n",
       " 128: {'gender': 1, 'group': 94, 'transit': inf},\n",
       " 129: {'gender': 0, 'group': 95, 'transit': 90},\n",
       " 130: {'gender': 1, 'group': 95, 'transit': 90},\n",
       " 131: {'gender': 0, 'group': 96, 'transit': 135},\n",
       " 132: {'gender': 1, 'group': 97, 'transit': 360},\n",
       " 133: {'gender': 1, 'group': 98, 'transit': inf},\n",
       " 134: {'gender': 1, 'group': 99, 'transit': 210},\n",
       " 135: {'gender': 0, 'group': 100, 'transit': inf},\n",
       " 136: {'gender': 0, 'group': 101, 'transit': inf},\n",
       " 137: {'gender': 1, 'group': 102, 'transit': 100},\n",
       " 138: {'gender': 0, 'group': 103, 'transit': 80},\n",
       " 139: {'gender': 1, 'group': 103, 'transit': 80},\n",
       " 140: {'gender': 0, 'group': 104, 'transit': inf},\n",
       " 141: {'gender': 1, 'group': 104, 'transit': inf},\n",
       " 142: {'gender': 0, 'group': 105, 'transit': 135},\n",
       " 143: {'gender': 1, 'group': 106, 'transit': 135},\n",
       " 144: {'gender': 0, 'group': 107, 'transit': 210},\n",
       " 145: {'gender': 0, 'group': 108, 'transit': 325},\n",
       " 146: {'gender': 0, 'group': 108, 'transit': 325},\n",
       " 147: {'gender': 0, 'group': 109, 'transit': 325},\n",
       " 148: {'gender': 0, 'group': 109, 'transit': 325},\n",
       " 149: {'gender': 0, 'group': 110, 'transit': 95},\n",
       " 150: {'gender': 0, 'group': 110, 'transit': 95},\n",
       " 151: {'gender': 1, 'group': 111, 'transit': 60}}"
      ]
     },
     "execution_count": 56,
     "metadata": {},
     "output_type": "execute_result"
    }
   ],
   "source": [
    "\n",
    "Passagers = dict()\n",
    "i = 1\n",
    "\n",
    "number_f = 0\n",
    "number_m = 0\n",
    "number_d = 0\n",
    "transit_times= set()\n",
    "for group in df.itertuples():\n",
    "    for j in range(2,5):\n",
    "        if not pd.isna(group[j]):\n",
    "            for k in range(int(group[j])):\n",
    "                Passagers[i] = {'gender': j-2, 'group':group[1], 'transit': float('inf') }\n",
    "                if group[5].hour*60 + group[5].minute != 0:\n",
    "                    Passagers[i]['transit'] = group[5].hour*60 + group[5].minute\n",
    "                    transit_times.add(group[5].hour*60 + group[5].minute)\n",
    "                if j == 2: number_f+=1\n",
    "                elif j==3: number_m+=1\n",
    "                else: number_d+=1\n",
    "\n",
    "                i+=1    \n",
    "Passagers"
   ]
  },
  {
   "cell_type": "code",
   "execution_count": 14,
   "metadata": {},
   "outputs": [
    {
     "data": {
      "text/plain": [
       "{1: [1],\n",
       " 2: [2],\n",
       " 3: [3],\n",
       " 4: [4],\n",
       " 5: [5, 6],\n",
       " 6: [7],\n",
       " 7: [8],\n",
       " 8: [9, 10],\n",
       " 9: [11],\n",
       " 10: [12],\n",
       " 11: [13, 14],\n",
       " 12: [15],\n",
       " 13: [16],\n",
       " 14: [17, 18],\n",
       " 15: [19],\n",
       " 16: [20],\n",
       " 17: [21, 22],\n",
       " 18: [23],\n",
       " 19: [24, 25, 26, 27],\n",
       " 20: [28, 29, 30, 31],\n",
       " 21: [32, 33],\n",
       " 22: [34],\n",
       " 23: [35, 36],\n",
       " 24: [37, 38],\n",
       " 25: [39],\n",
       " 26: [40],\n",
       " 27: [41, 42],\n",
       " 28: [43],\n",
       " 29: [44],\n",
       " 30: [45],\n",
       " 31: [46, 47],\n",
       " 32: [48],\n",
       " 33: [49],\n",
       " 34: [50, 51],\n",
       " 35: [52, 53],\n",
       " 36: [54],\n",
       " 37: [55],\n",
       " 38: [56],\n",
       " 39: [57, 58],\n",
       " 40: [59],\n",
       " 41: [60],\n",
       " 42: [61],\n",
       " 43: [62],\n",
       " 44: [63],\n",
       " 45: [64, 65],\n",
       " 46: [66],\n",
       " 47: [67],\n",
       " 48: [68],\n",
       " 49: [69],\n",
       " 50: [70],\n",
       " 51: [71, 72],\n",
       " 52: [73],\n",
       " 53: [74],\n",
       " 54: [75],\n",
       " 55: [76, 77],\n",
       " 56: [78, 79],\n",
       " 57: [80, 81],\n",
       " 58: [82],\n",
       " 59: [83, 84],\n",
       " 60: [85],\n",
       " 61: [86, 87],\n",
       " 62: [88],\n",
       " 63: [89, 90],\n",
       " 64: [91],\n",
       " 65: [92, 93, 94],\n",
       " 66: [95],\n",
       " 67: [96],\n",
       " 68: [97, 98],\n",
       " 69: [99],\n",
       " 70: [100],\n",
       " 71: [101, 102],\n",
       " 72: [103],\n",
       " 73: [104],\n",
       " 74: [105],\n",
       " 75: [106],\n",
       " 76: [107],\n",
       " 77: [108, 109],\n",
       " 78: [110],\n",
       " 79: [111],\n",
       " 80: [112],\n",
       " 81: [113],\n",
       " 82: [114],\n",
       " 83: [115],\n",
       " 84: [116],\n",
       " 85: [117],\n",
       " 86: [118],\n",
       " 87: [119, 120],\n",
       " 88: [121],\n",
       " 89: [122],\n",
       " 90: [123],\n",
       " 91: [124],\n",
       " 92: [125, 126],\n",
       " 93: [127],\n",
       " 94: [128],\n",
       " 95: [129, 130],\n",
       " 96: [131],\n",
       " 97: [132],\n",
       " 98: [133],\n",
       " 99: [134],\n",
       " 100: [135],\n",
       " 101: [136],\n",
       " 102: [137],\n",
       " 103: [138, 139],\n",
       " 104: [140, 141],\n",
       " 105: [142],\n",
       " 106: [143],\n",
       " 107: [144],\n",
       " 108: [145, 146],\n",
       " 109: [147, 148],\n",
       " 110: [149, 150],\n",
       " 111: [151]}"
      ]
     },
     "execution_count": 14,
     "metadata": {},
     "output_type": "execute_result"
    }
   ],
   "source": [
    "Groups = dict()\n",
    "\n",
    "for i, passager in Passagers.items():\n",
    "\n",
    "    if passager['group'] in Groups:\n",
    "        Groups[passager['group']].append(i)\n",
    "    else :\n",
    "        Groups[passager['group']] = [i]\n",
    "\n",
    "Groups"
   ]
  },
  {
   "cell_type": "markdown",
   "metadata": {},
   "source": [
    "## Model"
   ]
  },
  {
   "cell_type": "markdown",
   "metadata": {},
   "source": [
    "Defining the relevant variables of the problem"
   ]
  },
  {
   "cell_type": "code",
   "execution_count": 15,
   "metadata": {},
   "outputs": [
    {
     "name": "stdout",
     "output_type": "stream",
     "text": [
      "Set parameter Username\n",
      "Academic license - for non-commercial use only - expires 2025-02-04\n"
     ]
    }
   ],
   "source": [
    "\n",
    "m = Model(\"Seats_Allocation\")\n",
    "\n",
    "AssignmenVarDict = {(i, j, k) : m.addVar(vtype = GRB.BINARY, name=f'passager_{i}_{j}_{k}') for i in range(1, number_of_rows + 1) for j in range(1, number_of_columns + 1) for k in range(1, len(Passagers)+1)}"
   ]
  },
  {
   "cell_type": "markdown",
   "metadata": {},
   "source": [
    "The constraints"
   ]
  },
  {
   "cell_type": "markdown",
   "metadata": {},
   "source": [
    "- Every person has a seat"
   ]
  },
  {
   "cell_type": "code",
   "execution_count": 16,
   "metadata": {},
   "outputs": [],
   "source": [
    "SEATSASSIGNMENTCONST = m.addConstr(quicksum([AssignmenVarDict[(i, j, k)] for i in range(1, number_of_rows + 1) for j in range(1, number_of_columns + 1) for k in range(1,len(Passagers)+1)]) == len(Passagers))\n"
   ]
  },
  {
   "cell_type": "markdown",
   "metadata": {},
   "source": [
    "- Every person has one seat"
   ]
  },
  {
   "cell_type": "code",
   "execution_count": 17,
   "metadata": {},
   "outputs": [],
   "source": [
    "PERSONSEATCONSTDIC = { k: m.addConstr(quicksum([AssignmenVarDict[(i, j, k)] for i in range(1, number_of_rows + 1) for j in range(1, number_of_columns + 1) ]) == 1) for k in range(1,len(Passagers)+1) }"
   ]
  },
  {
   "cell_type": "markdown",
   "metadata": {},
   "source": [
    "- Every seat is allocated to a single person"
   ]
  },
  {
   "cell_type": "code",
   "execution_count": 18,
   "metadata": {},
   "outputs": [],
   "source": [
    "ALLOCATIONCONSTDIC = { (i,j) : m.addConstr(quicksum([AssignmenVarDict[(i,j,k)] for k in range(1, len(Passagers)+1)])<=1) for i in range(1, number_of_rows + 1) for j in range(1, number_of_columns+1)  }"
   ]
  },
  {
   "cell_type": "markdown",
   "metadata": {},
   "source": [
    "- Barycenter constraint"
   ]
  },
  {
   "cell_type": "code",
   "execution_count": 19,
   "metadata": {},
   "outputs": [],
   "source": [
    "\n",
    "i_m = quicksum([weight_m * i* AssignmenVarDict[(i,j,k)] for i in range(1, number_of_rows+1) for j in range(1, number_of_columns+1 ) for k in range(1, len(Passagers)+1) if Passagers[k]['gender']==1])\n",
    "i_f = quicksum([weight_m * i* AssignmenVarDict[(i,j,k)] for i in range(1, number_of_rows+1) for j in range(1, number_of_columns+1 ) for k in range(1, len(Passagers)+1) if Passagers[k]['gender']==0])\n",
    "i_d = quicksum([weight_m * i* AssignmenVarDict[(i,j,k)] for i in range(1, number_of_rows+1) for j in range(1, number_of_columns+1 ) for k in range(1, len(Passagers)+1) if Passagers[k]['gender']==2])\n",
    "\n",
    "i_bary = (i_m + i_f +i_d)/( weight_d* number_d + weight_f * number_f + weight_m * number_m)\n",
    "\n",
    "j_m = quicksum([weight_m * j* AssignmenVarDict[(i,j,k)] for i in range(1, number_of_rows+1) for j in range(1, number_of_columns+1 ) for k in range(1, len(Passagers)+1) if Passagers[k]['gender']==1])\n",
    "j_f = quicksum([weight_m * j* AssignmenVarDict[(i,j,k)] for i in range(1, number_of_rows+1) for j in range(1, number_of_columns+1 ) for k in range(1, len(Passagers)+1) if Passagers[k]['gender']==0])\n",
    "j_d = quicksum([weight_m * j* AssignmenVarDict[(i,j,k)] for i in range(1, number_of_rows+1) for j in range(1, number_of_columns+1 ) for k in range(1, len(Passagers)+1) if Passagers[k]['gender']==2])\n",
    "\n",
    "j_bary = (j_m + j_f + j_d)/( weight_d* number_d + weight_f * number_f + weight_m * number_m)"
   ]
  },
  {
   "cell_type": "code",
   "execution_count": 20,
   "metadata": {},
   "outputs": [],
   "source": [
    "IMAXBARYCONST = m.addConstr(i_bary <= 17)\n",
    "IMINBARYCONST = m.addConstr(13 <= i_bary)\n",
    "JMAXBARYCONST = m.addConstr(j_bary <= 4)\n",
    "JMINBARYCONST = m.addConstr(3 <= j_bary )"
   ]
  },
  {
   "cell_type": "markdown",
   "metadata": {},
   "source": [
    "- A disabeled person has 4 seats on the aisle side"
   ]
  },
  {
   "cell_type": "code",
   "execution_count": null,
   "metadata": {},
   "outputs": [],
   "source": [
    "## TO DO"
   ]
  },
  {
   "cell_type": "markdown",
   "metadata": {},
   "source": [
    "## Objectif"
   ]
  },
  {
   "cell_type": "markdown",
   "metadata": {},
   "source": [
    "- Transit time"
   ]
  },
  {
   "cell_type": "code",
   "execution_count": 21,
   "metadata": {},
   "outputs": [],
   "source": [
    "grouping = quicksum( [ AssignmenVarDict[(i,j,k)]* i*(1/Passagers[k]['transit']) for i in range(1, number_of_rows+1) for j in range(1, number_of_columns+1 ) for k in range(1, len(Passagers)+1) if Passagers[k]['transit'] != float('inf') ])\n",
    "\n",
    "m.setObjective(grouping, GRB.MINIMIZE)\n",
    "\n",
    "m.params.outputflag = 0 \n",
    "\n",
    "m.update()"
   ]
  },
  {
   "cell_type": "markdown",
   "metadata": {},
   "source": [
    "- Grouping"
   ]
  },
  {
   "cell_type": "code",
   "execution_count": null,
   "metadata": {},
   "outputs": [],
   "source": [
    "## TO DO"
   ]
  },
  {
   "cell_type": "markdown",
   "metadata": {},
   "source": [
    "## Optimisation"
   ]
  },
  {
   "cell_type": "code",
   "execution_count": 22,
   "metadata": {},
   "outputs": [
    {
     "name": "stdout",
     "output_type": "stream",
     "text": [
      "                                                   z* = 5.68                                                    \n",
      "\n"
     ]
    }
   ],
   "source": [
    "\n",
    "m.optimize()\n",
    "\n",
    "\n",
    "if m.status == GRB.INF_OR_UNBD:\n",
    "    m.setParam(GRB.Param.Presolve, 0)\n",
    "    m.optimize()\n",
    "\n",
    "if m.status == GRB.INFEASIBLE:\n",
    "    print(m.display(), \"\\n\\tN'THERE IS NO SOLUTION!!!\")\n",
    "elif m.status == GRB.UNBOUNDED:\n",
    "    print(m.display(), \"\\n\\tNOT BOUNDED!!!\")\n",
    "else:\n",
    "    print(f'z* = {round(m.objVal, 2)}'.center(8*14))\n",
    "\n",
    "print()"
   ]
  },
  {
   "cell_type": "code",
   "execution_count": 59,
   "metadata": {},
   "outputs": [],
   "source": [
    "def generate_red_gradations(num_gradations):\n",
    "    gradations = []\n",
    "    for i in range(num_gradations):\n",
    "        # Calculate the intensity of red from 0 to 255\n",
    "        red_intensity = int(255 * i / (num_gradations - 1))\n",
    "        # Format the color value as hexadecimal\n",
    "        color_value = \"#{:02X}0000\".format(red_intensity)\n",
    "        gradations.append(color_value)\n",
    "    return gradations\n",
    "graduation = generate_red_gradations(len(transit_times))\n",
    "transit_times = list(transit_times)\n",
    "transit_times.sort()"
   ]
  },
  {
   "cell_type": "code",
   "execution_count": 60,
   "metadata": {},
   "outputs": [
    {
     "data": {
      "text/plain": [
       "[45,\n",
       " 50,\n",
       " 60,\n",
       " 65,\n",
       " 70,\n",
       " 75,\n",
       " 80,\n",
       " 90,\n",
       " 95,\n",
       " 100,\n",
       " 120,\n",
       " 135,\n",
       " 140,\n",
       " 190,\n",
       " 210,\n",
       " 235,\n",
       " 325,\n",
       " 360]"
      ]
     },
     "execution_count": 60,
     "metadata": {},
     "output_type": "execute_result"
    }
   ],
   "source": [
    "transit_times"
   ]
  },
  {
   "cell_type": "code",
   "execution_count": 61,
   "metadata": {},
   "outputs": [],
   "source": [
    "color_transit = dict()\n",
    "for i in range(len(transit_times)):\n",
    "    color_transit[transit_times[i]] = graduation[i]"
   ]
  },
  {
   "cell_type": "code",
   "execution_count": 66,
   "metadata": {},
   "outputs": [],
   "source": [
    "data1 = [['Empty' for _ in range(number_of_columns//2)] for _ in range(number_of_rows)]\n",
    "data2 = [['Empty' for _ in range(number_of_columns//2)] for _ in range(number_of_rows)]\n",
    "\n",
    "colors1 = [['#000000' for _ in range(number_of_columns//2)] for _ in range(number_of_rows)]\n",
    "colors2 = [['#000000' for _ in range(number_of_columns//2)] for _ in range(number_of_rows)]\n",
    "\n",
    "for i in range(1, number_of_rows + 1):\n",
    "    for j in range(1, number_of_columns + 1):\n",
    "        for k in range(1, len(Passagers) + 1):\n",
    "            if AssignmenVarDict[(i,j,k)].x == 1:\n",
    "                if j<4:\n",
    "                    data1[i-1][j-1] = k\n",
    "                    if Passagers[k]['transit']!=float('inf'): colors1[i-1][j-1] = color_transit[Passagers[k]['transit']]\n",
    "                else:\n",
    "                    data2[i-1][j-4] = k\n",
    "                    if Passagers[k]['transit']!=float('inf'): colors2[i-1][j-4] = color_transit[Passagers[k]['transit']]"
   ]
  },
  {
   "cell_type": "code",
   "execution_count": 67,
   "metadata": {},
   "outputs": [
    {
     "data": {
      "image/png": "[encoded data removed]",
      "text/plain": [
       "<Figure size 640x480 with 2 Axes>"
      ]
     },
     "metadata": {},
     "output_type": "display_data"
    }
   ],
   "source": [
    "\n",
    "def create_table(ax, data, colors):\n",
    "    ax.set_axis_off()\n",
    "    table = Table(ax, bbox=[0, 0, 1, 2])\n",
    "    rows, cols = len(data), len(data[0])\n",
    "    width, height = 100 , 100 \n",
    "\n",
    "\n",
    "    for i in range(rows):\n",
    "        for j in range(cols):\n",
    "            table.add_cell(i, j, width, height, text=data[i][j], loc='center', facecolor=colors[i][j])\n",
    "\n",
    "    ax.add_table(table)\n",
    "\n",
    "\n",
    "fig, (ax1, ax2) = plt.subplots(1, 2)\n",
    "\n",
    "create_table(ax1, data1, colors1)\n",
    "create_table(ax2, data2, colors2)\n",
    "\n",
    "\n",
    "ax1.annotate('Aisle', xy=(1, 1), xytext=(1.25, 1),\n",
    "             textcoords='axes fraction', ha='center', va='center', color='red', fontsize=14)\n",
    "\n",
    "plt.subplots_adjust(wspace=0.5)\n",
    "\n",
    "plt.show()"
   ]
  }
 ],
 "metadata": {
  "kernelspec": {
   "display_name": "Python 3",
   "language": "python",
   "name": "python3"
  },
  "language_info": {
   "codemirror_mode": {
    "name": "ipython",
    "version": 3
   },
   "file_extension": ".py",
   "mimetype": "text/x-python",
   "name": "python",
   "nbconvert_exporter": "python",
   "pygments_lexer": "ipython3",
   "version": "3.11.0"
  }
 },
 "nbformat": 4,
 "nbformat_minor": 2
}
